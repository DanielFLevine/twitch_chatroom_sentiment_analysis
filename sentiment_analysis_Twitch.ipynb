{
  "nbformat": 4,
  "nbformat_minor": 0,
  "metadata": {
    "colab": {
      "provenance": [],
      "toc_visible": true,
      "machine_shape": "hm"
    },
    "kernelspec": {
      "name": "python3",
      "display_name": "Python 3"
    },
    "accelerator": "GPU"
  },
  "cells": [
    {
      "cell_type": "markdown",
      "metadata": {
        "id": "dsV0PaId6K_y"
      },
      "source": [
        "# Pog/Kappa Meter\n",
        "\n",
        "The aim of this project is to provide a \"Pog vs Kappa\" comparison for each streamer's channel over a given period of time and use these labels to analyze sentiment. Emotes of type \"Pog\" correspond to excitement, whereas \"Kappa\" corresponds to sarcasm. We can think of these emotes as measure of enjoyment versus playfulness for a streamer's channel. Ideally, we would be able to measure sentiment by capturing emotes that show enjoyment, but sometimes emotes are used sarcastically. For example, it is not uncommon to see both of the following comments:\n",
        "> First place! PogChamp\n",
        "\n",
        "> Last place! PogChamp\n",
        "\n",
        "Clearly, the last comment is sarcastic. In order to account for this, we measure the \"troll-y-ness\" of the channel.\n",
        "\n",
        "Once we create a model to predict the emotes, we will evaluate the sentiment of chatrooms by counting appearances of emotes explicity written in messages as well as classifying text without emotes using our neural network.\n",
        "\n",
        "The main difficulty in building a sentiment classifier for chat room messages is the noisiness of the data. There are several grammatical errors, \"trolling\" messages, spam messages, and sarcastic messages. Our model makes a first attempt at building a reasonable classifier, but it can be improved by further preprocessing and carefully selecting emote groups.\n",
        "\n",
        "## Table of Contents\n",
        "\n",
        "1. [Preprocessing](##preprocessing)\n",
        "2. [Embedding](##embedding)\n",
        "3. [Learning](##learning)\n",
        "4. [Sentiment Analysis](##sentiment)"
      ]
    },
    {
      "cell_type": "code",
      "metadata": {
        "id": "sY9IzbXkypnD",
        "colab": {
          "base_uri": "https://localhost:8080/"
        },
        "outputId": "320248bb-60c0-4a40-fc7c-504b5053d2a2"
      },
      "source": [
        "%tensorflow_version 2.x"
      ],
      "execution_count": null,
      "outputs": [
        {
          "output_type": "stream",
          "name": "stdout",
          "text": [
            "Colab only includes TensorFlow 2.x; %tensorflow_version has no effect.\n"
          ]
        }
      ]
    },
    {
      "cell_type": "code",
      "metadata": {
        "id": "TvkNgH2vyu6x",
        "outputId": "e2d81a68-0723-4700-dbba-46c2f5c7b0b4",
        "colab": {
          "base_uri": "https://localhost:8080/"
        }
      },
      "source": [
        "from google.colab import drive\n",
        "drive.mount('/content/drive')\n",
        "%cd /content/drive/My\\ Drive/"
      ],
      "execution_count": null,
      "outputs": [
        {
          "output_type": "stream",
          "name": "stdout",
          "text": [
            "Mounted at /content/drive\n",
            "/content/drive/My Drive\n"
          ]
        }
      ]
    },
    {
      "cell_type": "code",
      "metadata": {
        "id": "FBDOI7e6G80X"
      },
      "source": [
        "import pandas as pd\n",
        "import os\n",
        "import string\n",
        "import re\n",
        "import requests\n",
        "import json\n",
        "import twokenize\n",
        "import pickle\n",
        "import numpy as np\n",
        "from datetime import datetime"
      ],
      "execution_count": null,
      "outputs": []
    },
    {
      "cell_type": "markdown",
      "metadata": {
        "id": "07uxQzO8-Avh"
      },
      "source": [
        "### Preprocessing\n",
        "\n",
        "In order to properly train our data, we will need to combine the 52 pickled data sets into one large data set, which is over 12 GB. Since the size is too large for memory, we will have to preprocess each data set individually, and preprocess chunks of the individual data sets themselves when they are too large. To carry this out, we saved our pickled files as csv files since ```pandas``` can read csv files piece by piece, whereas pickled files cannot be read in this way. (In the end, this was unnecessary, but we chose to save our files to csv anyway.)\n",
        "\n",
        "The goal of our preprocessing step is to filter unwanted messages while also labeling the messages according to the emotes used. We first load in our list of streamers, which were obtained manually. They are listed by size in descending order."
      ]
    },
    {
      "cell_type": "code",
      "metadata": {
        "id": "upjHiR-VSCbW",
        "outputId": "73f40625-985a-4cb1-de19-df6b0d42ab7d",
        "colab": {
          "base_uri": "https://localhost:8080/"
        }
      },
      "source": [
        "streamers = pickle.load(open(\"streamers.pkl\", \"rb\"))\n",
        "streamers[:5]"
      ],
      "execution_count": null,
      "outputs": [
        {
          "output_type": "execute_result",
          "data": {
            "text/plain": [
              "['sodapoppin', 'shroud', 'lirik', 'moonmoon_ow', 'ninja']"
            ]
          },
          "metadata": {},
          "execution_count": 3
        }
      ]
    },
    {
      "cell_type": "markdown",
      "metadata": {
        "id": "BMXurfh6TdLK"
      },
      "source": [
        "We load the pickled files one by one, selecting only the columns that may be useful later on. This reduces the size of the data by 25%."
      ]
    },
    {
      "cell_type": "code",
      "metadata": {
        "id": "-myENd7MR_H1",
        "colab": {
          "base_uri": "https://localhost:8080/"
        },
        "outputId": "6631358d-e45b-48cc-bbd7-16940e591fdb"
      },
      "source": [
        "for streamer in streamers:\n",
        "  print(streamer)\n",
        "  df = pd.read_pickle(streamer+'.pkl')\n",
        "  df = df.drop(columns=['updated_at', 'commenter_type', 'offset', 'video_id', 'commenter_id'])\n",
        "  df.to_csv(streamer + '_trim.csv')\n",
        "  del df"
      ],
      "execution_count": null,
      "outputs": [
        {
          "output_type": "stream",
          "name": "stdout",
          "text": [
            "sodapoppin\n"
          ]
        }
      ]
    },
    {
      "cell_type": "markdown",
      "metadata": {
        "id": "g6zVo6oXUDAO"
      },
      "source": [
        "Once we have trimmed the size our data set and saved the dataframes to csv files, we are ready to start preprocessing our data. We will create a function that preprocesses any dataframe given to it. Our goal is to remove any hyperlinks, non-ASCII characters, tokenize the data. We choose to leave punctuation in our text since there is some benefit for our models."
      ]
    },
    {
      "cell_type": "code",
      "metadata": {
        "id": "pTLkPfBVQhgR"
      },
      "source": [
        "def process_df(df):\n",
        "    df['body'] = df['body'].apply(lambda x: re.sub(\"http\\S+|[^\\x00-\\x7F]|\\@[a-zA-Z0-9]+\", \"\", str(x)))\n",
        "    df['body'] = df['body'].apply(lambda x: x.translate(x.maketrans('', '', string.punctuation)))\n",
        "    df['body'] = df['body'].apply(lambda x: x.lower())\n",
        "    df['tokens_body'] = df['body'].apply(lambda x: twokenize.tokenizeRawTweetText(x))\n",
        "    df['counts'] = df['tokens_body'].apply(lambda x: len(x))\n",
        "    df['u_counts'] = df['tokens_body'].apply(lambda x: len(set(x)))\n",
        "    \n",
        "    # Remove sentences with fewer than 5 unique words. We will apply a modified version of this filter again later on.\n",
        "    df = df[df['u_counts'] >= 5]\n",
        "    df['date'] = df['created_at'].apply(lambda x: datetime.strptime(datetime.strftime(x, '%Y %m %d %H'), '%Y %m %d %H'))\n",
        "    \n",
        "    return df[['date','body','tokens_body']]"
      ],
      "execution_count": null,
      "outputs": []
    },
    {
      "cell_type": "code",
      "metadata": {
        "id": "dbwLOwZ5VV2S",
        "outputId": "a6728868-d3aa-43d5-cfc1-3b4b7b9e5280",
        "colab": {
          "base_uri": "https://localhost:8080/",
          "height": 1000
        }
      },
      "source": [
        "for streamer in streamers:\n",
        "    df = pd.read_csv('trimmed_data/' + streamer + '_trim.csv', usecols=['body','created_at'], parse_dates=['created_at'])\n",
        "    df = process_df(df)\n",
        "    df.to_csv('lower_data/' + streamer +'_lower.csv')\n",
        "    print(streamer, \" processed.\")\n",
        "    del df"
      ],
      "execution_count": null,
      "outputs": [
        {
          "output_type": "stream",
          "text": [
            "/usr/local/lib/python3.6/dist-packages/ipykernel_launcher.py:11: SettingWithCopyWarning: \n",
            "A value is trying to be set on a copy of a slice from a DataFrame.\n",
            "Try using .loc[row_indexer,col_indexer] = value instead\n",
            "\n",
            "See the caveats in the documentation: https://pandas.pydata.org/pandas-docs/stable/user_guide/indexing.html#returning-a-view-versus-a-copy\n",
            "  # This is added back by InteractiveShellApp.init_path()\n"
          ],
          "name": "stderr"
        },
        {
          "output_type": "stream",
          "text": [
            "sodapoppin  processed.\n",
            "shroud  processed.\n",
            "lirik  processed.\n",
            "moonmoon_ow  processed.\n",
            "ninja  processed.\n",
            "forsen  processed.\n",
            "admiralbahroo  processed.\n",
            "nl_kripp  processed.\n",
            "xqcow  processed.\n",
            "loltyler1  processed.\n",
            "singsing  processed.\n",
            "maximilian_dood  processed.\n",
            "cohhcarnage  processed.\n",
            "dansgaming  processed.\n",
            "admiralbulldog  processed.\n",
            "b0aty  processed.\n",
            "nickmercs  processed.\n",
            "dafran  processed.\n",
            "imaqtpie  processed.\n",
            "sypherpk  processed.\n",
            "disguisedtoasths  processed.\n",
            "summit1g  processed.\n",
            "tsm_hamlinz  processed.\n",
            "giantwaffle  processed.\n",
            "joshog  processed.\n",
            "timthetatman  processed.\n",
            "thijshs  processed.\n",
            "drlupo  processed.\n",
            "goldglove  processed.\n",
            "quin69  processed.\n",
            "tsm_myth  processed.\n",
            "dakotaz  processed.\n",
            "highdistortion  processed.\n",
            "shiphtur  processed.\n",
            "voyboy  processed.\n",
            "xchocobars  processed.\n",
            "cryaotic  processed.\n",
            "aimbotcalvin  processed.\n",
            "chocotaco  processed.\n",
            "c9sneaky  processed.\n",
            "tsm_viss  processed.\n",
            "kinggothalion  processed.\n",
            "scarra  processed.\n",
            "iwilldominate  processed.\n",
            "tfue  processed.\n",
            "grimmmz  processed.\n",
            "kingrichard  processed.\n",
            "followgrubby  processed.\n",
            "p4wnyhof  processed.\n",
            "savjz  processed.\n",
            "sacriel  processed.\n",
            "bmkibler  processed.\n"
          ],
          "name": "stdout"
        }
      ]
    },
    {
      "cell_type": "markdown",
      "metadata": {
        "id": "G8jkF5TYWBW6"
      },
      "source": [
        "We will request the list of emotes from Twitch using an api. This can only be used to grab global emotes and streamer-specific emotes. Global emotes are not as popular as they once were, but still common enough that they should be used. Streamer-specific emotes are emotes accessible only to paid subscribers to a channel and are frequently used. The last group of emotes is obtained manually from [FrankerFaceZ](https://www.frankerfacez.com/emoticons/). These emotes are similar in function to the global emotes and have since replaced them. We only use the 100 most popular emotes used on Twitch.\n",
        "\n",
        "Emotes serve two purposes: \n",
        "\n",
        "*   They provide a way to label our data and classify sentiment, similar to techniques used for Twitter sentiment analysis. (See [Towards the Understanding of Gaming Audiences by Modeling Twitch Emotes](https://pdfs.semanticscholar.org/1260/f76d10ec66dda257070ce4dcdbab800ec501.pdf)).\n",
        "*   We will need to filter these emotes out of the so that our model cannot cheat, and also to filter out noise in our messages.\n",
        "\n"
      ]
    },
    {
      "cell_type": "code",
      "metadata": {
        "id": "EQbtX1Xsy8k5"
      },
      "source": [
        "# Get global emotes. Some have become less popular in favor of FrankerFace emotes.\n",
        "\n",
        "global_response = requests.get('https://api.twitch.tv/kraken/chat/emoticon_images?emotesets=0', headers={\n",
        "                               'Accept': 'application/vnd.twitchtv.v5+json', 'Client-ID': '4f7ls48eaq2lly25dyuiead8o5ydev'})\n",
        "json_data_global = json.loads(global_response.text)\n",
        "global_emotes = json_data_global.get('emoticon_sets').get('0')\n",
        "global_emotes = set([i.get(\"code\").lower() for i in global_emotes])"
      ],
      "execution_count": null,
      "outputs": []
    },
    {
      "cell_type": "code",
      "metadata": {
        "id": "6gN4IMTvy-45"
      },
      "source": [
        "# Function for grabbing emotes specific to a particular streamer. Only subscribers to the streamer's channel can use these.\n",
        "\n",
        "def streamer_emotes(streamer):\n",
        "    channel_ids = pickle.load(open('channel_ids.pkl', 'rb'))\n",
        "    response = requests.get('https://api.twitchemotes.com/api/v4/channels/' + channel_ids[streamer])\n",
        "    json_data = json.loads(response.text)\n",
        "    emotes = json_data.get(\"emotes\")\n",
        "    X = set([i.get(\"code\") for i in emotes])\n",
        "\n",
        "    return X"
      ],
      "execution_count": null,
      "outputs": []
    },
    {
      "cell_type": "code",
      "metadata": {
        "id": "qYxyVkS05LZJ"
      },
      "source": [
        "# Load top 96 FrankerFaceZ emotes.\n",
        "topffemotes = set([i.lower() for i in pickle.load(open('top100ffemotes.pkl', 'rb'))])\n"
      ],
      "execution_count": null,
      "outputs": []
    },
    {
      "cell_type": "markdown",
      "metadata": {
        "id": "6XmAJw-Q5qKR"
      },
      "source": [
        "In this final preprocessing step, we will label our data and filter emotes from our tokens. From here, we will be able to use these dataframes for our word embeddings."
      ]
    },
    {
      "cell_type": "code",
      "metadata": {
        "id": "QIrXIgDmy_WL"
      },
      "source": [
        "def process_tokens(streamer):\n",
        "  df = pd.read_csv('lower_data/' + streamer + '_lower.csv', parse_dates=['date'])\n",
        "\n",
        "  kappas = {'kapp', 'kappa', 'kappaclaus', 'kappapride', 'kappaross', 'kappawealth', 'kappu', 'keepo'}\n",
        "  pogs = {'poggers','pog','pogchamp','pogu','pogyou','pogey'}\n",
        "\n",
        "  X = global_emotes.union(streamer_emotes(streamer)).union(topffemotes)\n",
        "  df['tokens_body'] = df['tokens_body'].apply(lambda x: eval(x))\n",
        "  df['unique emotes'] = df['tokens_body'].apply(set)\n",
        "  df['unique emotes'] = df['unique emotes'].apply(lambda x: x.intersection(set(X)))\n",
        "\n",
        "  df['emote_counts'] = df['unique emotes'].apply(lambda x: len(x))\n",
        "  df_filt = df[df['emote_counts'] > 0]\n",
        "\n",
        "  df_filt['pog'] = df_filt['unique emotes'].apply(lambda x: 1 if len(x.intersection(pogs)) > 0 else 0)\n",
        "  df_filt['kappa'] = df_filt['unique emotes'].apply(lambda x: 1 if len(x.intersection(kappas)) > 0 else 0)\n",
        "  df_filt['mix'] = df_filt['pog'] + df_filt['kappa']\n",
        "  df['u'] = df['tokens_body'].apply(lambda x: len(set(x)))\n",
        "  df_filt = df_filt[df_filt['mix'] <= 1]\n",
        "  df_filt['other'] = df_filt['mix'].apply(lambda x: 1 if x == 0 else 0)\n",
        "\n",
        "  df_filt['tokens_minus_emotes'] = df_filt['tokens_body'].apply(lambda x: [i for i in x if i not in X])\n",
        "  df_filt['u'] = df_filt['tokens_minus_emotes'].apply(lambda x: len(set(x)))\n",
        "  df_filt = df_filt[df_filt['u'] >= 5]\n",
        "  df_filt = df_filt.drop_duplicates(subset=['body'])\n",
        "  df_filt['body_short'] = df_filt['tokens_minus_emotes'].apply(lambda x: ' '.join(x[:8]))\n",
        "  df_filt = df_filt.drop_duplicates(subset=['body_short'])\n",
        "\n",
        "  df_filt = df_filt[['date','tokens_minus_emotes','unique emotes','pog','kappa','other']]\n",
        "  df_filt.to_csv('lower_processed/' + streamer + '_lowerproc.csv')"
      ],
      "execution_count": null,
      "outputs": []
    },
    {
      "cell_type": "code",
      "metadata": {
        "id": "XgxwQPMBy_qn",
        "outputId": "fba8d7a9-2db7-409c-df39-ed6c2a5f7eb6",
        "colab": {
          "base_uri": "https://localhost:8080/",
          "height": 1000
        }
      },
      "source": [
        "streamers = pickle.load(open(\"streamers.pkl\", \"rb\"))\n",
        "for streamer in streamers:\n",
        "  process_tokens(streamer)\n",
        "  print(streamer + \" processed.\")"
      ],
      "execution_count": null,
      "outputs": [
        {
          "output_type": "stream",
          "text": [
            "/usr/local/lib/python3.6/dist-packages/ipykernel_launcher.py:15: SettingWithCopyWarning: \n",
            "A value is trying to be set on a copy of a slice from a DataFrame.\n",
            "Try using .loc[row_indexer,col_indexer] = value instead\n",
            "\n",
            "See the caveats in the documentation: https://pandas.pydata.org/pandas-docs/stable/user_guide/indexing.html#returning-a-view-versus-a-copy\n",
            "  from ipykernel import kernelapp as app\n",
            "/usr/local/lib/python3.6/dist-packages/ipykernel_launcher.py:16: SettingWithCopyWarning: \n",
            "A value is trying to be set on a copy of a slice from a DataFrame.\n",
            "Try using .loc[row_indexer,col_indexer] = value instead\n",
            "\n",
            "See the caveats in the documentation: https://pandas.pydata.org/pandas-docs/stable/user_guide/indexing.html#returning-a-view-versus-a-copy\n",
            "  app.launch_new_instance()\n",
            "/usr/local/lib/python3.6/dist-packages/ipykernel_launcher.py:17: SettingWithCopyWarning: \n",
            "A value is trying to be set on a copy of a slice from a DataFrame.\n",
            "Try using .loc[row_indexer,col_indexer] = value instead\n",
            "\n",
            "See the caveats in the documentation: https://pandas.pydata.org/pandas-docs/stable/user_guide/indexing.html#returning-a-view-versus-a-copy\n"
          ],
          "name": "stderr"
        },
        {
          "output_type": "stream",
          "text": [
            "sodapoppin processed.\n",
            "shroud processed.\n",
            "lirik processed.\n",
            "moonmoon_ow processed.\n",
            "ninja processed.\n",
            "forsen processed.\n",
            "admiralbahroo processed.\n",
            "nl_kripp processed.\n",
            "xqcow processed.\n",
            "loltyler1 processed.\n",
            "singsing processed.\n",
            "maximilian_dood processed.\n",
            "cohhcarnage processed.\n",
            "dansgaming processed.\n",
            "admiralbulldog processed.\n",
            "b0aty processed.\n",
            "nickmercs processed.\n",
            "dafran processed.\n",
            "imaqtpie processed.\n",
            "sypherpk processed.\n",
            "disguisedtoasths processed.\n",
            "summit1g processed.\n",
            "tsm_hamlinz processed.\n",
            "giantwaffle processed.\n",
            "joshog processed.\n",
            "timthetatman processed.\n",
            "thijshs processed.\n",
            "drlupo processed.\n",
            "goldglove processed.\n",
            "quin69 processed.\n",
            "tsm_myth processed.\n",
            "dakotaz processed.\n",
            "highdistortion processed.\n",
            "shiphtur processed.\n",
            "voyboy processed.\n",
            "xchocobars processed.\n",
            "cryaotic processed.\n",
            "aimbotcalvin processed.\n",
            "chocotaco processed.\n",
            "c9sneaky processed.\n",
            "tsm_viss processed.\n",
            "kinggothalion processed.\n",
            "scarra processed.\n",
            "iwilldominate processed.\n",
            "tfue processed.\n",
            "grimmmz processed.\n",
            "kingrichard processed.\n",
            "followgrubby processed.\n",
            "p4wnyhof processed.\n",
            "savjz processed.\n",
            "sacriel processed.\n",
            "bmkibler processed.\n"
          ],
          "name": "stdout"
        }
      ]
    },
    {
      "cell_type": "markdown",
      "metadata": {
        "id": "3bT1zzVHbSo3"
      },
      "source": [
        "## Embeddings\n",
        "\n",
        "The inputs for our neural network must be ```numpy``` arrays, so we will need to use word embeddings to vectorize our inputs. While we can train our own embedding layer in ```keras```, we find that better performance can be obtained using pre-trained embedding models.\n",
        "\n",
        "One of the most common embedding models for NLP tasks is Google's Word2Vec. However, Word2Vec does not handle mispellings well, which can be an issue for processing chat room messages. Facebook's fastText is a more general model that learns character n-grams along with the word embedding as in Word2Vec. We will use fastText through the ```gluonnlp``` package.\n",
        "\n",
        "We load in our data from the preprocessing stage."
      ]
    },
    {
      "cell_type": "code",
      "metadata": {
        "id": "86NM-oXSy_8g",
        "outputId": "a943accd-670a-484f-fd13-088d83b87287",
        "colab": {
          "base_uri": "https://localhost:8080/",
          "height": 468
        }
      },
      "source": [
        "streamers = pickle.load(open(\"streamers.pkl\", \"rb\"))\n",
        "df = pd.DataFrame()\n",
        "for streamer in streamers:\n",
        "  df_temp = pd.read_csv('lower_processed/' + streamer + '_lowerproc.csv', parse_dates=['date'])\n",
        "  df = pd.concat([df,df_temp])\n",
        "df"
      ],
      "execution_count": null,
      "outputs": [
        {
          "output_type": "execute_result",
          "data": {
            "text/plain": [
              "      Unnamed: 0                date  \\\n",
              "0              5 2018-05-20 20:00:00   \n",
              "1              6 2018-05-20 20:00:00   \n",
              "2              8 2018-05-20 20:00:00   \n",
              "3             11 2018-05-20 20:00:00   \n",
              "4             35 2018-05-20 20:00:00   \n",
              "...          ...                 ...   \n",
              "5610       50146 2018-06-22 00:00:00   \n",
              "5611       50154 2018-06-22 00:00:00   \n",
              "5612       50170 2018-06-22 00:00:00   \n",
              "5613       50181 2018-06-22 00:00:00   \n",
              "5614       50188 2018-06-22 01:00:00   \n",
              "\n",
              "                                    tokens_minus_emotes     unique emotes  \\\n",
              "0     ['vod', 'frogs', 'whisper', 'me', 'if', 'you',...       {'heyguys'}   \n",
              "1     ['hurry', 'up', 'with', 'your', 'jerking', 'he...           {'pog'}   \n",
              "2     ['its', 'still', 'hosting', 'forsen', 'for', '...        {'monkas'}   \n",
              "3            ['hey', 'myself', 'on', 'stream', 'sodah']           {'pog'}   \n",
              "4     ['vod', 'grills', 'hit', 'me', 'up', 'vod', 'g...      {'kreygasm'}   \n",
              "...                                                 ...               ...   \n",
              "5610  ['still', 'playing', 'this', 'deck', 'with', '...  {'feelsgoodman'}   \n",
              "5611  ['if', 'only', 'i', 'could', 'hit', 'the', 'el...   {'feelsbadman'}   \n",
              "5612       ['thatll', 'be', 'it', 'for', 'me', 'today']   {'feelsbadman'}   \n",
              "5613      ['type', '1', 'if', 'you', 'would', 'kibler']    {'kappapride'}   \n",
              "5614                ['but', 'i', 'just', 'got', 'here']     {'pepehands'}   \n",
              "\n",
              "      pog  kappa  other  \n",
              "0       0      0      1  \n",
              "1       1      0      0  \n",
              "2       0      0      1  \n",
              "3       1      0      0  \n",
              "4       0      0      1  \n",
              "...   ...    ...    ...  \n",
              "5610    0      0      1  \n",
              "5611    0      0      1  \n",
              "5612    0      0      1  \n",
              "5613    0      1      0  \n",
              "5614    0      0      1  \n",
              "\n",
              "[1532318 rows x 7 columns]"
            ],
            "text/html": [
              "\n",
              "  <div id=\"df-4e1ee695-31b4-4fa4-9109-07d2e7ca7b58\">\n",
              "    <div class=\"colab-df-container\">\n",
              "      <div>\n",
              "<style scoped>\n",
              "    .dataframe tbody tr th:only-of-type {\n",
              "        vertical-align: middle;\n",
              "    }\n",
              "\n",
              "    .dataframe tbody tr th {\n",
              "        vertical-align: top;\n",
              "    }\n",
              "\n",
              "    .dataframe thead th {\n",
              "        text-align: right;\n",
              "    }\n",
              "</style>\n",
              "<table border=\"1\" class=\"dataframe\">\n",
              "  <thead>\n",
              "    <tr style=\"text-align: right;\">\n",
              "      <th></th>\n",
              "      <th>Unnamed: 0</th>\n",
              "      <th>date</th>\n",
              "      <th>tokens_minus_emotes</th>\n",
              "      <th>unique emotes</th>\n",
              "      <th>pog</th>\n",
              "      <th>kappa</th>\n",
              "      <th>other</th>\n",
              "    </tr>\n",
              "  </thead>\n",
              "  <tbody>\n",
              "    <tr>\n",
              "      <th>0</th>\n",
              "      <td>5</td>\n",
              "      <td>2018-05-20 20:00:00</td>\n",
              "      <td>['vod', 'frogs', 'whisper', 'me', 'if', 'you',...</td>\n",
              "      <td>{'heyguys'}</td>\n",
              "      <td>0</td>\n",
              "      <td>0</td>\n",
              "      <td>1</td>\n",
              "    </tr>\n",
              "    <tr>\n",
              "      <th>1</th>\n",
              "      <td>6</td>\n",
              "      <td>2018-05-20 20:00:00</td>\n",
              "      <td>['hurry', 'up', 'with', 'your', 'jerking', 'he...</td>\n",
              "      <td>{'pog'}</td>\n",
              "      <td>1</td>\n",
              "      <td>0</td>\n",
              "      <td>0</td>\n",
              "    </tr>\n",
              "    <tr>\n",
              "      <th>2</th>\n",
              "      <td>8</td>\n",
              "      <td>2018-05-20 20:00:00</td>\n",
              "      <td>['its', 'still', 'hosting', 'forsen', 'for', '...</td>\n",
              "      <td>{'monkas'}</td>\n",
              "      <td>0</td>\n",
              "      <td>0</td>\n",
              "      <td>1</td>\n",
              "    </tr>\n",
              "    <tr>\n",
              "      <th>3</th>\n",
              "      <td>11</td>\n",
              "      <td>2018-05-20 20:00:00</td>\n",
              "      <td>['hey', 'myself', 'on', 'stream', 'sodah']</td>\n",
              "      <td>{'pog'}</td>\n",
              "      <td>1</td>\n",
              "      <td>0</td>\n",
              "      <td>0</td>\n",
              "    </tr>\n",
              "    <tr>\n",
              "      <th>4</th>\n",
              "      <td>35</td>\n",
              "      <td>2018-05-20 20:00:00</td>\n",
              "      <td>['vod', 'grills', 'hit', 'me', 'up', 'vod', 'g...</td>\n",
              "      <td>{'kreygasm'}</td>\n",
              "      <td>0</td>\n",
              "      <td>0</td>\n",
              "      <td>1</td>\n",
              "    </tr>\n",
              "    <tr>\n",
              "      <th>...</th>\n",
              "      <td>...</td>\n",
              "      <td>...</td>\n",
              "      <td>...</td>\n",
              "      <td>...</td>\n",
              "      <td>...</td>\n",
              "      <td>...</td>\n",
              "      <td>...</td>\n",
              "    </tr>\n",
              "    <tr>\n",
              "      <th>5610</th>\n",
              "      <td>50146</td>\n",
              "      <td>2018-06-22 00:00:00</td>\n",
              "      <td>['still', 'playing', 'this', 'deck', 'with', '...</td>\n",
              "      <td>{'feelsgoodman'}</td>\n",
              "      <td>0</td>\n",
              "      <td>0</td>\n",
              "      <td>1</td>\n",
              "    </tr>\n",
              "    <tr>\n",
              "      <th>5611</th>\n",
              "      <td>50154</td>\n",
              "      <td>2018-06-22 00:00:00</td>\n",
              "      <td>['if', 'only', 'i', 'could', 'hit', 'the', 'el...</td>\n",
              "      <td>{'feelsbadman'}</td>\n",
              "      <td>0</td>\n",
              "      <td>0</td>\n",
              "      <td>1</td>\n",
              "    </tr>\n",
              "    <tr>\n",
              "      <th>5612</th>\n",
              "      <td>50170</td>\n",
              "      <td>2018-06-22 00:00:00</td>\n",
              "      <td>['thatll', 'be', 'it', 'for', 'me', 'today']</td>\n",
              "      <td>{'feelsbadman'}</td>\n",
              "      <td>0</td>\n",
              "      <td>0</td>\n",
              "      <td>1</td>\n",
              "    </tr>\n",
              "    <tr>\n",
              "      <th>5613</th>\n",
              "      <td>50181</td>\n",
              "      <td>2018-06-22 00:00:00</td>\n",
              "      <td>['type', '1', 'if', 'you', 'would', 'kibler']</td>\n",
              "      <td>{'kappapride'}</td>\n",
              "      <td>0</td>\n",
              "      <td>1</td>\n",
              "      <td>0</td>\n",
              "    </tr>\n",
              "    <tr>\n",
              "      <th>5614</th>\n",
              "      <td>50188</td>\n",
              "      <td>2018-06-22 01:00:00</td>\n",
              "      <td>['but', 'i', 'just', 'got', 'here']</td>\n",
              "      <td>{'pepehands'}</td>\n",
              "      <td>0</td>\n",
              "      <td>0</td>\n",
              "      <td>1</td>\n",
              "    </tr>\n",
              "  </tbody>\n",
              "</table>\n",
              "<p>1532318 rows × 7 columns</p>\n",
              "</div>\n",
              "      <button class=\"colab-df-convert\" onclick=\"convertToInteractive('df-4e1ee695-31b4-4fa4-9109-07d2e7ca7b58')\"\n",
              "              title=\"Convert this dataframe to an interactive table.\"\n",
              "              style=\"display:none;\">\n",
              "        \n",
              "  <svg xmlns=\"http://www.w3.org/2000/svg\" height=\"24px\"viewBox=\"0 0 24 24\"\n",
              "       width=\"24px\">\n",
              "    <path d=\"M0 0h24v24H0V0z\" fill=\"none\"/>\n",
              "    <path d=\"M18.56 5.44l.94 2.06.94-2.06 2.06-.94-2.06-.94-.94-2.06-.94 2.06-2.06.94zm-11 1L8.5 8.5l.94-2.06 2.06-.94-2.06-.94L8.5 2.5l-.94 2.06-2.06.94zm10 10l.94 2.06.94-2.06 2.06-.94-2.06-.94-.94-2.06-.94 2.06-2.06.94z\"/><path d=\"M17.41 7.96l-1.37-1.37c-.4-.4-.92-.59-1.43-.59-.52 0-1.04.2-1.43.59L10.3 9.45l-7.72 7.72c-.78.78-.78 2.05 0 2.83L4 21.41c.39.39.9.59 1.41.59.51 0 1.02-.2 1.41-.59l7.78-7.78 2.81-2.81c.8-.78.8-2.07 0-2.86zM5.41 20L4 18.59l7.72-7.72 1.47 1.35L5.41 20z\"/>\n",
              "  </svg>\n",
              "      </button>\n",
              "      \n",
              "  <style>\n",
              "    .colab-df-container {\n",
              "      display:flex;\n",
              "      flex-wrap:wrap;\n",
              "      gap: 12px;\n",
              "    }\n",
              "\n",
              "    .colab-df-convert {\n",
              "      background-color: #E8F0FE;\n",
              "      border: none;\n",
              "      border-radius: 50%;\n",
              "      cursor: pointer;\n",
              "      display: none;\n",
              "      fill: #1967D2;\n",
              "      height: 32px;\n",
              "      padding: 0 0 0 0;\n",
              "      width: 32px;\n",
              "    }\n",
              "\n",
              "    .colab-df-convert:hover {\n",
              "      background-color: #E2EBFA;\n",
              "      box-shadow: 0px 1px 2px rgba(60, 64, 67, 0.3), 0px 1px 3px 1px rgba(60, 64, 67, 0.15);\n",
              "      fill: #174EA6;\n",
              "    }\n",
              "\n",
              "    [theme=dark] .colab-df-convert {\n",
              "      background-color: #3B4455;\n",
              "      fill: #D2E3FC;\n",
              "    }\n",
              "\n",
              "    [theme=dark] .colab-df-convert:hover {\n",
              "      background-color: #434B5C;\n",
              "      box-shadow: 0px 1px 3px 1px rgba(0, 0, 0, 0.15);\n",
              "      filter: drop-shadow(0px 1px 2px rgba(0, 0, 0, 0.3));\n",
              "      fill: #FFFFFF;\n",
              "    }\n",
              "  </style>\n",
              "\n",
              "      <script>\n",
              "        const buttonEl =\n",
              "          document.querySelector('#df-4e1ee695-31b4-4fa4-9109-07d2e7ca7b58 button.colab-df-convert');\n",
              "        buttonEl.style.display =\n",
              "          google.colab.kernel.accessAllowed ? 'block' : 'none';\n",
              "\n",
              "        async function convertToInteractive(key) {\n",
              "          const element = document.querySelector('#df-4e1ee695-31b4-4fa4-9109-07d2e7ca7b58');\n",
              "          const dataTable =\n",
              "            await google.colab.kernel.invokeFunction('convertToInteractive',\n",
              "                                                     [key], {});\n",
              "          if (!dataTable) return;\n",
              "\n",
              "          const docLinkHtml = 'Like what you see? Visit the ' +\n",
              "            '<a target=\"_blank\" href=https://colab.research.google.com/notebooks/data_table.ipynb>data table notebook</a>'\n",
              "            + ' to learn more about interactive tables.';\n",
              "          element.innerHTML = '';\n",
              "          dataTable['output_type'] = 'display_data';\n",
              "          await google.colab.output.renderOutput(dataTable, element);\n",
              "          const docLink = document.createElement('div');\n",
              "          docLink.innerHTML = docLinkHtml;\n",
              "          element.appendChild(docLink);\n",
              "        }\n",
              "      </script>\n",
              "    </div>\n",
              "  </div>\n",
              "  "
            ]
          },
          "metadata": {},
          "execution_count": 25
        }
      ]
    },
    {
      "cell_type": "code",
      "metadata": {
        "id": "oeCpNmADy_gp",
        "outputId": "ba15a706-8804-4d45-a95e-8cc5c1773fea",
        "colab": {
          "base_uri": "https://localhost:8080/"
        }
      },
      "source": [
        "# Frequency of labels in our data\n",
        "labels = ['pog','kappa','other']\n",
        "for label in labels:\n",
        "    print(df[label].sum())"
      ],
      "execution_count": null,
      "outputs": [
        {
          "output_type": "stream",
          "name": "stdout",
          "text": [
            "111219\n",
            "185448\n",
            "1235651\n"
          ]
        }
      ]
    },
    {
      "cell_type": "markdown",
      "metadata": {
        "id": "d6DKAIxScOva"
      },
      "source": [
        "As we can see, messages are more frequently not of \"pog\" or \"kappa\" type, so we will need to sample our data so our model does not learn to simply guess \"other\" for every message. Another alternative is to use SMOTE, but after experimentation we found undersampling data is better for performance.\n",
        "\n",
        "We will uniformize the length of our tokenized sentences to 12 tokens."
      ]
    },
    {
      "cell_type": "code",
      "metadata": {
        "id": "XQ6GNU5cy__f"
      },
      "source": [
        "df['tokens_minus_emotes'] = df['tokens_minus_emotes'].apply(lambda x: eval(x))\n",
        "df['pad_tokens'] = df['tokens_minus_emotes'].apply(lambda x: x[:12] if len(x) >= 12 else x+['']*(12-len(x)))"
      ],
      "execution_count": null,
      "outputs": []
    },
    {
      "cell_type": "markdown",
      "metadata": {
        "id": "M85sYH9_djVt"
      },
      "source": [
        "There are several choices for pre-trained fastText models, but we chose the default model due to size contraints."
      ]
    },
    {
      "cell_type": "code",
      "metadata": {
        "id": "YznsWXT7bpHW",
        "outputId": "8bb37f0e-9f54-4c6d-bcc8-d9d589bdafb1",
        "colab": {
          "base_uri": "https://localhost:8080/",
          "height": 601
        }
      },
      "source": [
        "!pip install gluonnlp\n",
        "!pip install mxnet"
      ],
      "execution_count": null,
      "outputs": [
        {
          "output_type": "stream",
          "text": [
            "Collecting gluonnlp\n",
            "\u001b[?25l  Downloading https://files.pythonhosted.org/packages/9c/81/a238e47ccba0d7a61dcef4e0b4a7fd4473cb86bed3d84dd4fe28d45a0905/gluonnlp-0.10.0.tar.gz (344kB)\n",
            "\r\u001b[K     |█                               | 10kB 23.4MB/s eta 0:00:01\r\u001b[K     |██                              | 20kB 1.7MB/s eta 0:00:01\r\u001b[K     |██▉                             | 30kB 2.4MB/s eta 0:00:01\r\u001b[K     |███▉                            | 40kB 3.2MB/s eta 0:00:01\r\u001b[K     |████▊                           | 51kB 2.0MB/s eta 0:00:01\r\u001b[K     |█████▊                          | 61kB 2.4MB/s eta 0:00:01\r\u001b[K     |██████▋                         | 71kB 2.8MB/s eta 0:00:01\r\u001b[K     |███████▋                        | 81kB 3.2MB/s eta 0:00:01\r\u001b[K     |████████▋                       | 92kB 2.4MB/s eta 0:00:01\r\u001b[K     |█████████▌                      | 102kB 2.7MB/s eta 0:00:01\r\u001b[K     |██████████▌                     | 112kB 2.7MB/s eta 0:00:01\r\u001b[K     |███████████▍                    | 122kB 2.7MB/s eta 0:00:01\r\u001b[K     |████████████▍                   | 133kB 2.7MB/s eta 0:00:01\r\u001b[K     |█████████████▎                  | 143kB 2.7MB/s eta 0:00:01\r\u001b[K     |██████████████▎                 | 153kB 2.7MB/s eta 0:00:01\r\u001b[K     |███████████████▏                | 163kB 2.7MB/s eta 0:00:01\r\u001b[K     |████████████████▏               | 174kB 2.7MB/s eta 0:00:01\r\u001b[K     |█████████████████▏              | 184kB 2.7MB/s eta 0:00:01\r\u001b[K     |██████████████████              | 194kB 2.7MB/s eta 0:00:01\r\u001b[K     |███████████████████             | 204kB 2.7MB/s eta 0:00:01\r\u001b[K     |████████████████████            | 215kB 2.7MB/s eta 0:00:01\r\u001b[K     |█████████████████████           | 225kB 2.7MB/s eta 0:00:01\r\u001b[K     |█████████████████████▉          | 235kB 2.7MB/s eta 0:00:01\r\u001b[K     |██████████████████████▉         | 245kB 2.7MB/s eta 0:00:01\r\u001b[K     |███████████████████████▉        | 256kB 2.7MB/s eta 0:00:01\r\u001b[K     |████████████████████████▊       | 266kB 2.7MB/s eta 0:00:01\r\u001b[K     |█████████████████████████▊      | 276kB 2.7MB/s eta 0:00:01\r\u001b[K     |██████████████████████████▋     | 286kB 2.7MB/s eta 0:00:01\r\u001b[K     |███████████████████████████▋    | 296kB 2.7MB/s eta 0:00:01\r\u001b[K     |████████████████████████████▌   | 307kB 2.7MB/s eta 0:00:01\r\u001b[K     |█████████████████████████████▌  | 317kB 2.7MB/s eta 0:00:01\r\u001b[K     |██████████████████████████████▍ | 327kB 2.7MB/s eta 0:00:01\r\u001b[K     |███████████████████████████████▍| 337kB 2.7MB/s eta 0:00:01\r\u001b[K     |████████████████████████████████| 348kB 2.7MB/s \n",
            "\u001b[?25hRequirement already satisfied: numpy>=1.16.0 in /usr/local/lib/python3.6/dist-packages (from gluonnlp) (1.18.5)\n",
            "Requirement already satisfied: cython in /usr/local/lib/python3.6/dist-packages (from gluonnlp) (0.29.21)\n",
            "Requirement already satisfied: packaging in /usr/local/lib/python3.6/dist-packages (from gluonnlp) (20.4)\n",
            "Requirement already satisfied: pyparsing>=2.0.2 in /usr/local/lib/python3.6/dist-packages (from packaging->gluonnlp) (2.4.7)\n",
            "Requirement already satisfied: six in /usr/local/lib/python3.6/dist-packages (from packaging->gluonnlp) (1.15.0)\n",
            "Building wheels for collected packages: gluonnlp\n",
            "  Building wheel for gluonnlp (setup.py) ... \u001b[?25l\u001b[?25hdone\n",
            "  Created wheel for gluonnlp: filename=gluonnlp-0.10.0-cp36-cp36m-linux_x86_64.whl size=588513 sha256=9780e4b80b60e92ce7b125e4dc801cda0ddcd5a32ee9a2a675252cd57ae8e271\n",
            "  Stored in directory: /root/.cache/pip/wheels/37/65/52/63032864a0f31a08b9a88569f803b5bafac8abd207fd7f7534\n",
            "Successfully built gluonnlp\n",
            "Installing collected packages: gluonnlp\n",
            "Successfully installed gluonnlp-0.10.0\n",
            "Collecting mxnet\n",
            "\u001b[?25l  Downloading https://files.pythonhosted.org/packages/29/bb/54cbabe428351c06d10903c658878d29ee7026efbe45133fd133598d6eb6/mxnet-1.7.0.post1-py2.py3-none-manylinux2014_x86_64.whl (55.0MB)\n",
            "\u001b[K     |████████████████████████████████| 55.0MB 56kB/s \n",
            "\u001b[?25hRequirement already satisfied: requests<3,>=2.20.0 in /usr/local/lib/python3.6/dist-packages (from mxnet) (2.23.0)\n",
            "Requirement already satisfied: numpy<2.0.0,>1.16.0 in /usr/local/lib/python3.6/dist-packages (from mxnet) (1.18.5)\n",
            "Collecting graphviz<0.9.0,>=0.8.1\n",
            "  Downloading https://files.pythonhosted.org/packages/53/39/4ab213673844e0c004bed8a0781a0721a3f6bb23eb8854ee75c236428892/graphviz-0.8.4-py2.py3-none-any.whl\n",
            "Requirement already satisfied: urllib3!=1.25.0,!=1.25.1,<1.26,>=1.21.1 in /usr/local/lib/python3.6/dist-packages (from requests<3,>=2.20.0->mxnet) (1.24.3)\n",
            "Requirement already satisfied: certifi>=2017.4.17 in /usr/local/lib/python3.6/dist-packages (from requests<3,>=2.20.0->mxnet) (2020.6.20)\n",
            "Requirement already satisfied: chardet<4,>=3.0.2 in /usr/local/lib/python3.6/dist-packages (from requests<3,>=2.20.0->mxnet) (3.0.4)\n",
            "Requirement already satisfied: idna<3,>=2.5 in /usr/local/lib/python3.6/dist-packages (from requests<3,>=2.20.0->mxnet) (2.10)\n",
            "Installing collected packages: graphviz, mxnet\n",
            "  Found existing installation: graphviz 0.10.1\n",
            "    Uninstalling graphviz-0.10.1:\n",
            "      Successfully uninstalled graphviz-0.10.1\n",
            "Successfully installed graphviz-0.8.4 mxnet-1.7.0.post1\n"
          ],
          "name": "stdout"
        }
      ]
    },
    {
      "cell_type": "code",
      "metadata": {
        "id": "i8a8j8eHzAMn",
        "outputId": "d56c9c4a-1261-4ff2-8ec8-6735096a2467",
        "colab": {
          "base_uri": "https://localhost:8080/"
        }
      },
      "source": [
        "import gluonnlp as nlp\n",
        "import mxnet as mx\n",
        "\n",
        "fasttext = nlp.embedding.create('fasttext', source='wiki.simple', load_ngrams=True)\n",
        "tokenized = [i for i in df['pad_tokens']]\n",
        "tokens = [i for sub in tokenized for i in sub]\n",
        "counter = nlp.data.count_tokens(tokens)\n",
        "my_vocab = nlp.Vocab(counter)\n",
        "my_vocab.set_embedding(fasttext)"
      ],
      "execution_count": null,
      "outputs": [
        {
          "output_type": "stream",
          "name": "stdout",
          "text": [
            "Embedding file wiki.simple-67424112.bin is not found. Downloading from Gluon Repository. This may take some time.\n",
            "Downloading /root/.mxnet/embedding/fasttext/wiki.simple-67424112.bin from https://apache-mxnet.s3-accelerate.dualstack.amazonaws.com/gluon/embeddings/fasttext/wiki.simple-67424112.bin...\n"
          ]
        }
      ]
    },
    {
      "cell_type": "markdown",
      "metadata": {
        "id": "UQgJUgTFeDwe"
      },
      "source": [
        "We sample our data and save the embeddings since they take quite some time to create. The embeddings are 9 GB in total, and Google Colab limits the size of files that can be saved, so we split the embeddings into 3 chunks."
      ]
    },
    {
      "cell_type": "code",
      "metadata": {
        "id": "f-ps6cUlC126"
      },
      "source": [
        "df_pog = df[df['pog'] == 1]\n",
        "df_kappa = df[df['kappa'] == 1]\n",
        "df_other = df[df['other'] == 1]\n",
        "\n",
        "n = 110000\n",
        "df_pograndom = df_pog.sample(n)\n",
        "df_kapparandom = df_kappa.sample(n)\n",
        "df_otherrandom = df_other.sample(n)\n",
        "\n",
        "df_sample = pd.concat([df_pograndom,df_kapparandom,df_otherrandom]).sample(frac=1)"
      ],
      "execution_count": null,
      "outputs": []
    },
    {
      "cell_type": "code",
      "metadata": {
        "id": "D8jVv4saDuwq"
      },
      "source": [
        "subset_tokenized = [i for i in df_sample['pad_tokens']]\n",
        "embeddings = [my_vocab.embedding[i].asnumpy() for i in subset_tokenized]\n",
        "embeddings = np.array(embeddings)"
      ],
      "execution_count": null,
      "outputs": []
    },
    {
      "cell_type": "code",
      "metadata": {
        "id": "otKrQM03IA0A"
      },
      "source": [
        "pickle.dump(embeddings[:110000],open(\"embeddings_array_lower_0.pkl\", \"wb\"))\n",
        "pickle.dump(embeddings[110000:220000],open(\"embeddings_array_lower_1.pkl\", \"wb\"))\n",
        "pickle.dump(embeddings[220000:],open(\"embeddings_array_lower_2.pkl\", \"wb\"))"
      ],
      "execution_count": null,
      "outputs": []
    },
    {
      "cell_type": "markdown",
      "metadata": {
        "id": "dumh8KZtJuJJ"
      },
      "source": [
        "## Learning\n",
        "\n",
        "We now move to creating and training our model. It is well-known that LSTM layers work better than other layers such as convolutional layers for NLP tasks due its ability to account for long term word dependencies as well as short toerm dependencies (hence the name Long Short-Term Memory). Bi-directional LSTM layers improve upon LSTM layers by taking into account word dependencies that arise after a word appears in text, as opposed to simply looking at words appearing before the word in a traditional LSTM layer. "
      ]
    },
    {
      "cell_type": "code",
      "metadata": {
        "id": "RJcqWrIelX1W"
      },
      "source": [
        "X_0 = pickle.load(open(\"embeddings_array_lower_0.pkl\", \"rb\"))\n",
        "X_1 = pickle.load(open(\"embeddings_array_lower_1.pkl\", \"rb\"))\n",
        "X_2 = pickle.load(open(\"embeddings_array_lower_2.pkl\", \"rb\"))"
      ],
      "execution_count": null,
      "outputs": []
    },
    {
      "cell_type": "code",
      "metadata": {
        "id": "4WgI4fIZKGHS"
      },
      "source": [
        "X = np.concatenate((X_0,X_1,X_2),axis=0)\n",
        "\n",
        "# X = embeddings"
      ],
      "execution_count": null,
      "outputs": []
    },
    {
      "cell_type": "code",
      "metadata": {
        "id": "e0EwQQcymqiF"
      },
      "source": [
        "del X_0\n",
        "del X_1\n",
        "del X_2"
      ],
      "execution_count": null,
      "outputs": []
    },
    {
      "cell_type": "code",
      "metadata": {
        "id": "g5Yer-hoKKM8"
      },
      "source": [
        "y = df_sample[['pog','kappa','other']].values\n",
        "# Saving y values is important due to connection with sampled data. Otherwise, labels will not correspond to the correct text if y values are obtained from repeating sampling steps above.\n",
        "pickle.dump(y,open(\"train_lower_labels.pkl\",\"wb\"))"
      ],
      "execution_count": null,
      "outputs": []
    },
    {
      "cell_type": "code",
      "metadata": {
        "id": "iRKJ5ZOequxO"
      },
      "source": [
        "y = pickle.load(open(\"train_lower_labels.pkl\",\"rb\"))"
      ],
      "execution_count": null,
      "outputs": []
    },
    {
      "cell_type": "code",
      "metadata": {
        "id": "qV-BW2opKsm-"
      },
      "source": [
        "# Split our data into train and test data.\n",
        "\n",
        "from sklearn.model_selection import train_test_split\n",
        "\n",
        "X_train, X_test, y_train, y_test = train_test_split(X, y, test_size=0.2, random_state=42, stratify = y)"
      ],
      "execution_count": null,
      "outputs": []
    },
    {
      "cell_type": "code",
      "metadata": {
        "id": "E7i24lCnLbWZ"
      },
      "source": [
        "# X variable no longer needed.\n",
        "del X"
      ],
      "execution_count": null,
      "outputs": []
    },
    {
      "cell_type": "code",
      "metadata": {
        "id": "9IgeiquzJyuo"
      },
      "source": [
        "from keras.preprocessing import sequence\n",
        "from keras.models import Sequential\n",
        "from keras.layers import Dense, Dropout, Embedding, LSTM, Bidirectional, Flatten, Input, BatchNormalization, Concatenate\n",
        "from keras.layers.convolutional import Conv1D\n",
        "from keras.layers.convolutional import MaxPooling1D\n",
        "# from keras.optimizers import RMSprop\n",
        "from keras.regularizers import l2\n",
        "from keras.layers.embeddings import Embedding\n",
        "from keras.preprocessing import sequence\n",
        "from keras.models import Model"
      ],
      "execution_count": null,
      "outputs": []
    },
    {
      "cell_type": "markdown",
      "metadata": {
        "id": "7YNlABW2mITm"
      },
      "source": [
        "We found more complicated models were not as effective. The validation accuracy of our model hovers at almost 57% if we reduce our learning rate to 0.001,  reduce the dropout rate, and use only one bidirectional LSTM layer."
      ]
    },
    {
      "cell_type": "code",
      "metadata": {
        "id": "Bol_UOuPzr3w",
        "outputId": "ab694bd9-2b68-4a6f-8f5d-9aa217caa1cc",
        "colab": {
          "base_uri": "https://localhost:8080/"
        }
      },
      "source": [
        "X_train.shape"
      ],
      "execution_count": null,
      "outputs": [
        {
          "output_type": "execute_result",
          "data": {
            "text/plain": [
              "(264000, 12, 300)"
            ]
          },
          "metadata": {},
          "execution_count": 14
        }
      ]
    },
    {
      "cell_type": "code",
      "metadata": {
        "id": "2uM4SwHCgW6_",
        "outputId": "73759853-15ba-4eda-f113-76b3671afa37",
        "colab": {
          "base_uri": "https://localhost:8080/",
          "height": 417
        }
      },
      "source": [
        "# model1 = Sequential()\n",
        "# model1.add(Bidirectional(LSTM(128,activation='relu',return_sequences=True),input_shape=(20, 300)))\n",
        "# model1.add(Dropout(0.5))\n",
        "# model1.add(Conv1D(filters=128, kernel_size=3, activation='relu', kernel_regularizer=l2(0.01)))\n",
        "# model1.add(MaxPooling1D(pool_size=2))\n",
        "# model1.add(Dropout(0.5))\n",
        "# model1.add(BatchNormalization())\n",
        "# model1.add(LSTM(128,activation='relu',return_sequences=True))\n",
        "\n",
        "# model2 = Sequential()\n",
        "# model2.add(Bidirectional(LSTM(128,activation='relu',return_sequences=True),input_shape=(20, 300)))\n",
        "# model2.add(Dropout(0.5))\n",
        "# model2.add(Conv1D(filters=128, kernel_size=5, activation='relu', kernel_regularizer=l2(0.01)))\n",
        "# model2.add(MaxPooling1D(pool_size=2))\n",
        "# model2.add(Dropout(0.5))\n",
        "# model2.add(BatchNormalization())\n",
        "# model2.add(LSTM(128,activation='relu',return_sequences=True))\n",
        "\n",
        "# model3 = Sequential()\n",
        "# model3.add(Bidirectional(LSTM(128,activation='relu',return_sequences=True),input_shape=(20, 300)))\n",
        "# model3.add(Dropout(0.5))\n",
        "# model3.add(Conv1D(filters=128, kernel_size=7, activation='relu', kernel_regularizer=l2(0.01)))\n",
        "# model3.add(MaxPooling1D(pool_size=2))\n",
        "# model3.add(Dropout(0.5))\n",
        "# model3.add(BatchNormalization())\n",
        "# model3.add(LSTM(128,activation='relu',return_sequences=True))\n",
        "\n",
        "# model4 = Sequential()\n",
        "# model4.add(Bidirectional(LSTM(128,activation='relu',return_sequences=True),input_shape=(20, 300)))\n",
        "# model4.add(Dropout(0.5))\n",
        "# model4.add(Conv1D(filters=128, kernel_size=9, activation='relu', kernel_regularizer=l2(0.01)))\n",
        "# model4.add(MaxPooling1D(pool_size=2))\n",
        "# model4.add(Dropout(0.5))\n",
        "# model4.add(BatchNormalization())\n",
        "# model4.add(LSTM(128,activation='relu',return_sequences=True))\n",
        "\n",
        "# merged = Concatenate(axis=1)([model1.output,model2.output,model3.output,model4.output])\n",
        "# merged = Bidirectional(LSTM(128,activation='relu',return_sequences=True))(merged)\n",
        "# merged = Dropout(0.5)(merged)\n",
        "# merged = Bidirectional(LSTM(128,activation='relu',return_sequences=False))(merged)\n",
        "# merged = Dropout(0.5)(merged)\n",
        "# merged = Dense(128, activation='relu')(merged)\n",
        "# merged = Dropout(0.5)(merged)\n",
        "# merged = Dense(3, activation='softmax')(merged)\n",
        "# model = Model([model1.input,model2.input,model3.input,model4.input], merged)"
      ],
      "execution_count": null,
      "outputs": [
        {
          "output_type": "stream",
          "text": [
            "WARNING:tensorflow:Layer lstm_67 will not use cuDNN kernel since it doesn't meet the cuDNN kernel criteria. It will use generic GPU kernel as fallback when running on GPU\n",
            "WARNING:tensorflow:Layer lstm_67 will not use cuDNN kernel since it doesn't meet the cuDNN kernel criteria. It will use generic GPU kernel as fallback when running on GPU\n",
            "WARNING:tensorflow:Layer lstm_67 will not use cuDNN kernel since it doesn't meet the cuDNN kernel criteria. It will use generic GPU kernel as fallback when running on GPU\n",
            "WARNING:tensorflow:Layer lstm_68 will not use cuDNN kernel since it doesn't meet the cuDNN kernel criteria. It will use generic GPU kernel as fallback when running on GPU\n",
            "WARNING:tensorflow:Layer lstm_69 will not use cuDNN kernel since it doesn't meet the cuDNN kernel criteria. It will use generic GPU kernel as fallback when running on GPU\n",
            "WARNING:tensorflow:Layer lstm_69 will not use cuDNN kernel since it doesn't meet the cuDNN kernel criteria. It will use generic GPU kernel as fallback when running on GPU\n",
            "WARNING:tensorflow:Layer lstm_69 will not use cuDNN kernel since it doesn't meet the cuDNN kernel criteria. It will use generic GPU kernel as fallback when running on GPU\n",
            "WARNING:tensorflow:Layer lstm_70 will not use cuDNN kernel since it doesn't meet the cuDNN kernel criteria. It will use generic GPU kernel as fallback when running on GPU\n",
            "WARNING:tensorflow:Layer lstm_71 will not use cuDNN kernel since it doesn't meet the cuDNN kernel criteria. It will use generic GPU kernel as fallback when running on GPU\n",
            "WARNING:tensorflow:Layer lstm_71 will not use cuDNN kernel since it doesn't meet the cuDNN kernel criteria. It will use generic GPU kernel as fallback when running on GPU\n",
            "WARNING:tensorflow:Layer lstm_71 will not use cuDNN kernel since it doesn't meet the cuDNN kernel criteria. It will use generic GPU kernel as fallback when running on GPU\n",
            "WARNING:tensorflow:Layer lstm_72 will not use cuDNN kernel since it doesn't meet the cuDNN kernel criteria. It will use generic GPU kernel as fallback when running on GPU\n",
            "WARNING:tensorflow:Layer lstm_73 will not use cuDNN kernel since it doesn't meet the cuDNN kernel criteria. It will use generic GPU kernel as fallback when running on GPU\n",
            "WARNING:tensorflow:Layer lstm_73 will not use cuDNN kernel since it doesn't meet the cuDNN kernel criteria. It will use generic GPU kernel as fallback when running on GPU\n",
            "WARNING:tensorflow:Layer lstm_73 will not use cuDNN kernel since it doesn't meet the cuDNN kernel criteria. It will use generic GPU kernel as fallback when running on GPU\n",
            "WARNING:tensorflow:Layer lstm_74 will not use cuDNN kernel since it doesn't meet the cuDNN kernel criteria. It will use generic GPU kernel as fallback when running on GPU\n",
            "WARNING:tensorflow:Layer lstm_75 will not use cuDNN kernel since it doesn't meet the cuDNN kernel criteria. It will use generic GPU kernel as fallback when running on GPU\n",
            "WARNING:tensorflow:Layer lstm_75 will not use cuDNN kernel since it doesn't meet the cuDNN kernel criteria. It will use generic GPU kernel as fallback when running on GPU\n",
            "WARNING:tensorflow:Layer lstm_75 will not use cuDNN kernel since it doesn't meet the cuDNN kernel criteria. It will use generic GPU kernel as fallback when running on GPU\n",
            "WARNING:tensorflow:Layer lstm_76 will not use cuDNN kernel since it doesn't meet the cuDNN kernel criteria. It will use generic GPU kernel as fallback when running on GPU\n",
            "WARNING:tensorflow:Layer lstm_76 will not use cuDNN kernel since it doesn't meet the cuDNN kernel criteria. It will use generic GPU kernel as fallback when running on GPU\n",
            "WARNING:tensorflow:Layer lstm_76 will not use cuDNN kernel since it doesn't meet the cuDNN kernel criteria. It will use generic GPU kernel as fallback when running on GPU\n"
          ],
          "name": "stderr"
        }
      ]
    },
    {
      "cell_type": "code",
      "metadata": {
        "id": "BgcNwcGPlioP",
        "outputId": "4243e132-2470-495c-bd59-06f779da4cf8",
        "colab": {
          "base_uri": "https://localhost:8080/"
        }
      },
      "source": [
        "model = Sequential()\n",
        "model.add(Bidirectional(LSTM(128,activation='relu',return_sequences=True),input_shape=(12, 300)))\n",
        "model.add(Dropout(0.5))\n",
        "model.add(Bidirectional(LSTM(128,activation='relu',return_sequences=False)))\n",
        "model.add(Dropout(0.5))\n",
        "model.add(Dense(64, activation='relu'))\n",
        "model.add(Dropout(0.5))\n",
        "model.add(Dense(3, activation='softmax'))"
      ],
      "execution_count": null,
      "outputs": [
        {
          "output_type": "stream",
          "name": "stderr",
          "text": [
            "WARNING:tensorflow:Layer lstm will not use cuDNN kernels since it doesn't meet the criteria. It will use a generic GPU kernel as fallback when running on GPU.\n",
            "WARNING:tensorflow:Layer lstm will not use cuDNN kernels since it doesn't meet the criteria. It will use a generic GPU kernel as fallback when running on GPU.\n",
            "WARNING:tensorflow:Layer lstm will not use cuDNN kernels since it doesn't meet the criteria. It will use a generic GPU kernel as fallback when running on GPU.\n",
            "WARNING:tensorflow:Layer lstm_1 will not use cuDNN kernels since it doesn't meet the criteria. It will use a generic GPU kernel as fallback when running on GPU.\n",
            "WARNING:tensorflow:Layer lstm_1 will not use cuDNN kernels since it doesn't meet the criteria. It will use a generic GPU kernel as fallback when running on GPU.\n",
            "WARNING:tensorflow:Layer lstm_1 will not use cuDNN kernels since it doesn't meet the criteria. It will use a generic GPU kernel as fallback when running on GPU.\n"
          ]
        }
      ]
    },
    {
      "cell_type": "code",
      "metadata": {
        "id": "Kj2OJrISzEu_",
        "outputId": "f26bb95e-a482-4a74-e84c-ed9cac5461bb",
        "colab": {
          "base_uri": "https://localhost:8080/"
        }
      },
      "source": [
        "from tensorflow import keras\n",
        "from keras.callbacks import ModelCheckpoint\n",
        "\n",
        "checkpoint_filepath = '/content/drive/My Drive/saved_models'\n",
        "model_checkpoint_callback = ModelCheckpoint(\n",
        "    filepath=checkpoint_filepath,\n",
        "    save_freq=\"epoch\",\n",
        "    monitor='val_acc',\n",
        "    mode='max',\n",
        "    save_best_only=True)\n",
        "\n",
        "opt = keras.optimizers.Adam(learning_rate=0.001)\n",
        "# compile the model\n",
        "model.compile(optimizer=opt, loss='categorical_crossentropy', metrics=['acc'])\n",
        "\n",
        "# fit the model\n",
        "history = model.fit(X_train, y_train, validation_data=(X_test, y_test), batch_size=32, epochs=10, verbose=1, callbacks=[model_checkpoint_callback])"
      ],
      "execution_count": null,
      "outputs": [
        {
          "output_type": "stream",
          "name": "stdout",
          "text": [
            "Epoch 1/10\n",
            "8250/8250 [==============================] - ETA: 0s - loss: 1.0245 - acc: 0.4739"
          ]
        },
        {
          "output_type": "stream",
          "name": "stderr",
          "text": [
            "WARNING:absl:<keras.layers.recurrent.LSTMCell object at 0x7f1e4006dd10> has the same name 'LSTMCell' as a built-in Keras object. Consider renaming <class 'keras.layers.recurrent.LSTMCell'> to avoid naming conflicts when loading with `tf.keras.models.load_model`. If renaming is not possible, pass the object in the `custom_objects` parameter of the load function.\n",
            "WARNING:absl:<keras.layers.recurrent.LSTMCell object at 0x7f1dce3c9a90> has the same name 'LSTMCell' as a built-in Keras object. Consider renaming <class 'keras.layers.recurrent.LSTMCell'> to avoid naming conflicts when loading with `tf.keras.models.load_model`. If renaming is not possible, pass the object in the `custom_objects` parameter of the load function.\n",
            "WARNING:absl:<keras.layers.recurrent.LSTMCell object at 0x7f1dce25a690> has the same name 'LSTMCell' as a built-in Keras object. Consider renaming <class 'keras.layers.recurrent.LSTMCell'> to avoid naming conflicts when loading with `tf.keras.models.load_model`. If renaming is not possible, pass the object in the `custom_objects` parameter of the load function.\n",
            "WARNING:absl:<keras.layers.recurrent.LSTMCell object at 0x7f1dce257b50> has the same name 'LSTMCell' as a built-in Keras object. Consider renaming <class 'keras.layers.recurrent.LSTMCell'> to avoid naming conflicts when loading with `tf.keras.models.load_model`. If renaming is not possible, pass the object in the `custom_objects` parameter of the load function.\n"
          ]
        },
        {
          "output_type": "stream",
          "name": "stdout",
          "text": [
            "\b\b\b\b\b\b\b\b\b\b\b\b\b\b\b\b\b\b\b\b\b\b\b\b\b\b\b\b\b\b\b\b\b\b\b\b\b\b\b\b\b\b\b\b\b\b\b\b\b\b\b\b\b\b\b\b\b\b\b\b\b\b\b\b\b\b\b\b\b\b\b\b\b\b\b\b\b\b\b\b\b\r8250/8250 [==============================] - 513s 62ms/step - loss: 1.0245 - acc: 0.4739 - val_loss: 0.9815 - val_acc: 0.5089\n",
            "Epoch 2/10\n",
            "8250/8250 [==============================] - ETA: 0s - loss: 0.9809 - acc: 0.5138"
          ]
        },
        {
          "output_type": "stream",
          "name": "stderr",
          "text": [
            "WARNING:absl:<keras.layers.recurrent.LSTMCell object at 0x7f1e4006dd10> has the same name 'LSTMCell' as a built-in Keras object. Consider renaming <class 'keras.layers.recurrent.LSTMCell'> to avoid naming conflicts when loading with `tf.keras.models.load_model`. If renaming is not possible, pass the object in the `custom_objects` parameter of the load function.\n",
            "WARNING:absl:<keras.layers.recurrent.LSTMCell object at 0x7f1dce3c9a90> has the same name 'LSTMCell' as a built-in Keras object. Consider renaming <class 'keras.layers.recurrent.LSTMCell'> to avoid naming conflicts when loading with `tf.keras.models.load_model`. If renaming is not possible, pass the object in the `custom_objects` parameter of the load function.\n",
            "WARNING:absl:<keras.layers.recurrent.LSTMCell object at 0x7f1dce25a690> has the same name 'LSTMCell' as a built-in Keras object. Consider renaming <class 'keras.layers.recurrent.LSTMCell'> to avoid naming conflicts when loading with `tf.keras.models.load_model`. If renaming is not possible, pass the object in the `custom_objects` parameter of the load function.\n",
            "WARNING:absl:<keras.layers.recurrent.LSTMCell object at 0x7f1dce257b50> has the same name 'LSTMCell' as a built-in Keras object. Consider renaming <class 'keras.layers.recurrent.LSTMCell'> to avoid naming conflicts when loading with `tf.keras.models.load_model`. If renaming is not possible, pass the object in the `custom_objects` parameter of the load function.\n"
          ]
        },
        {
          "output_type": "stream",
          "name": "stdout",
          "text": [
            "\b\b\b\b\b\b\b\b\b\b\b\b\b\b\b\b\b\b\b\b\b\b\b\b\b\b\b\b\b\b\b\b\b\b\b\b\b\b\b\b\b\b\b\b\b\b\b\b\b\b\b\b\b\b\b\b\b\b\b\b\b\b\b\b\b\b\b\b\b\b\b\b\b\b\b\b\b\b\b\b\b\r8250/8250 [==============================] - 415s 50ms/step - loss: 0.9809 - acc: 0.5138 - val_loss: 0.9675 - val_acc: 0.5202\n",
            "Epoch 3/10\n",
            "8249/8250 [============================>.] - ETA: 0s - loss: 0.9609 - acc: 0.5324"
          ]
        },
        {
          "output_type": "stream",
          "name": "stderr",
          "text": [
            "WARNING:absl:<keras.layers.recurrent.LSTMCell object at 0x7f1e4006dd10> has the same name 'LSTMCell' as a built-in Keras object. Consider renaming <class 'keras.layers.recurrent.LSTMCell'> to avoid naming conflicts when loading with `tf.keras.models.load_model`. If renaming is not possible, pass the object in the `custom_objects` parameter of the load function.\n",
            "WARNING:absl:<keras.layers.recurrent.LSTMCell object at 0x7f1dce3c9a90> has the same name 'LSTMCell' as a built-in Keras object. Consider renaming <class 'keras.layers.recurrent.LSTMCell'> to avoid naming conflicts when loading with `tf.keras.models.load_model`. If renaming is not possible, pass the object in the `custom_objects` parameter of the load function.\n",
            "WARNING:absl:<keras.layers.recurrent.LSTMCell object at 0x7f1dce25a690> has the same name 'LSTMCell' as a built-in Keras object. Consider renaming <class 'keras.layers.recurrent.LSTMCell'> to avoid naming conflicts when loading with `tf.keras.models.load_model`. If renaming is not possible, pass the object in the `custom_objects` parameter of the load function.\n",
            "WARNING:absl:<keras.layers.recurrent.LSTMCell object at 0x7f1dce257b50> has the same name 'LSTMCell' as a built-in Keras object. Consider renaming <class 'keras.layers.recurrent.LSTMCell'> to avoid naming conflicts when loading with `tf.keras.models.load_model`. If renaming is not possible, pass the object in the `custom_objects` parameter of the load function.\n"
          ]
        },
        {
          "output_type": "stream",
          "name": "stdout",
          "text": [
            "\b\b\b\b\b\b\b\b\b\b\b\b\b\b\b\b\b\b\b\b\b\b\b\b\b\b\b\b\b\b\b\b\b\b\b\b\b\b\b\b\b\b\b\b\b\b\b\b\b\b\b\b\b\b\b\b\b\b\b\b\b\b\b\b\b\b\b\b\b\b\b\b\b\b\b\b\b\b\b\b\b\r8250/8250 [==============================] - 364s 44ms/step - loss: 0.9609 - acc: 0.5324 - val_loss: 0.9604 - val_acc: 0.5311\n",
            "Epoch 4/10\n",
            "8250/8250 [==============================] - ETA: 0s - loss: 0.9458 - acc: 0.5456"
          ]
        },
        {
          "output_type": "stream",
          "name": "stderr",
          "text": [
            "WARNING:absl:<keras.layers.recurrent.LSTMCell object at 0x7f1e4006dd10> has the same name 'LSTMCell' as a built-in Keras object. Consider renaming <class 'keras.layers.recurrent.LSTMCell'> to avoid naming conflicts when loading with `tf.keras.models.load_model`. If renaming is not possible, pass the object in the `custom_objects` parameter of the load function.\n",
            "WARNING:absl:<keras.layers.recurrent.LSTMCell object at 0x7f1dce3c9a90> has the same name 'LSTMCell' as a built-in Keras object. Consider renaming <class 'keras.layers.recurrent.LSTMCell'> to avoid naming conflicts when loading with `tf.keras.models.load_model`. If renaming is not possible, pass the object in the `custom_objects` parameter of the load function.\n",
            "WARNING:absl:<keras.layers.recurrent.LSTMCell object at 0x7f1dce25a690> has the same name 'LSTMCell' as a built-in Keras object. Consider renaming <class 'keras.layers.recurrent.LSTMCell'> to avoid naming conflicts when loading with `tf.keras.models.load_model`. If renaming is not possible, pass the object in the `custom_objects` parameter of the load function.\n",
            "WARNING:absl:<keras.layers.recurrent.LSTMCell object at 0x7f1dce257b50> has the same name 'LSTMCell' as a built-in Keras object. Consider renaming <class 'keras.layers.recurrent.LSTMCell'> to avoid naming conflicts when loading with `tf.keras.models.load_model`. If renaming is not possible, pass the object in the `custom_objects` parameter of the load function.\n"
          ]
        },
        {
          "output_type": "stream",
          "name": "stdout",
          "text": [
            "\b\b\b\b\b\b\b\b\b\b\b\b\b\b\b\b\b\b\b\b\b\b\b\b\b\b\b\b\b\b\b\b\b\b\b\b\b\b\b\b\b\b\b\b\b\b\b\b\b\b\b\b\b\b\b\b\b\b\b\b\b\b\b\b\b\b\b\b\b\b\b\b\b\b\b\b\b\b\b\b\b\r8250/8250 [==============================] - 356s 43ms/step - loss: 0.9458 - acc: 0.5456 - val_loss: 0.9523 - val_acc: 0.5344\n",
            "Epoch 5/10\n",
            "8250/8250 [==============================] - ETA: 0s - loss: 0.9357 - acc: 0.5548"
          ]
        },
        {
          "output_type": "stream",
          "name": "stderr",
          "text": [
            "WARNING:absl:<keras.layers.recurrent.LSTMCell object at 0x7f1e4006dd10> has the same name 'LSTMCell' as a built-in Keras object. Consider renaming <class 'keras.layers.recurrent.LSTMCell'> to avoid naming conflicts when loading with `tf.keras.models.load_model`. If renaming is not possible, pass the object in the `custom_objects` parameter of the load function.\n",
            "WARNING:absl:<keras.layers.recurrent.LSTMCell object at 0x7f1dce3c9a90> has the same name 'LSTMCell' as a built-in Keras object. Consider renaming <class 'keras.layers.recurrent.LSTMCell'> to avoid naming conflicts when loading with `tf.keras.models.load_model`. If renaming is not possible, pass the object in the `custom_objects` parameter of the load function.\n",
            "WARNING:absl:<keras.layers.recurrent.LSTMCell object at 0x7f1dce25a690> has the same name 'LSTMCell' as a built-in Keras object. Consider renaming <class 'keras.layers.recurrent.LSTMCell'> to avoid naming conflicts when loading with `tf.keras.models.load_model`. If renaming is not possible, pass the object in the `custom_objects` parameter of the load function.\n",
            "WARNING:absl:<keras.layers.recurrent.LSTMCell object at 0x7f1dce257b50> has the same name 'LSTMCell' as a built-in Keras object. Consider renaming <class 'keras.layers.recurrent.LSTMCell'> to avoid naming conflicts when loading with `tf.keras.models.load_model`. If renaming is not possible, pass the object in the `custom_objects` parameter of the load function.\n"
          ]
        },
        {
          "output_type": "stream",
          "name": "stdout",
          "text": [
            "\b\b\b\b\b\b\b\b\b\b\b\b\b\b\b\b\b\b\b\b\b\b\b\b\b\b\b\b\b\b\b\b\b\b\b\b\b\b\b\b\b\b\b\b\b\b\b\b\b\b\b\b\b\b\b\b\b\b\b\b\b\b\b\b\b\b\b\b\b\b\b\b\b\b\b\b\b\b\b\b\b\r8250/8250 [==============================] - 374s 45ms/step - loss: 0.9357 - acc: 0.5548 - val_loss: 0.9474 - val_acc: 0.5390\n",
            "Epoch 6/10\n",
            "8250/8250 [==============================] - 375s 45ms/step - loss: 1.1238 - acc: 0.5007 - val_loss: 1.1124 - val_acc: 0.3427\n",
            "Epoch 7/10\n",
            "8250/8250 [==============================] - 376s 46ms/step - loss: 1.1957 - acc: 0.3346 - val_loss: 1.0986 - val_acc: 0.3333\n",
            "Epoch 8/10\n",
            "8250/8250 [==============================] - 357s 43ms/step - loss: 1.1315 - acc: 0.3322 - val_loss: 1.0986 - val_acc: 0.3333\n",
            "Epoch 9/10\n",
            "8250/8250 [==============================] - 352s 43ms/step - loss: 1.1449 - acc: 0.3335 - val_loss: 1.0987 - val_acc: 0.3333\n",
            "Epoch 10/10\n",
            "8250/8250 [==============================] - 358s 43ms/step - loss: 1.1259 - acc: 0.3318 - val_loss: 1.0987 - val_acc: 0.3333\n"
          ]
        }
      ]
    },
    {
      "cell_type": "code",
      "source": [
        "model.save(\"BLSTM_1layer_128_nodense_001_dropout_2_history_09282022\")"
      ],
      "metadata": {
        "colab": {
          "base_uri": "https://localhost:8080/"
        },
        "id": "zIRDbAL73BRW",
        "outputId": "d3ef9c2f-a2f4-4a28-b974-32e31c065641"
      },
      "execution_count": null,
      "outputs": [
        {
          "output_type": "stream",
          "name": "stderr",
          "text": [
            "WARNING:absl:<keras.layers.recurrent.LSTMCell object at 0x7f1e4006dd10> has the same name 'LSTMCell' as a built-in Keras object. Consider renaming <class 'keras.layers.recurrent.LSTMCell'> to avoid naming conflicts when loading with `tf.keras.models.load_model`. If renaming is not possible, pass the object in the `custom_objects` parameter of the load function.\n",
            "WARNING:absl:<keras.layers.recurrent.LSTMCell object at 0x7f1dce3c9a90> has the same name 'LSTMCell' as a built-in Keras object. Consider renaming <class 'keras.layers.recurrent.LSTMCell'> to avoid naming conflicts when loading with `tf.keras.models.load_model`. If renaming is not possible, pass the object in the `custom_objects` parameter of the load function.\n",
            "WARNING:absl:<keras.layers.recurrent.LSTMCell object at 0x7f1dce25a690> has the same name 'LSTMCell' as a built-in Keras object. Consider renaming <class 'keras.layers.recurrent.LSTMCell'> to avoid naming conflicts when loading with `tf.keras.models.load_model`. If renaming is not possible, pass the object in the `custom_objects` parameter of the load function.\n",
            "WARNING:absl:<keras.layers.recurrent.LSTMCell object at 0x7f1dce257b50> has the same name 'LSTMCell' as a built-in Keras object. Consider renaming <class 'keras.layers.recurrent.LSTMCell'> to avoid naming conflicts when loading with `tf.keras.models.load_model`. If renaming is not possible, pass the object in the `custom_objects` parameter of the load function.\n"
          ]
        }
      ]
    },
    {
      "cell_type": "code",
      "metadata": {
        "id": "0zQyZ_7JKDYp"
      },
      "source": [
        "# Save the history of model.\n",
        "pickle.dump(history.history,open(\"BLSTM_1layer_128_nodense_001_dropout_2_history_09282022.pkl\",\"wb\"))"
      ],
      "execution_count": null,
      "outputs": []
    },
    {
      "cell_type": "code",
      "metadata": {
        "id": "BRUYIpchKEZE",
        "outputId": "f266ce32-8ea7-42bd-94ce-d0bd8be71509",
        "colab": {
          "base_uri": "https://localhost:8080/"
        }
      },
      "source": [
        "from keras import models\n",
        "model = models.load_model('/content/drive/My Drive')"
      ],
      "execution_count": null,
      "outputs": [
        {
          "output_type": "stream",
          "name": "stderr",
          "text": [
            "WARNING:tensorflow:SavedModel saved prior to TF 2.5 detected when loading Keras model. Please ensure that you are saving the model with model.save() or tf.keras.models.save_model(), *NOT* tf.saved_model.save(). To confirm, there should be a file named \"keras_metadata.pb\" in the SavedModel directory.\n",
            "WARNING:tensorflow:Layer lstm_2 will not use cuDNN kernels since it doesn't meet the criteria. It will use a generic GPU kernel as fallback when running on GPU.\n",
            "WARNING:tensorflow:Layer lstm_2 will not use cuDNN kernels since it doesn't meet the criteria. It will use a generic GPU kernel as fallback when running on GPU.\n",
            "WARNING:tensorflow:Layer lstm_2 will not use cuDNN kernels since it doesn't meet the criteria. It will use a generic GPU kernel as fallback when running on GPU.\n"
          ]
        }
      ]
    },
    {
      "cell_type": "markdown",
      "metadata": {
        "id": "rr1NWLZInrHP"
      },
      "source": [
        "Let us see how our model does on some typical phrases one might encounter in a Twitch chat room."
      ]
    },
    {
      "cell_type": "code",
      "metadata": {
        "id": "8FTr-G3tNgVf"
      },
      "source": [
        "def pad_tokens(tokens):\n",
        "  if len(tokens) <= 20:\n",
        "    return tokens + ['']*(20-len(tokens))\n",
        "  else:\n",
        "    return tokens[:20]"
      ],
      "execution_count": null,
      "outputs": []
    },
    {
      "cell_type": "code",
      "metadata": {
        "id": "J4_wjypRKEBX",
        "outputId": "6c3aed58-77d5-4bfb-898d-37dace3669ec",
        "colab": {
          "base_uri": "https://localhost:8080/"
        }
      },
      "source": [
        "import twokenize\n",
        "\n",
        "some_sentences = ['ur a god', 'genius', 'ur trash', 'woah', 'amazing', 'legendary', 'omg', 'never seen someone so bad in my life']\n",
        "some_tokenized_sentences = [twokenize.tokenizeRawTweetText(x) for x in some_sentences]\n",
        "for sentence in some_tokenized_sentences:\n",
        "  x = pad_tokens(sentence)\n",
        "  print(model.predict(my_vocab.embedding[x].asnumpy().reshape((1,20,300))))"
      ],
      "execution_count": null,
      "outputs": [
        {
          "output_type": "stream",
          "name": "stdout",
          "text": [
            "[[0.77403605 0.09540284 0.13056114]]\n",
            "[[0.8009759  0.03310856 0.16591558]]\n",
            "[[0.18588904 0.2549253  0.5591857 ]]\n",
            "[[0.87675494 0.01605768 0.10718743]]\n",
            "[[0.74187857 0.05576096 0.20236053]]\n",
            "[[0.9318048  0.01210221 0.05609291]]\n",
            "[[0.52967215 0.0873668  0.38296103]]\n",
            "[[0.26790887 0.34094304 0.39114812]]\n"
          ]
        }
      ]
    },
    {
      "cell_type": "markdown",
      "metadata": {
        "id": "tUtbkYQzpWq5"
      },
      "source": [
        "In the simple examples given above, we can see that the model correctly classifies every message. One possible reason for the somewhat poor model performance overall is that we were unable to filter our messages enough. Another reason, one which likely has a more significant effect, is that the \"other\" category is too ambiguous, and likely contains emotes that are similar in function to \"pog\"-type and \"kappa\"-type emotes. We will perform a check using a confusion matrix."
      ]
    },
    {
      "cell_type": "code",
      "metadata": {
        "id": "jAfdvDbAuNLl",
        "outputId": "2e9daa38-76bb-4431-9f2d-46f488b12f88",
        "colab": {
          "base_uri": "https://localhost:8080/",
          "height": 235
        }
      },
      "source": [
        "!pip install bokeh"
      ],
      "execution_count": null,
      "outputs": [
        {
          "output_type": "stream",
          "text": [
            "Requirement already satisfied: bokeh in /usr/local/lib/python3.6/dist-packages (2.1.1)\n",
            "Requirement already satisfied: numpy>=1.11.3 in /usr/local/lib/python3.6/dist-packages (from bokeh) (1.18.5)\n",
            "Requirement already satisfied: typing-extensions>=3.7.4 in /usr/local/lib/python3.6/dist-packages (from bokeh) (3.7.4.3)\n",
            "Requirement already satisfied: pillow>=4.0 in /usr/local/lib/python3.6/dist-packages (from bokeh) (7.0.0)\n",
            "Requirement already satisfied: tornado>=5.1 in /usr/local/lib/python3.6/dist-packages (from bokeh) (5.1.1)\n",
            "Requirement already satisfied: Jinja2>=2.7 in /usr/local/lib/python3.6/dist-packages (from bokeh) (2.11.2)\n",
            "Requirement already satisfied: packaging>=16.8 in /usr/local/lib/python3.6/dist-packages (from bokeh) (20.4)\n",
            "Requirement already satisfied: PyYAML>=3.10 in /usr/local/lib/python3.6/dist-packages (from bokeh) (3.13)\n",
            "Requirement already satisfied: python-dateutil>=2.1 in /usr/local/lib/python3.6/dist-packages (from bokeh) (2.8.1)\n",
            "Requirement already satisfied: MarkupSafe>=0.23 in /usr/local/lib/python3.6/dist-packages (from Jinja2>=2.7->bokeh) (1.1.1)\n",
            "Requirement already satisfied: pyparsing>=2.0.2 in /usr/local/lib/python3.6/dist-packages (from packaging>=16.8->bokeh) (2.4.7)\n",
            "Requirement already satisfied: six in /usr/local/lib/python3.6/dist-packages (from packaging>=16.8->bokeh) (1.15.0)\n"
          ],
          "name": "stdout"
        }
      ]
    },
    {
      "cell_type": "code",
      "metadata": {
        "id": "sUvbKTzGt6Ms"
      },
      "source": [
        "from bokeh.io import output_notebook, show\n",
        "from bokeh.plotting import figure\n",
        "\n",
        "output_notebook()"
      ],
      "execution_count": null,
      "outputs": []
    },
    {
      "cell_type": "code",
      "metadata": {
        "id": "LLePjKIdrCSl"
      },
      "source": [
        "y_pred = model.predict(X_test)\n",
        "y_pred_class = np.argmax(y_pred, axis=1)\n",
        "y_true = np.argmax(y_test, axis=1)"
      ],
      "execution_count": null,
      "outputs": []
    },
    {
      "cell_type": "code",
      "metadata": {
        "id": "U2elMh0G19Vt",
        "outputId": "e2fffdbe-83ed-4129-de3e-523f5eadea76",
        "colab": {
          "base_uri": "https://localhost:8080/",
          "height": 454
        }
      },
      "source": [
        "import matplotlib.font_manager\n",
        "set([f.name for f in matplotlib.font_manager.fontManager.ttflist])"
      ],
      "execution_count": null,
      "outputs": [
        {
          "output_type": "execute_result",
          "data": {
            "text/plain": [
              "{'DejaVu Sans',\n",
              " 'DejaVu Sans Display',\n",
              " 'DejaVu Sans Mono',\n",
              " 'DejaVu Serif',\n",
              " 'DejaVu Serif Display',\n",
              " 'Humor Sans',\n",
              " 'Liberation Mono',\n",
              " 'Liberation Sans',\n",
              " 'Liberation Sans Narrow',\n",
              " 'Liberation Serif',\n",
              " 'STIXGeneral',\n",
              " 'STIXNonUnicode',\n",
              " 'STIXSizeFiveSym',\n",
              " 'STIXSizeFourSym',\n",
              " 'STIXSizeOneSym',\n",
              " 'STIXSizeThreeSym',\n",
              " 'STIXSizeTwoSym',\n",
              " 'cmb10',\n",
              " 'cmex10',\n",
              " 'cmmi10',\n",
              " 'cmr10',\n",
              " 'cmss10',\n",
              " 'cmsy10',\n",
              " 'cmtt10'}"
            ]
          },
          "metadata": {
            "tags": []
          },
          "execution_count": 15
        }
      ]
    },
    {
      "cell_type": "code",
      "metadata": {
        "id": "7N6WCxAHKDk6",
        "outputId": "1d5bd608-9853-4b21-f0cc-a7bd44123242",
        "colab": {
          "base_uri": "https://localhost:8080/",
          "height": 832
        }
      },
      "source": [
        "from sklearn.metrics import confusion_matrix\n",
        "import seaborn as sns\n",
        "import matplotlib.pyplot as plt\n",
        "\n",
        "# confusion = confusion_matrix(y_true, y_pred_class)\n",
        "confusion = np.array([[15155,  5452,  3393],\n",
        "                      [ 4172, 15510,  4318],\n",
        "                      [ 5239,  8478, 10283]])\n",
        "\n",
        "f, ax = plt.subplots(figsize= (12,12))\n",
        "\n",
        "labels = [\"Pog\", \"Kappa\", \"Other\"]\n",
        "sns.heatmap(confusion, xticklabels=labels, yticklabels=labels, annot = True, cmap = \"YlGnBu\", fmt= '.1f', annot_kws={\"fontsize\":20})\n",
        "\n",
        "plt.yticks(rotation=0)\n",
        "\n",
        "ax.invert_yaxis()\n",
        "ax.set_title(\"Confusion Matrix\", fontname='DejaVu Serif', fontsize=40, pad=30)\n",
        "ax.set_xlabel(\"Predicted Label\", fontname='DejaVu Serif', fontsize=30, labelpad=30)\n",
        "ax.set_ylabel(\"True Label\", fontname='DejaVu Serif', fontsize=30, labelpad=30)\n",
        "\n",
        "plt.rcParams['font.family'] = \"DejaVu Serif\"\n",
        "\n",
        "plt.show()\n",
        "# plt.savefig('cm.png')"
      ],
      "execution_count": null,
      "outputs": [
        {
          "output_type": "display_data",
          "data": {
            "image/png": "[encoded data removed]",
            "text/plain": [
              "<Figure size 864x864 with 2 Axes>"
            ]
          },
          "metadata": {
            "tags": []
          }
        }
      ]
    },
    {
      "cell_type": "code",
      "metadata": {
        "id": "i8MChnLHKCvg",
        "outputId": "586973a0-8979-4080-a4e9-09d5e8e17180",
        "colab": {
          "base_uri": "https://localhost:8080/",
          "height": 745
        }
      },
      "source": [
        "history = pickle.load(open(\"BLSTM_1layer_128_nodense_001_dropout_2_history.pkl\",\"rb\"))\n",
        "history"
      ],
      "execution_count": null,
      "outputs": [
        {
          "output_type": "execute_result",
          "data": {
            "text/plain": [
              "{'acc': [0.5243333578109741,\n",
              "  0.5579652786254883,\n",
              "  0.5755521059036255,\n",
              "  0.590996503829956,\n",
              "  0.6064131855964661,\n",
              "  0.6225903034210205,\n",
              "  0.640701413154602,\n",
              "  0.6516110897064209,\n",
              "  0.6650694608688354,\n",
              "  0.6792430281639099],\n",
              " 'loss': [0.5566859245300293,\n",
              "  0.5336248278617859,\n",
              "  0.5221971273422241,\n",
              "  0.5083720088005066,\n",
              "  0.4958172142505646,\n",
              "  0.4828302264213562,\n",
              "  0.4663048982620239,\n",
              "  0.45513129234313965,\n",
              "  0.4425618350505829,\n",
              "  0.42758190631866455],\n",
              " 'val_acc': [0.5508055686950684,\n",
              "  0.5596944689750671,\n",
              "  0.5660971999168396,\n",
              "  0.5687222480773926,\n",
              "  0.5659999847412109,\n",
              "  0.5646944642066956,\n",
              "  0.566444456577301,\n",
              "  0.5605972409248352,\n",
              "  0.5617361068725586,\n",
              "  0.5575000047683716],\n",
              " 'val_loss': [0.5370073914527893,\n",
              "  0.5318731069564819,\n",
              "  0.5268410444259644,\n",
              "  0.5263255834579468,\n",
              "  0.5321478247642517,\n",
              "  0.5384119749069214,\n",
              "  0.5408296585083008,\n",
              "  0.5531864762306213,\n",
              "  0.5651594996452332,\n",
              "  0.5729269981384277]}"
            ]
          },
          "metadata": {
            "tags": []
          },
          "execution_count": 7
        }
      ]
    },
    {
      "cell_type": "code",
      "metadata": {
        "id": "HHHs26rm7BQI",
        "outputId": "02a351e1-8467-4ce0-80cb-64ecdee16009",
        "colab": {
          "base_uri": "https://localhost:8080/",
          "height": 517
        }
      },
      "source": [
        "from IPython.display import Image\n",
        "from bokeh.io import export_png\n",
        "from bokeh.io.export import get_screenshot_as_png\n",
        "x = [i for i in range(1,11)]\n",
        "y = history['val_acc']\n",
        "p = figure(plot_height=500, plot_width=1000,\n",
        "            title=\"Validation Accuracy by Epoch\", tools=\"save\")\n",
        "p.line(x, y, line_width=4)\n",
        "p.xgrid.grid_line_color = None\n",
        "p.axis.minor_tick_line_color = None\n",
        "p.xaxis.axis_label = \"Epochs\"\n",
        "p.yaxis.axis_label = \"Validation Accuracy\"\n",
        "p.xaxis.major_label_orientation = 1\n",
        "p.title.text_font_size = '20pt'\n",
        "\n",
        "p.yaxis.axis_label_text_font_size = \"20pt\"\n",
        "p.yaxis.major_label_text_font_size = \"15pt\"\n",
        "p.xaxis.axis_label_text_font_size = \"20pt\"\n",
        "p.xaxis.major_label_text_font_size = \"15pt\"\n",
        "\n",
        "show(p)"
      ],
      "execution_count": null,
      "outputs": [
        {
          "output_type": "display_data",
          "data": {
            "application/javascript": [
              "\n",
              "(function(root) {\n",
              "  function now() {\n",
              "    return new Date();\n",
              "  }\n",
              "\n",
              "  var force = true;\n",
              "\n",
              "  if (typeof root._bokeh_onload_callbacks === \"undefined\" || force === true) {\n",
              "    root._bokeh_onload_callbacks = [];\n",
              "    root._bokeh_is_loading = undefined;\n",
              "  }\n",
              "\n",
              "  var JS_MIME_TYPE = 'application/javascript';\n",
              "  var HTML_MIME_TYPE = 'text/html';\n",
              "  var EXEC_MIME_TYPE = 'application/vnd.bokehjs_exec.v0+json';\n",
              "  var CLASS_NAME = 'output_bokeh rendered_html';\n",
              "\n",
              "  /**\n",
              "   * Render data to the DOM node\n",
              "   */\n",
              "  function render(props, node) {\n",
              "    var script = document.createElement(\"script\");\n",
              "    node.appendChild(script);\n",
              "  }\n",
              "\n",
              "  /**\n",
              "   * Handle when an output is cleared or removed\n",
              "   */\n",
              "  function handleClearOutput(event, handle) {\n",
              "    var cell = handle.cell;\n",
              "\n",
              "    var id = cell.output_area._bokeh_element_id;\n",
              "    var server_id = cell.output_area._bokeh_server_id;\n",
              "    // Clean up Bokeh references\n",
              "    if (id != null && id in Bokeh.index) {\n",
              "      Bokeh.index[id].model.document.clear();\n",
              "      delete Bokeh.index[id];\n",
              "    }\n",
              "\n",
              "    if (server_id !== undefined) {\n",
              "      // Clean up Bokeh references\n",
              "      var cmd = \"from bokeh.io.state import curstate; print(curstate().uuid_to_server['\" + server_id + \"'].get_sessions()[0].document.roots[0]._id)\";\n",
              "      cell.notebook.kernel.execute(cmd, {\n",
              "        iopub: {\n",
              "          output: function(msg) {\n",
              "            var id = msg.content.text.trim();\n",
              "            if (id in Bokeh.index) {\n",
              "              Bokeh.index[id].model.document.clear();\n",
              "              delete Bokeh.index[id];\n",
              "            }\n",
              "          }\n",
              "        }\n",
              "      });\n",
              "      // Destroy server and session\n",
              "      var cmd = \"import bokeh.io.notebook as ion; ion.destroy_server('\" + server_id + \"')\";\n",
              "      cell.notebook.kernel.execute(cmd);\n",
              "    }\n",
              "  }\n",
              "\n",
              "  /**\n",
              "   * Handle when a new output is added\n",
              "   */\n",
              "  function handleAddOutput(event, handle) {\n",
              "    var output_area = handle.output_area;\n",
              "    var output = handle.output;\n",
              "\n",
              "    // limit handleAddOutput to display_data with EXEC_MIME_TYPE content only\n",
              "    if ((output.output_type != \"display_data\") || (!output.data.hasOwnProperty(EXEC_MIME_TYPE))) {\n",
              "      return\n",
              "    }\n",
              "\n",
              "    var toinsert = output_area.element.find(\".\" + CLASS_NAME.split(' ')[0]);\n",
              "\n",
              "    if (output.metadata[EXEC_MIME_TYPE][\"id\"] !== undefined) {\n",
              "      toinsert[toinsert.length - 1].firstChild.textContent = output.data[JS_MIME_TYPE];\n",
              "      // store reference to embed id on output_area\n",
              "      output_area._bokeh_element_id = output.metadata[EXEC_MIME_TYPE][\"id\"];\n",
              "    }\n",
              "    if (output.metadata[EXEC_MIME_TYPE][\"server_id\"] !== undefined) {\n",
              "      var bk_div = document.createElement(\"div\");\n",
              "      bk_div.innerHTML = output.data[HTML_MIME_TYPE];\n",
              "      var script_attrs = bk_div.children[0].attributes;\n",
              "      for (var i = 0; i < script_attrs.length; i++) {\n",
              "        toinsert[toinsert.length - 1].firstChild.setAttribute(script_attrs[i].name, script_attrs[i].value);\n",
              "        toinsert[toinsert.length - 1].firstChild.textContent = bk_div.children[0].textContent\n",
              "      }\n",
              "      // store reference to server id on output_area\n",
              "      output_area._bokeh_server_id = output.metadata[EXEC_MIME_TYPE][\"server_id\"];\n",
              "    }\n",
              "  }\n",
              "\n",
              "  function register_renderer(events, OutputArea) {\n",
              "\n",
              "    function append_mime(data, metadata, element) {\n",
              "      // create a DOM node to render to\n",
              "      var toinsert = this.create_output_subarea(\n",
              "        metadata,\n",
              "        CLASS_NAME,\n",
              "        EXEC_MIME_TYPE\n",
              "      );\n",
              "      this.keyboard_manager.register_events(toinsert);\n",
              "      // Render to node\n",
              "      var props = {data: data, metadata: metadata[EXEC_MIME_TYPE]};\n",
              "      render(props, toinsert[toinsert.length - 1]);\n",
              "      element.append(toinsert);\n",
              "      return toinsert\n",
              "    }\n",
              "\n",
              "    /* Handle when an output is cleared or removed */\n",
              "    events.on('clear_output.CodeCell', handleClearOutput);\n",
              "    events.on('delete.Cell', handleClearOutput);\n",
              "\n",
              "    /* Handle when a new output is added */\n",
              "    events.on('output_added.OutputArea', handleAddOutput);\n",
              "\n",
              "    /**\n",
              "     * Register the mime type and append_mime function with output_area\n",
              "     */\n",
              "    OutputArea.prototype.register_mime_type(EXEC_MIME_TYPE, append_mime, {\n",
              "      /* Is output safe? */\n",
              "      safe: true,\n",
              "      /* Index of renderer in `output_area.display_order` */\n",
              "      index: 0\n",
              "    });\n",
              "  }\n",
              "\n",
              "  // register the mime type if in Jupyter Notebook environment and previously unregistered\n",
              "  if (root.Jupyter !== undefined) {\n",
              "    var events = require('base/js/events');\n",
              "    var OutputArea = require('notebook/js/outputarea').OutputArea;\n",
              "\n",
              "    if (OutputArea.prototype.mime_types().indexOf(EXEC_MIME_TYPE) == -1) {\n",
              "      register_renderer(events, OutputArea);\n",
              "    }\n",
              "  }\n",
              "\n",
              "  \n",
              "  if (typeof (root._bokeh_timeout) === \"undefined\" || force === true) {\n",
              "    root._bokeh_timeout = Date.now() + 5000;\n",
              "    root._bokeh_failed_load = false;\n",
              "  }\n",
              "\n",
              "  var NB_LOAD_WARNING = {'data': {'text/html':\n",
              "     \"<div style='background-color: #fdd'>\\n\"+\n",
              "     \"<p>\\n\"+\n",
              "     \"BokehJS does not appear to have successfully loaded. If loading BokehJS from CDN, this \\n\"+\n",
              "     \"may be due to a slow or bad network connection. Possible fixes:\\n\"+\n",
              "     \"</p>\\n\"+\n",
              "     \"<ul>\\n\"+\n",
              "     \"<li>re-rerun `output_notebook()` to attempt to load from CDN again, or</li>\\n\"+\n",
              "     \"<li>use INLINE resources instead, as so:</li>\\n\"+\n",
              "     \"</ul>\\n\"+\n",
              "     \"<code>\\n\"+\n",
              "     \"from bokeh.resources import INLINE\\n\"+\n",
              "     \"output_notebook(resources=INLINE)\\n\"+\n",
              "     \"</code>\\n\"+\n",
              "     \"</div>\"}};\n",
              "\n",
              "  function display_loaded() {\n",
              "    var el = document.getElementById(null);\n",
              "    if (el != null) {\n",
              "      el.textContent = \"BokehJS is loading...\";\n",
              "    }\n",
              "    if (root.Bokeh !== undefined) {\n",
              "      if (el != null) {\n",
              "        el.textContent = \"BokehJS \" + root.Bokeh.version + \" successfully loaded.\";\n",
              "      }\n",
              "    } else if (Date.now() < root._bokeh_timeout) {\n",
              "      setTimeout(display_loaded, 100)\n",
              "    }\n",
              "  }\n",
              "\n",
              "\n",
              "  function run_callbacks() {\n",
              "    try {\n",
              "      root._bokeh_onload_callbacks.forEach(function(callback) {\n",
              "        if (callback != null)\n",
              "          callback();\n",
              "      });\n",
              "    } finally {\n",
              "      delete root._bokeh_onload_callbacks\n",
              "    }\n",
              "    console.debug(\"Bokeh: all callbacks have finished\");\n",
              "  }\n",
              "\n",
              "  function load_libs(css_urls, js_urls, callback) {\n",
              "    if (css_urls == null) css_urls = [];\n",
              "    if (js_urls == null) js_urls = [];\n",
              "\n",
              "    root._bokeh_onload_callbacks.push(callback);\n",
              "    if (root._bokeh_is_loading > 0) {\n",
              "      console.debug(\"Bokeh: BokehJS is being loaded, scheduling callback at\", now());\n",
              "      return null;\n",
              "    }\n",
              "    if (js_urls == null || js_urls.length === 0) {\n",
              "      run_callbacks();\n",
              "      return null;\n",
              "    }\n",
              "    console.debug(\"Bokeh: BokehJS not loaded, scheduling load and callback at\", now());\n",
              "    root._bokeh_is_loading = css_urls.length + js_urls.length;\n",
              "\n",
              "    function on_load() {\n",
              "      root._bokeh_is_loading--;\n",
              "      if (root._bokeh_is_loading === 0) {\n",
              "        console.debug(\"Bokeh: all BokehJS libraries/stylesheets loaded\");\n",
              "        run_callbacks()\n",
              "      }\n",
              "    }\n",
              "\n",
              "    function on_error() {\n",
              "      console.error(\"failed to load \" + url);\n",
              "    }\n",
              "\n",
              "    for (var i = 0; i < css_urls.length; i++) {\n",
              "      var url = css_urls[i];\n",
              "      const element = document.createElement(\"link\");\n",
              "      element.onload = on_load;\n",
              "      element.onerror = on_error;\n",
              "      element.rel = \"stylesheet\";\n",
              "      element.type = \"text/css\";\n",
              "      element.href = url;\n",
              "      console.debug(\"Bokeh: injecting link tag for BokehJS stylesheet: \", url);\n",
              "      document.body.appendChild(element);\n",
              "    }\n",
              "\n",
              "    const hashes = {\"https://cdn.bokeh.org/bokeh/release/bokeh-2.1.1.min.js\": \"kLr4fYcqcSpbuI95brIH3vnnYCquzzSxHPU6XGQCIkQRGJwhg0StNbj1eegrHs12\", \"https://cdn.bokeh.org/bokeh/release/bokeh-widgets-2.1.1.min.js\": \"xIGPmVtaOm+z0BqfSOMn4lOR6ciex448GIKG4eE61LsAvmGj48XcMQZtKcE/UXZe\", \"https://cdn.bokeh.org/bokeh/release/bokeh-tables-2.1.1.min.js\": \"Dc9u1wF/0zApGIWoBbH77iWEHtdmkuYWG839Uzmv8y8yBLXebjO9ZnERsde5Ln/P\", \"https://cdn.bokeh.org/bokeh/release/bokeh-gl-2.1.1.min.js\": \"cT9JaBz7GiRXdENrJLZNSC6eMNF3nh3fa5fTF51Svp+ukxPdwcU5kGXGPBgDCa2j\"};\n",
              "\n",
              "    for (var i = 0; i < js_urls.length; i++) {\n",
              "      var url = js_urls[i];\n",
              "      var element = document.createElement('script');\n",
              "      element.onload = on_load;\n",
              "      element.onerror = on_error;\n",
              "      element.async = false;\n",
              "      element.src = url;\n",
              "      if (url in hashes) {\n",
              "        element.crossOrigin = \"anonymous\";\n",
              "        element.integrity = \"sha384-\" + hashes[url];\n",
              "      }\n",
              "      console.debug(\"Bokeh: injecting script tag for BokehJS library: \", url);\n",
              "      document.head.appendChild(element);\n",
              "    }\n",
              "  };\n",
              "\n",
              "  function inject_raw_css(css) {\n",
              "    const element = document.createElement(\"style\");\n",
              "    element.appendChild(document.createTextNode(css));\n",
              "    document.body.appendChild(element);\n",
              "  }\n",
              "\n",
              "  \n",
              "  var js_urls = [\"https://cdn.bokeh.org/bokeh/release/bokeh-2.1.1.min.js\", \"https://cdn.bokeh.org/bokeh/release/bokeh-widgets-2.1.1.min.js\", \"https://cdn.bokeh.org/bokeh/release/bokeh-tables-2.1.1.min.js\", \"https://cdn.bokeh.org/bokeh/release/bokeh-gl-2.1.1.min.js\"];\n",
              "  var css_urls = [];\n",
              "  \n",
              "\n",
              "  var inline_js = [\n",
              "    function(Bokeh) {\n",
              "      Bokeh.set_log_level(\"info\");\n",
              "    },\n",
              "    function(Bokeh) {\n",
              "    \n",
              "    \n",
              "    }\n",
              "  ];\n",
              "\n",
              "  function run_inline_js() {\n",
              "    \n",
              "    if (root.Bokeh !== undefined || force === true) {\n",
              "      \n",
              "    for (var i = 0; i < inline_js.length; i++) {\n",
              "      inline_js[i].call(root, root.Bokeh);\n",
              "    }\n",
              "    } else if (Date.now() < root._bokeh_timeout) {\n",
              "      setTimeout(run_inline_js, 100);\n",
              "    } else if (!root._bokeh_failed_load) {\n",
              "      console.log(\"Bokeh: BokehJS failed to load within specified timeout.\");\n",
              "      root._bokeh_failed_load = true;\n",
              "    } else if (force !== true) {\n",
              "      var cell = $(document.getElementById(null)).parents('.cell').data().cell;\n",
              "      cell.output_area.append_execute_result(NB_LOAD_WARNING)\n",
              "    }\n",
              "\n",
              "  }\n",
              "\n",
              "  if (root._bokeh_is_loading === 0) {\n",
              "    console.debug(\"Bokeh: BokehJS loaded, going straight to plotting\");\n",
              "    run_inline_js();\n",
              "  } else {\n",
              "    load_libs(css_urls, js_urls, function() {\n",
              "      console.debug(\"Bokeh: BokehJS plotting callback run at\", now());\n",
              "      run_inline_js();\n",
              "    });\n",
              "  }\n",
              "}(window));"
            ],
            "application/vnd.bokehjs_load.v0+json": "\n(function(root) {\n  function now() {\n    return new Date();\n  }\n\n  var force = true;\n\n  if (typeof root._bokeh_onload_callbacks === \"undefined\" || force === true) {\n    root._bokeh_onload_callbacks = [];\n    root._bokeh_is_loading = undefined;\n  }\n\n  \n\n  \n  if (typeof (root._bokeh_timeout) === \"undefined\" || force === true) {\n    root._bokeh_timeout = Date.now() + 5000;\n    root._bokeh_failed_load = false;\n  }\n\n  var NB_LOAD_WARNING = {'data': {'text/html':\n     \"<div style='background-color: #fdd'>\\n\"+\n     \"<p>\\n\"+\n     \"BokehJS does not appear to have successfully loaded. If loading BokehJS from CDN, this \\n\"+\n     \"may be due to a slow or bad network connection. Possible fixes:\\n\"+\n     \"</p>\\n\"+\n     \"<ul>\\n\"+\n     \"<li>re-rerun `output_notebook()` to attempt to load from CDN again, or</li>\\n\"+\n     \"<li>use INLINE resources instead, as so:</li>\\n\"+\n     \"</ul>\\n\"+\n     \"<code>\\n\"+\n     \"from bokeh.resources import INLINE\\n\"+\n     \"output_notebook(resources=INLINE)\\n\"+\n     \"</code>\\n\"+\n     \"</div>\"}};\n\n  function display_loaded() {\n    var el = document.getElementById(null);\n    if (el != null) {\n      el.textContent = \"BokehJS is loading...\";\n    }\n    if (root.Bokeh !== undefined) {\n      if (el != null) {\n        el.textContent = \"BokehJS \" + root.Bokeh.version + \" successfully loaded.\";\n      }\n    } else if (Date.now() < root._bokeh_timeout) {\n      setTimeout(display_loaded, 100)\n    }\n  }\n\n\n  function run_callbacks() {\n    try {\n      root._bokeh_onload_callbacks.forEach(function(callback) {\n        if (callback != null)\n          callback();\n      });\n    } finally {\n      delete root._bokeh_onload_callbacks\n    }\n    console.debug(\"Bokeh: all callbacks have finished\");\n  }\n\n  function load_libs(css_urls, js_urls, callback) {\n    if (css_urls == null) css_urls = [];\n    if (js_urls == null) js_urls = [];\n\n    root._bokeh_onload_callbacks.push(callback);\n    if (root._bokeh_is_loading > 0) {\n      console.debug(\"Bokeh: BokehJS is being loaded, scheduling callback at\", now());\n      return null;\n    }\n    if (js_urls == null || js_urls.length === 0) {\n      run_callbacks();\n      return null;\n    }\n    console.debug(\"Bokeh: BokehJS not loaded, scheduling load and callback at\", now());\n    root._bokeh_is_loading = css_urls.length + js_urls.length;\n\n    function on_load() {\n      root._bokeh_is_loading--;\n      if (root._bokeh_is_loading === 0) {\n        console.debug(\"Bokeh: all BokehJS libraries/stylesheets loaded\");\n        run_callbacks()\n      }\n    }\n\n    function on_error() {\n      console.error(\"failed to load \" + url);\n    }\n\n    for (var i = 0; i < css_urls.length; i++) {\n      var url = css_urls[i];\n      const element = document.createElement(\"link\");\n      element.onload = on_load;\n      element.onerror = on_error;\n      element.rel = \"stylesheet\";\n      element.type = \"text/css\";\n      element.href = url;\n      console.debug(\"Bokeh: injecting link tag for BokehJS stylesheet: \", url);\n      document.body.appendChild(element);\n    }\n\n    const hashes = {\"https://cdn.bokeh.org/bokeh/release/bokeh-2.1.1.min.js\": \"kLr4fYcqcSpbuI95brIH3vnnYCquzzSxHPU6XGQCIkQRGJwhg0StNbj1eegrHs12\", \"https://cdn.bokeh.org/bokeh/release/bokeh-widgets-2.1.1.min.js\": \"xIGPmVtaOm+z0BqfSOMn4lOR6ciex448GIKG4eE61LsAvmGj48XcMQZtKcE/UXZe\", \"https://cdn.bokeh.org/bokeh/release/bokeh-tables-2.1.1.min.js\": \"Dc9u1wF/0zApGIWoBbH77iWEHtdmkuYWG839Uzmv8y8yBLXebjO9ZnERsde5Ln/P\", \"https://cdn.bokeh.org/bokeh/release/bokeh-gl-2.1.1.min.js\": \"cT9JaBz7GiRXdENrJLZNSC6eMNF3nh3fa5fTF51Svp+ukxPdwcU5kGXGPBgDCa2j\"};\n\n    for (var i = 0; i < js_urls.length; i++) {\n      var url = js_urls[i];\n      var element = document.createElement('script');\n      element.onload = on_load;\n      element.onerror = on_error;\n      element.async = false;\n      element.src = url;\n      if (url in hashes) {\n        element.crossOrigin = \"anonymous\";\n        element.integrity = \"sha384-\" + hashes[url];\n      }\n      console.debug(\"Bokeh: injecting script tag for BokehJS library: \", url);\n      document.head.appendChild(element);\n    }\n  };\n\n  function inject_raw_css(css) {\n    const element = document.createElement(\"style\");\n    element.appendChild(document.createTextNode(css));\n    document.body.appendChild(element);\n  }\n\n  \n  var js_urls = [\"https://cdn.bokeh.org/bokeh/release/bokeh-2.1.1.min.js\", \"https://cdn.bokeh.org/bokeh/release/bokeh-widgets-2.1.1.min.js\", \"https://cdn.bokeh.org/bokeh/release/bokeh-tables-2.1.1.min.js\", \"https://cdn.bokeh.org/bokeh/release/bokeh-gl-2.1.1.min.js\"];\n  var css_urls = [];\n  \n\n  var inline_js = [\n    function(Bokeh) {\n      Bokeh.set_log_level(\"info\");\n    },\n    function(Bokeh) {\n    \n    \n    }\n  ];\n\n  function run_inline_js() {\n    \n    if (root.Bokeh !== undefined || force === true) {\n      \n    for (var i = 0; i < inline_js.length; i++) {\n      inline_js[i].call(root, root.Bokeh);\n    }\n    } else if (Date.now() < root._bokeh_timeout) {\n      setTimeout(run_inline_js, 100);\n    } else if (!root._bokeh_failed_load) {\n      console.log(\"Bokeh: BokehJS failed to load within specified timeout.\");\n      root._bokeh_failed_load = true;\n    } else if (force !== true) {\n      var cell = $(document.getElementById(null)).parents('.cell').data().cell;\n      cell.output_area.append_execute_result(NB_LOAD_WARNING)\n    }\n\n  }\n\n  if (root._bokeh_is_loading === 0) {\n    console.debug(\"Bokeh: BokehJS loaded, going straight to plotting\");\n    run_inline_js();\n  } else {\n    load_libs(css_urls, js_urls, function() {\n      console.debug(\"Bokeh: BokehJS plotting callback run at\", now());\n      run_inline_js();\n    });\n  }\n}(window));"
          },
          "metadata": {
            "tags": []
          }
        },
        {
          "output_type": "display_data",
          "data": {
            "text/html": [
              "\n",
              "\n",
              "\n",
              "\n",
              "\n",
              "\n",
              "  <div class=\"bk-root\" id=\"b6f9dd6a-6e3c-41ef-8946-4bfc5dddeaf0\" data-root-id=\"1001\"></div>\n"
            ]
          },
          "metadata": {
            "tags": []
          }
        },
        {
          "output_type": "display_data",
          "data": {
            "application/javascript": [
              "(function(root) {\n",
              "  function embed_document(root) {\n",
              "    \n",
              "  var docs_json = {\"561bfc85-dcaa-4f9a-8a03-4d1e7a2d19c0\":{\"roots\":{\"references\":[{\"attributes\":{\"below\":[{\"id\":\"1012\"}],\"center\":[{\"id\":\"1015\"},{\"id\":\"1019\"}],\"left\":[{\"id\":\"1016\"}],\"plot_height\":500,\"plot_width\":1000,\"renderers\":[{\"id\":\"1026\"}],\"title\":{\"id\":\"1002\"},\"toolbar\":{\"id\":\"1021\"},\"x_range\":{\"id\":\"1004\"},\"x_scale\":{\"id\":\"1008\"},\"y_range\":{\"id\":\"1006\"},\"y_scale\":{\"id\":\"1010\"}},\"id\":\"1001\",\"subtype\":\"Figure\",\"type\":\"Plot\"},{\"attributes\":{},\"id\":\"1008\",\"type\":\"LinearScale\"},{\"attributes\":{},\"id\":\"1010\",\"type\":\"LinearScale\"},{\"attributes\":{\"axis_label\":\"Epochs\",\"axis_label_text_font_size\":\"20pt\",\"formatter\":{\"id\":\"1029\"},\"major_label_orientation\":1,\"major_label_text_font_size\":\"15pt\",\"minor_tick_line_color\":null,\"ticker\":{\"id\":\"1013\"}},\"id\":\"1012\",\"type\":\"LinearAxis\"},{\"attributes\":{},\"id\":\"1013\",\"type\":\"BasicTicker\"},{\"attributes\":{\"axis\":{\"id\":\"1012\"},\"grid_line_color\":null,\"ticker\":null},\"id\":\"1015\",\"type\":\"Grid\"},{\"attributes\":{},\"id\":\"1034\",\"type\":\"Selection\"},{\"attributes\":{\"axis_label\":\"Validation Accuracy\",\"axis_label_text_font_size\":\"20pt\",\"formatter\":{\"id\":\"1031\"},\"major_label_text_font_size\":\"15pt\",\"minor_tick_line_color\":null,\"ticker\":{\"id\":\"1017\"}},\"id\":\"1016\",\"type\":\"LinearAxis\"},{\"attributes\":{\"line_alpha\":0.1,\"line_color\":\"#1f77b4\",\"line_width\":4,\"x\":{\"field\":\"x\"},\"y\":{\"field\":\"y\"}},\"id\":\"1025\",\"type\":\"Line\"},{\"attributes\":{},\"id\":\"1017\",\"type\":\"BasicTicker\"},{\"attributes\":{\"data_source\":{\"id\":\"1023\"},\"glyph\":{\"id\":\"1024\"},\"hover_glyph\":null,\"muted_glyph\":null,\"nonselection_glyph\":{\"id\":\"1025\"},\"selection_glyph\":null,\"view\":{\"id\":\"1027\"}},\"id\":\"1026\",\"type\":\"GlyphRenderer\"},{\"attributes\":{\"axis\":{\"id\":\"1016\"},\"dimension\":1,\"ticker\":null},\"id\":\"1019\",\"type\":\"Grid\"},{\"attributes\":{},\"id\":\"1020\",\"type\":\"SaveTool\"},{\"attributes\":{\"active_drag\":\"auto\",\"active_inspect\":\"auto\",\"active_multi\":null,\"active_scroll\":\"auto\",\"active_tap\":\"auto\",\"tools\":[{\"id\":\"1020\"}]},\"id\":\"1021\",\"type\":\"Toolbar\"},{\"attributes\":{},\"id\":\"1031\",\"type\":\"BasicTickFormatter\"},{\"attributes\":{\"line_color\":\"#1f77b4\",\"line_width\":4,\"x\":{\"field\":\"x\"},\"y\":{\"field\":\"y\"}},\"id\":\"1024\",\"type\":\"Line\"},{\"attributes\":{},\"id\":\"1029\",\"type\":\"BasicTickFormatter\"},{\"attributes\":{},\"id\":\"1033\",\"type\":\"UnionRenderers\"},{\"attributes\":{\"data\":{\"x\":[1,2,3,4,5,6,7,8,9,10],\"y\":[0.5508055686950684,0.5596944689750671,0.5660971999168396,0.5687222480773926,0.5659999847412109,0.5646944642066956,0.566444456577301,0.5605972409248352,0.5617361068725586,0.5575000047683716]},\"selected\":{\"id\":\"1034\"},\"selection_policy\":{\"id\":\"1033\"}},\"id\":\"1023\",\"type\":\"ColumnDataSource\"},{\"attributes\":{\"text\":\"Validation Accuracy by Epoch\",\"text_font_size\":{\"value\":\"20pt\"}},\"id\":\"1002\",\"type\":\"Title\"},{\"attributes\":{},\"id\":\"1004\",\"type\":\"DataRange1d\"},{\"attributes\":{},\"id\":\"1006\",\"type\":\"DataRange1d\"},{\"attributes\":{\"source\":{\"id\":\"1023\"}},\"id\":\"1027\",\"type\":\"CDSView\"}],\"root_ids\":[\"1001\"]},\"title\":\"Bokeh Application\",\"version\":\"2.1.1\"}};\n",
              "  var render_items = [{\"docid\":\"561bfc85-dcaa-4f9a-8a03-4d1e7a2d19c0\",\"root_ids\":[\"1001\"],\"roots\":{\"1001\":\"b6f9dd6a-6e3c-41ef-8946-4bfc5dddeaf0\"}}];\n",
              "  root.Bokeh.embed.embed_items_notebook(docs_json, render_items);\n",
              "\n",
              "  }\n",
              "  if (root.Bokeh !== undefined) {\n",
              "    embed_document(root);\n",
              "  } else {\n",
              "    var attempts = 0;\n",
              "    var timer = setInterval(function(root) {\n",
              "      if (root.Bokeh !== undefined) {\n",
              "        clearInterval(timer);\n",
              "        embed_document(root);\n",
              "      } else {\n",
              "        attempts++;\n",
              "        if (attempts > 100) {\n",
              "          clearInterval(timer);\n",
              "          console.log(\"Bokeh: ERROR: Unable to run BokehJS code because BokehJS library is missing\");\n",
              "        }\n",
              "      }\n",
              "    }, 10, root)\n",
              "  }\n",
              "})(window);"
            ],
            "application/vnd.bokehjs_exec.v0+json": ""
          },
          "metadata": {
            "tags": [],
            "application/vnd.bokehjs_exec.v0+json": {
              "id": "1001"
            }
          }
        }
      ]
    },
    {
      "cell_type": "code",
      "metadata": {
        "id": "2LDAuCqH71_Z",
        "outputId": "77a8fdfa-928d-4390-f10a-81033b63fd8b",
        "colab": {
          "base_uri": "https://localhost:8080/",
          "height": 517
        }
      },
      "source": [
        "x = [i for i in range(1,11)]\n",
        "y = history['val_loss']\n",
        "p = figure(plot_height=500, plot_width=1000,\n",
        "            title=\"Validation Loss by Epoch\", tools=\"save\")\n",
        "p.line(x, y, line_width=4)\n",
        "p.xgrid.grid_line_color = None\n",
        "p.axis.minor_tick_line_color = None\n",
        "p.xaxis.axis_label = \"Epochs\"\n",
        "p.yaxis.axis_label = \"Validation Loss\"\n",
        "p.xaxis.major_label_orientation = 1\n",
        "p.title.text_font_size = '25pt'\n",
        "\n",
        "p.yaxis.axis_label_text_font_size = \"20pt\"\n",
        "p.yaxis.major_label_text_font_size = \"15pt\"\n",
        "p.xaxis.axis_label_text_font_size = \"20pt\"\n",
        "p.xaxis.major_label_text_font_size = \"15pt\"\n",
        "show(p)"
      ],
      "execution_count": null,
      "outputs": [
        {
          "output_type": "display_data",
          "data": {
            "application/javascript": [
              "\n",
              "(function(root) {\n",
              "  function now() {\n",
              "    return new Date();\n",
              "  }\n",
              "\n",
              "  var force = true;\n",
              "\n",
              "  if (typeof root._bokeh_onload_callbacks === \"undefined\" || force === true) {\n",
              "    root._bokeh_onload_callbacks = [];\n",
              "    root._bokeh_is_loading = undefined;\n",
              "  }\n",
              "\n",
              "  var JS_MIME_TYPE = 'application/javascript';\n",
              "  var HTML_MIME_TYPE = 'text/html';\n",
              "  var EXEC_MIME_TYPE = 'application/vnd.bokehjs_exec.v0+json';\n",
              "  var CLASS_NAME = 'output_bokeh rendered_html';\n",
              "\n",
              "  /**\n",
              "   * Render data to the DOM node\n",
              "   */\n",
              "  function render(props, node) {\n",
              "    var script = document.createElement(\"script\");\n",
              "    node.appendChild(script);\n",
              "  }\n",
              "\n",
              "  /**\n",
              "   * Handle when an output is cleared or removed\n",
              "   */\n",
              "  function handleClearOutput(event, handle) {\n",
              "    var cell = handle.cell;\n",
              "\n",
              "    var id = cell.output_area._bokeh_element_id;\n",
              "    var server_id = cell.output_area._bokeh_server_id;\n",
              "    // Clean up Bokeh references\n",
              "    if (id != null && id in Bokeh.index) {\n",
              "      Bokeh.index[id].model.document.clear();\n",
              "      delete Bokeh.index[id];\n",
              "    }\n",
              "\n",
              "    if (server_id !== undefined) {\n",
              "      // Clean up Bokeh references\n",
              "      var cmd = \"from bokeh.io.state import curstate; print(curstate().uuid_to_server['\" + server_id + \"'].get_sessions()[0].document.roots[0]._id)\";\n",
              "      cell.notebook.kernel.execute(cmd, {\n",
              "        iopub: {\n",
              "          output: function(msg) {\n",
              "            var id = msg.content.text.trim();\n",
              "            if (id in Bokeh.index) {\n",
              "              Bokeh.index[id].model.document.clear();\n",
              "              delete Bokeh.index[id];\n",
              "            }\n",
              "          }\n",
              "        }\n",
              "      });\n",
              "      // Destroy server and session\n",
              "      var cmd = \"import bokeh.io.notebook as ion; ion.destroy_server('\" + server_id + \"')\";\n",
              "      cell.notebook.kernel.execute(cmd);\n",
              "    }\n",
              "  }\n",
              "\n",
              "  /**\n",
              "   * Handle when a new output is added\n",
              "   */\n",
              "  function handleAddOutput(event, handle) {\n",
              "    var output_area = handle.output_area;\n",
              "    var output = handle.output;\n",
              "\n",
              "    // limit handleAddOutput to display_data with EXEC_MIME_TYPE content only\n",
              "    if ((output.output_type != \"display_data\") || (!output.data.hasOwnProperty(EXEC_MIME_TYPE))) {\n",
              "      return\n",
              "    }\n",
              "\n",
              "    var toinsert = output_area.element.find(\".\" + CLASS_NAME.split(' ')[0]);\n",
              "\n",
              "    if (output.metadata[EXEC_MIME_TYPE][\"id\"] !== undefined) {\n",
              "      toinsert[toinsert.length - 1].firstChild.textContent = output.data[JS_MIME_TYPE];\n",
              "      // store reference to embed id on output_area\n",
              "      output_area._bokeh_element_id = output.metadata[EXEC_MIME_TYPE][\"id\"];\n",
              "    }\n",
              "    if (output.metadata[EXEC_MIME_TYPE][\"server_id\"] !== undefined) {\n",
              "      var bk_div = document.createElement(\"div\");\n",
              "      bk_div.innerHTML = output.data[HTML_MIME_TYPE];\n",
              "      var script_attrs = bk_div.children[0].attributes;\n",
              "      for (var i = 0; i < script_attrs.length; i++) {\n",
              "        toinsert[toinsert.length - 1].firstChild.setAttribute(script_attrs[i].name, script_attrs[i].value);\n",
              "        toinsert[toinsert.length - 1].firstChild.textContent = bk_div.children[0].textContent\n",
              "      }\n",
              "      // store reference to server id on output_area\n",
              "      output_area._bokeh_server_id = output.metadata[EXEC_MIME_TYPE][\"server_id\"];\n",
              "    }\n",
              "  }\n",
              "\n",
              "  function register_renderer(events, OutputArea) {\n",
              "\n",
              "    function append_mime(data, metadata, element) {\n",
              "      // create a DOM node to render to\n",
              "      var toinsert = this.create_output_subarea(\n",
              "        metadata,\n",
              "        CLASS_NAME,\n",
              "        EXEC_MIME_TYPE\n",
              "      );\n",
              "      this.keyboard_manager.register_events(toinsert);\n",
              "      // Render to node\n",
              "      var props = {data: data, metadata: metadata[EXEC_MIME_TYPE]};\n",
              "      render(props, toinsert[toinsert.length - 1]);\n",
              "      element.append(toinsert);\n",
              "      return toinsert\n",
              "    }\n",
              "\n",
              "    /* Handle when an output is cleared or removed */\n",
              "    events.on('clear_output.CodeCell', handleClearOutput);\n",
              "    events.on('delete.Cell', handleClearOutput);\n",
              "\n",
              "    /* Handle when a new output is added */\n",
              "    events.on('output_added.OutputArea', handleAddOutput);\n",
              "\n",
              "    /**\n",
              "     * Register the mime type and append_mime function with output_area\n",
              "     */\n",
              "    OutputArea.prototype.register_mime_type(EXEC_MIME_TYPE, append_mime, {\n",
              "      /* Is output safe? */\n",
              "      safe: true,\n",
              "      /* Index of renderer in `output_area.display_order` */\n",
              "      index: 0\n",
              "    });\n",
              "  }\n",
              "\n",
              "  // register the mime type if in Jupyter Notebook environment and previously unregistered\n",
              "  if (root.Jupyter !== undefined) {\n",
              "    var events = require('base/js/events');\n",
              "    var OutputArea = require('notebook/js/outputarea').OutputArea;\n",
              "\n",
              "    if (OutputArea.prototype.mime_types().indexOf(EXEC_MIME_TYPE) == -1) {\n",
              "      register_renderer(events, OutputArea);\n",
              "    }\n",
              "  }\n",
              "\n",
              "  \n",
              "  if (typeof (root._bokeh_timeout) === \"undefined\" || force === true) {\n",
              "    root._bokeh_timeout = Date.now() + 5000;\n",
              "    root._bokeh_failed_load = false;\n",
              "  }\n",
              "\n",
              "  var NB_LOAD_WARNING = {'data': {'text/html':\n",
              "     \"<div style='background-color: #fdd'>\\n\"+\n",
              "     \"<p>\\n\"+\n",
              "     \"BokehJS does not appear to have successfully loaded. If loading BokehJS from CDN, this \\n\"+\n",
              "     \"may be due to a slow or bad network connection. Possible fixes:\\n\"+\n",
              "     \"</p>\\n\"+\n",
              "     \"<ul>\\n\"+\n",
              "     \"<li>re-rerun `output_notebook()` to attempt to load from CDN again, or</li>\\n\"+\n",
              "     \"<li>use INLINE resources instead, as so:</li>\\n\"+\n",
              "     \"</ul>\\n\"+\n",
              "     \"<code>\\n\"+\n",
              "     \"from bokeh.resources import INLINE\\n\"+\n",
              "     \"output_notebook(resources=INLINE)\\n\"+\n",
              "     \"</code>\\n\"+\n",
              "     \"</div>\"}};\n",
              "\n",
              "  function display_loaded() {\n",
              "    var el = document.getElementById(null);\n",
              "    if (el != null) {\n",
              "      el.textContent = \"BokehJS is loading...\";\n",
              "    }\n",
              "    if (root.Bokeh !== undefined) {\n",
              "      if (el != null) {\n",
              "        el.textContent = \"BokehJS \" + root.Bokeh.version + \" successfully loaded.\";\n",
              "      }\n",
              "    } else if (Date.now() < root._bokeh_timeout) {\n",
              "      setTimeout(display_loaded, 100)\n",
              "    }\n",
              "  }\n",
              "\n",
              "\n",
              "  function run_callbacks() {\n",
              "    try {\n",
              "      root._bokeh_onload_callbacks.forEach(function(callback) {\n",
              "        if (callback != null)\n",
              "          callback();\n",
              "      });\n",
              "    } finally {\n",
              "      delete root._bokeh_onload_callbacks\n",
              "    }\n",
              "    console.debug(\"Bokeh: all callbacks have finished\");\n",
              "  }\n",
              "\n",
              "  function load_libs(css_urls, js_urls, callback) {\n",
              "    if (css_urls == null) css_urls = [];\n",
              "    if (js_urls == null) js_urls = [];\n",
              "\n",
              "    root._bokeh_onload_callbacks.push(callback);\n",
              "    if (root._bokeh_is_loading > 0) {\n",
              "      console.debug(\"Bokeh: BokehJS is being loaded, scheduling callback at\", now());\n",
              "      return null;\n",
              "    }\n",
              "    if (js_urls == null || js_urls.length === 0) {\n",
              "      run_callbacks();\n",
              "      return null;\n",
              "    }\n",
              "    console.debug(\"Bokeh: BokehJS not loaded, scheduling load and callback at\", now());\n",
              "    root._bokeh_is_loading = css_urls.length + js_urls.length;\n",
              "\n",
              "    function on_load() {\n",
              "      root._bokeh_is_loading--;\n",
              "      if (root._bokeh_is_loading === 0) {\n",
              "        console.debug(\"Bokeh: all BokehJS libraries/stylesheets loaded\");\n",
              "        run_callbacks()\n",
              "      }\n",
              "    }\n",
              "\n",
              "    function on_error() {\n",
              "      console.error(\"failed to load \" + url);\n",
              "    }\n",
              "\n",
              "    for (var i = 0; i < css_urls.length; i++) {\n",
              "      var url = css_urls[i];\n",
              "      const element = document.createElement(\"link\");\n",
              "      element.onload = on_load;\n",
              "      element.onerror = on_error;\n",
              "      element.rel = \"stylesheet\";\n",
              "      element.type = \"text/css\";\n",
              "      element.href = url;\n",
              "      console.debug(\"Bokeh: injecting link tag for BokehJS stylesheet: \", url);\n",
              "      document.body.appendChild(element);\n",
              "    }\n",
              "\n",
              "    const hashes = {\"https://cdn.bokeh.org/bokeh/release/bokeh-2.1.1.min.js\": \"kLr4fYcqcSpbuI95brIH3vnnYCquzzSxHPU6XGQCIkQRGJwhg0StNbj1eegrHs12\", \"https://cdn.bokeh.org/bokeh/release/bokeh-widgets-2.1.1.min.js\": \"xIGPmVtaOm+z0BqfSOMn4lOR6ciex448GIKG4eE61LsAvmGj48XcMQZtKcE/UXZe\", \"https://cdn.bokeh.org/bokeh/release/bokeh-tables-2.1.1.min.js\": \"Dc9u1wF/0zApGIWoBbH77iWEHtdmkuYWG839Uzmv8y8yBLXebjO9ZnERsde5Ln/P\", \"https://cdn.bokeh.org/bokeh/release/bokeh-gl-2.1.1.min.js\": \"cT9JaBz7GiRXdENrJLZNSC6eMNF3nh3fa5fTF51Svp+ukxPdwcU5kGXGPBgDCa2j\"};\n",
              "\n",
              "    for (var i = 0; i < js_urls.length; i++) {\n",
              "      var url = js_urls[i];\n",
              "      var element = document.createElement('script');\n",
              "      element.onload = on_load;\n",
              "      element.onerror = on_error;\n",
              "      element.async = false;\n",
              "      element.src = url;\n",
              "      if (url in hashes) {\n",
              "        element.crossOrigin = \"anonymous\";\n",
              "        element.integrity = \"sha384-\" + hashes[url];\n",
              "      }\n",
              "      console.debug(\"Bokeh: injecting script tag for BokehJS library: \", url);\n",
              "      document.head.appendChild(element);\n",
              "    }\n",
              "  };\n",
              "\n",
              "  function inject_raw_css(css) {\n",
              "    const element = document.createElement(\"style\");\n",
              "    element.appendChild(document.createTextNode(css));\n",
              "    document.body.appendChild(element);\n",
              "  }\n",
              "\n",
              "  \n",
              "  var js_urls = [\"https://cdn.bokeh.org/bokeh/release/bokeh-2.1.1.min.js\", \"https://cdn.bokeh.org/bokeh/release/bokeh-widgets-2.1.1.min.js\", \"https://cdn.bokeh.org/bokeh/release/bokeh-tables-2.1.1.min.js\", \"https://cdn.bokeh.org/bokeh/release/bokeh-gl-2.1.1.min.js\"];\n",
              "  var css_urls = [];\n",
              "  \n",
              "\n",
              "  var inline_js = [\n",
              "    function(Bokeh) {\n",
              "      Bokeh.set_log_level(\"info\");\n",
              "    },\n",
              "    function(Bokeh) {\n",
              "    \n",
              "    \n",
              "    }\n",
              "  ];\n",
              "\n",
              "  function run_inline_js() {\n",
              "    \n",
              "    if (root.Bokeh !== undefined || force === true) {\n",
              "      \n",
              "    for (var i = 0; i < inline_js.length; i++) {\n",
              "      inline_js[i].call(root, root.Bokeh);\n",
              "    }\n",
              "    } else if (Date.now() < root._bokeh_timeout) {\n",
              "      setTimeout(run_inline_js, 100);\n",
              "    } else if (!root._bokeh_failed_load) {\n",
              "      console.log(\"Bokeh: BokehJS failed to load within specified timeout.\");\n",
              "      root._bokeh_failed_load = true;\n",
              "    } else if (force !== true) {\n",
              "      var cell = $(document.getElementById(null)).parents('.cell').data().cell;\n",
              "      cell.output_area.append_execute_result(NB_LOAD_WARNING)\n",
              "    }\n",
              "\n",
              "  }\n",
              "\n",
              "  if (root._bokeh_is_loading === 0) {\n",
              "    console.debug(\"Bokeh: BokehJS loaded, going straight to plotting\");\n",
              "    run_inline_js();\n",
              "  } else {\n",
              "    load_libs(css_urls, js_urls, function() {\n",
              "      console.debug(\"Bokeh: BokehJS plotting callback run at\", now());\n",
              "      run_inline_js();\n",
              "    });\n",
              "  }\n",
              "}(window));"
            ],
            "application/vnd.bokehjs_load.v0+json": "\n(function(root) {\n  function now() {\n    return new Date();\n  }\n\n  var force = true;\n\n  if (typeof root._bokeh_onload_callbacks === \"undefined\" || force === true) {\n    root._bokeh_onload_callbacks = [];\n    root._bokeh_is_loading = undefined;\n  }\n\n  \n\n  \n  if (typeof (root._bokeh_timeout) === \"undefined\" || force === true) {\n    root._bokeh_timeout = Date.now() + 5000;\n    root._bokeh_failed_load = false;\n  }\n\n  var NB_LOAD_WARNING = {'data': {'text/html':\n     \"<div style='background-color: #fdd'>\\n\"+\n     \"<p>\\n\"+\n     \"BokehJS does not appear to have successfully loaded. If loading BokehJS from CDN, this \\n\"+\n     \"may be due to a slow or bad network connection. Possible fixes:\\n\"+\n     \"</p>\\n\"+\n     \"<ul>\\n\"+\n     \"<li>re-rerun `output_notebook()` to attempt to load from CDN again, or</li>\\n\"+\n     \"<li>use INLINE resources instead, as so:</li>\\n\"+\n     \"</ul>\\n\"+\n     \"<code>\\n\"+\n     \"from bokeh.resources import INLINE\\n\"+\n     \"output_notebook(resources=INLINE)\\n\"+\n     \"</code>\\n\"+\n     \"</div>\"}};\n\n  function display_loaded() {\n    var el = document.getElementById(null);\n    if (el != null) {\n      el.textContent = \"BokehJS is loading...\";\n    }\n    if (root.Bokeh !== undefined) {\n      if (el != null) {\n        el.textContent = \"BokehJS \" + root.Bokeh.version + \" successfully loaded.\";\n      }\n    } else if (Date.now() < root._bokeh_timeout) {\n      setTimeout(display_loaded, 100)\n    }\n  }\n\n\n  function run_callbacks() {\n    try {\n      root._bokeh_onload_callbacks.forEach(function(callback) {\n        if (callback != null)\n          callback();\n      });\n    } finally {\n      delete root._bokeh_onload_callbacks\n    }\n    console.debug(\"Bokeh: all callbacks have finished\");\n  }\n\n  function load_libs(css_urls, js_urls, callback) {\n    if (css_urls == null) css_urls = [];\n    if (js_urls == null) js_urls = [];\n\n    root._bokeh_onload_callbacks.push(callback);\n    if (root._bokeh_is_loading > 0) {\n      console.debug(\"Bokeh: BokehJS is being loaded, scheduling callback at\", now());\n      return null;\n    }\n    if (js_urls == null || js_urls.length === 0) {\n      run_callbacks();\n      return null;\n    }\n    console.debug(\"Bokeh: BokehJS not loaded, scheduling load and callback at\", now());\n    root._bokeh_is_loading = css_urls.length + js_urls.length;\n\n    function on_load() {\n      root._bokeh_is_loading--;\n      if (root._bokeh_is_loading === 0) {\n        console.debug(\"Bokeh: all BokehJS libraries/stylesheets loaded\");\n        run_callbacks()\n      }\n    }\n\n    function on_error() {\n      console.error(\"failed to load \" + url);\n    }\n\n    for (var i = 0; i < css_urls.length; i++) {\n      var url = css_urls[i];\n      const element = document.createElement(\"link\");\n      element.onload = on_load;\n      element.onerror = on_error;\n      element.rel = \"stylesheet\";\n      element.type = \"text/css\";\n      element.href = url;\n      console.debug(\"Bokeh: injecting link tag for BokehJS stylesheet: \", url);\n      document.body.appendChild(element);\n    }\n\n    const hashes = {\"https://cdn.bokeh.org/bokeh/release/bokeh-2.1.1.min.js\": \"kLr4fYcqcSpbuI95brIH3vnnYCquzzSxHPU6XGQCIkQRGJwhg0StNbj1eegrHs12\", \"https://cdn.bokeh.org/bokeh/release/bokeh-widgets-2.1.1.min.js\": \"xIGPmVtaOm+z0BqfSOMn4lOR6ciex448GIKG4eE61LsAvmGj48XcMQZtKcE/UXZe\", \"https://cdn.bokeh.org/bokeh/release/bokeh-tables-2.1.1.min.js\": \"Dc9u1wF/0zApGIWoBbH77iWEHtdmkuYWG839Uzmv8y8yBLXebjO9ZnERsde5Ln/P\", \"https://cdn.bokeh.org/bokeh/release/bokeh-gl-2.1.1.min.js\": \"cT9JaBz7GiRXdENrJLZNSC6eMNF3nh3fa5fTF51Svp+ukxPdwcU5kGXGPBgDCa2j\"};\n\n    for (var i = 0; i < js_urls.length; i++) {\n      var url = js_urls[i];\n      var element = document.createElement('script');\n      element.onload = on_load;\n      element.onerror = on_error;\n      element.async = false;\n      element.src = url;\n      if (url in hashes) {\n        element.crossOrigin = \"anonymous\";\n        element.integrity = \"sha384-\" + hashes[url];\n      }\n      console.debug(\"Bokeh: injecting script tag for BokehJS library: \", url);\n      document.head.appendChild(element);\n    }\n  };\n\n  function inject_raw_css(css) {\n    const element = document.createElement(\"style\");\n    element.appendChild(document.createTextNode(css));\n    document.body.appendChild(element);\n  }\n\n  \n  var js_urls = [\"https://cdn.bokeh.org/bokeh/release/bokeh-2.1.1.min.js\", \"https://cdn.bokeh.org/bokeh/release/bokeh-widgets-2.1.1.min.js\", \"https://cdn.bokeh.org/bokeh/release/bokeh-tables-2.1.1.min.js\", \"https://cdn.bokeh.org/bokeh/release/bokeh-gl-2.1.1.min.js\"];\n  var css_urls = [];\n  \n\n  var inline_js = [\n    function(Bokeh) {\n      Bokeh.set_log_level(\"info\");\n    },\n    function(Bokeh) {\n    \n    \n    }\n  ];\n\n  function run_inline_js() {\n    \n    if (root.Bokeh !== undefined || force === true) {\n      \n    for (var i = 0; i < inline_js.length; i++) {\n      inline_js[i].call(root, root.Bokeh);\n    }\n    } else if (Date.now() < root._bokeh_timeout) {\n      setTimeout(run_inline_js, 100);\n    } else if (!root._bokeh_failed_load) {\n      console.log(\"Bokeh: BokehJS failed to load within specified timeout.\");\n      root._bokeh_failed_load = true;\n    } else if (force !== true) {\n      var cell = $(document.getElementById(null)).parents('.cell').data().cell;\n      cell.output_area.append_execute_result(NB_LOAD_WARNING)\n    }\n\n  }\n\n  if (root._bokeh_is_loading === 0) {\n    console.debug(\"Bokeh: BokehJS loaded, going straight to plotting\");\n    run_inline_js();\n  } else {\n    load_libs(css_urls, js_urls, function() {\n      console.debug(\"Bokeh: BokehJS plotting callback run at\", now());\n      run_inline_js();\n    });\n  }\n}(window));"
          },
          "metadata": {
            "tags": []
          }
        },
        {
          "output_type": "display_data",
          "data": {
            "text/html": [
              "\n",
              "\n",
              "\n",
              "\n",
              "\n",
              "\n",
              "  <div class=\"bk-root\" id=\"0d9f7398-88f4-48b6-92d2-4d2b3fb3af97\" data-root-id=\"1077\"></div>\n"
            ]
          },
          "metadata": {
            "tags": []
          }
        },
        {
          "output_type": "display_data",
          "data": {
            "application/javascript": [
              "(function(root) {\n",
              "  function embed_document(root) {\n",
              "    \n",
              "  var docs_json = {\"c820654a-a245-42a1-83a0-965733aa2ded\":{\"roots\":{\"references\":[{\"attributes\":{\"below\":[{\"id\":\"1088\"}],\"center\":[{\"id\":\"1091\"},{\"id\":\"1095\"}],\"left\":[{\"id\":\"1092\"}],\"plot_height\":500,\"plot_width\":1000,\"renderers\":[{\"id\":\"1102\"}],\"title\":{\"id\":\"1078\"},\"toolbar\":{\"id\":\"1097\"},\"x_range\":{\"id\":\"1080\"},\"x_scale\":{\"id\":\"1084\"},\"y_range\":{\"id\":\"1082\"},\"y_scale\":{\"id\":\"1086\"}},\"id\":\"1077\",\"subtype\":\"Figure\",\"type\":\"Plot\"},{\"attributes\":{},\"id\":\"1093\",\"type\":\"BasicTicker\"},{\"attributes\":{},\"id\":\"1086\",\"type\":\"LinearScale\"},{\"attributes\":{\"axis\":{\"id\":\"1092\"},\"dimension\":1,\"ticker\":null},\"id\":\"1095\",\"type\":\"Grid\"},{\"attributes\":{},\"id\":\"1112\",\"type\":\"BasicTickFormatter\"},{\"attributes\":{},\"id\":\"1114\",\"type\":\"BasicTickFormatter\"},{\"attributes\":{},\"id\":\"1116\",\"type\":\"UnionRenderers\"},{\"attributes\":{},\"id\":\"1084\",\"type\":\"LinearScale\"},{\"attributes\":{\"axis_label\":\"Epochs\",\"axis_label_text_font_size\":\"20pt\",\"formatter\":{\"id\":\"1112\"},\"major_label_orientation\":1,\"major_label_text_font_size\":\"15pt\",\"minor_tick_line_color\":null,\"ticker\":{\"id\":\"1089\"}},\"id\":\"1088\",\"type\":\"LinearAxis\"},{\"attributes\":{\"source\":{\"id\":\"1099\"}},\"id\":\"1103\",\"type\":\"CDSView\"},{\"attributes\":{\"axis_label\":\"Validation Loss\",\"axis_label_text_font_size\":\"20pt\",\"formatter\":{\"id\":\"1114\"},\"major_label_text_font_size\":\"15pt\",\"minor_tick_line_color\":null,\"ticker\":{\"id\":\"1093\"}},\"id\":\"1092\",\"type\":\"LinearAxis\"},{\"attributes\":{},\"id\":\"1117\",\"type\":\"Selection\"},{\"attributes\":{\"active_drag\":\"auto\",\"active_inspect\":\"auto\",\"active_multi\":null,\"active_scroll\":\"auto\",\"active_tap\":\"auto\",\"tools\":[{\"id\":\"1096\"}]},\"id\":\"1097\",\"type\":\"Toolbar\"},{\"attributes\":{\"axis\":{\"id\":\"1088\"},\"grid_line_color\":null,\"ticker\":null},\"id\":\"1091\",\"type\":\"Grid\"},{\"attributes\":{},\"id\":\"1089\",\"type\":\"BasicTicker\"},{\"attributes\":{\"data\":{\"x\":[1,2,3,4,5,6,7,8,9,10],\"y\":[0.5370073914527893,0.5318731069564819,0.5268410444259644,0.5263255834579468,0.5321478247642517,0.5384119749069214,0.5408296585083008,0.5531864762306213,0.5651594996452332,0.5729269981384277]},\"selected\":{\"id\":\"1117\"},\"selection_policy\":{\"id\":\"1116\"}},\"id\":\"1099\",\"type\":\"ColumnDataSource\"},{\"attributes\":{},\"id\":\"1096\",\"type\":\"SaveTool\"},{\"attributes\":{},\"id\":\"1082\",\"type\":\"DataRange1d\"},{\"attributes\":{},\"id\":\"1080\",\"type\":\"DataRange1d\"},{\"attributes\":{\"data_source\":{\"id\":\"1099\"},\"glyph\":{\"id\":\"1100\"},\"hover_glyph\":null,\"muted_glyph\":null,\"nonselection_glyph\":{\"id\":\"1101\"},\"selection_glyph\":null,\"view\":{\"id\":\"1103\"}},\"id\":\"1102\",\"type\":\"GlyphRenderer\"},{\"attributes\":{\"text\":\"Validation Loss by Epoch\",\"text_font_size\":{\"value\":\"25pt\"}},\"id\":\"1078\",\"type\":\"Title\"},{\"attributes\":{\"line_alpha\":0.1,\"line_color\":\"#1f77b4\",\"line_width\":4,\"x\":{\"field\":\"x\"},\"y\":{\"field\":\"y\"}},\"id\":\"1101\",\"type\":\"Line\"},{\"attributes\":{\"line_color\":\"#1f77b4\",\"line_width\":4,\"x\":{\"field\":\"x\"},\"y\":{\"field\":\"y\"}},\"id\":\"1100\",\"type\":\"Line\"}],\"root_ids\":[\"1077\"]},\"title\":\"Bokeh Application\",\"version\":\"2.1.1\"}};\n",
              "  var render_items = [{\"docid\":\"c820654a-a245-42a1-83a0-965733aa2ded\",\"root_ids\":[\"1077\"],\"roots\":{\"1077\":\"0d9f7398-88f4-48b6-92d2-4d2b3fb3af97\"}}];\n",
              "  root.Bokeh.embed.embed_items_notebook(docs_json, render_items);\n",
              "\n",
              "  }\n",
              "  if (root.Bokeh !== undefined) {\n",
              "    embed_document(root);\n",
              "  } else {\n",
              "    var attempts = 0;\n",
              "    var timer = setInterval(function(root) {\n",
              "      if (root.Bokeh !== undefined) {\n",
              "        clearInterval(timer);\n",
              "        embed_document(root);\n",
              "      } else {\n",
              "        attempts++;\n",
              "        if (attempts > 100) {\n",
              "          clearInterval(timer);\n",
              "          console.log(\"Bokeh: ERROR: Unable to run BokehJS code because BokehJS library is missing\");\n",
              "        }\n",
              "      }\n",
              "    }, 10, root)\n",
              "  }\n",
              "})(window);"
            ],
            "application/vnd.bokehjs_exec.v0+json": ""
          },
          "metadata": {
            "tags": [],
            "application/vnd.bokehjs_exec.v0+json": {
              "id": "1077"
            }
          }
        }
      ]
    },
    {
      "cell_type": "markdown",
      "metadata": {
        "id": "dfkX4I_H9kxL"
      },
      "source": [
        "# Unfinished\n",
        "\n",
        "## Sentiment Analysis\n",
        "\n",
        "We are finally ready to analyze the sentiment of chat rooms. Our first step will be to compute the percentage of messages corresponding to an emote group by day. For this, we will use our full data set."
      ]
    },
    {
      "cell_type": "code",
      "metadata": {
        "id": "j681R6Fu7_MK"
      },
      "source": [
        "df = pd.read_csv('sodapoppin_trim.csv', parse_dates=['created_at'])"
      ],
      "execution_count": null,
      "outputs": []
    },
    {
      "cell_type": "code",
      "metadata": {
        "id": "Ky2sUcqW9iSZ"
      },
      "source": [
        "def process_df(streamer):\n",
        "  df = pd.read_csv(streamer +'_trim.csv', parse_dates=['created_at'])\n",
        "  df['body'] = df['body'].apply(lambda x: re.sub(\"http\\S+|[^\\x00-\\x7F]\", \"\", str(x)))\n",
        "  df['tokens_body'] = df['body'].apply(lambda x: twokenize.tokenizeRawTweetText(x))\n",
        "  df['date'] = df['created_at'].apply(lambda x: datetime.strptime(datetime.strftime(x, '%Y %m %d %H'), '%Y %m %d %H'))\n",
        "\n",
        "  X = global_emotes.union(streamer_emotes(streamer)).union(topffemotes)\n",
        "  df['unique_emotes'] = df['tokens_body'].apply(set)\n",
        "  df['unique_emotes'] = df['unique_emotes'].apply(lambda x: x.intersection(set(X)))\n",
        "  df['count_emotes'] = df['unique_emotes'].apply(lambda x: len(x))\n",
        "\n",
        "  kappas = {'Kapp', 'Kappa', 'KappaClaus', 'KappaPride', 'KappaRoss', 'KappaWealth', 'Kappu', 'Keepo'}\n",
        "  pogs = {'POGGERS','Pog','PogChamp','PogU','PogYou','Pogey'}\n",
        "\n",
        "  df['kappa'] = df['unique_emotes'].apply(lambda x: 1 if len(x.intersection(kappas)) > 0 else 0)\n",
        "  df['pog'] = df['unique_emotes'].apply(lambda x: 1 if len(x.intersection(pogs)) > 0 else 0)\n",
        "  df['pog'] = df['kappa'].apply(lambda x: 0 if x==1)\n",
        "  df_filt['mix'] = df_filt['pog'] + df_filt['kappa']\n",
        "  df_filt['other'] = df_filt['mix'].apply(lambda x: 1 if x == 0 else 0)\n",
        "\n",
        "  \n",
        "  return df[['date','tokens_body', 'pog', 'kappa', 'other']]"
      ],
      "execution_count": null,
      "outputs": []
    },
    {
      "cell_type": "code",
      "metadata": {
        "id": "LpguA_om9i2j"
      },
      "source": [
        "x = {'1','2'}\n",
        "len(x)"
      ],
      "execution_count": null,
      "outputs": []
    },
    {
      "cell_type": "code",
      "metadata": {
        "id": "XaR5Tfsr9jXf"
      },
      "source": [],
      "execution_count": null,
      "outputs": []
    },
    {
      "cell_type": "markdown",
      "source": [
        "## Alternative Approach\n",
        "\n",
        "Here is an alternative approach that may be successful. Instead of grouping the emotes manually, we can try to cluster the most popular emotes using embeddings from a large pre-trained language model.\n",
        "\n",
        "* Gather large amounts of Twitch chatroom text\n",
        "* Fine-tune a pre-trained transformer model, such as BERT, on this text\n",
        "  * We can filter this text by removing duplicate messages, but keeping the emotes in, since we want the model to learn about emotes\n",
        "  * For efficiency reasons and helping the transformer use more context, we can concatenate messages, so we have longer inputs. Twitch messages tend to be short.\n",
        "* Gather more data for embeddings. Here we follow the filtering method from before, but we simply compute embeddings without emotes\n",
        "* Compare clusters of embeddings for each emote, and use a cluster similarity metric to determine if emotes are similar. Using some threshold, we determine emotes are semantically similar if their similarity surpasses the threshold.\n",
        "* The label for each embedding will be the final cluster it belongs\n",
        "* Then we use an additional dataset to fine-tune the model using the labels generated from the previous step. This will be split into train/validation\n",
        "  * The threshold for cluster similarity is a hyperparameter that will need to be finetuned. This means that we will need to perform a crossvalidation experiment on the entire training pipeline, from generating the labels and then fine-tuning on additional data. Note this also automatically generates the number of clusters.\n",
        "  * The generalization performance can be evaluated on a held-out test set\n",
        "* As a last step, with a small enough number of clusters, we can assign semantic meaning to each of the clusters manually\n",
        "* To evaluate the sentiment of a chatroom over time, we can try a few methods:\n",
        "  * We can simply compute the relative frequency of top emotes in a group of messages of a fixed time-frame, e.g. 10 minutes, use our model-generated labels to map these emotes to the labels, and assign a sentiment score based on the distribution of labels\n",
        "  * If there are not enough top emotes in a group of messages, we can additionally predict the corresponding label for messages that do not have top emotes and add that to our distribution calculation\n",
        "  * We can use the latter method only if we prefer"
      ],
      "metadata": {
        "id": "pFhvwvBpq4Et"
      }
    },
    {
      "cell_type": "code",
      "metadata": {
        "id": "-4GVWU949kG1"
      },
      "source": [],
      "execution_count": null,
      "outputs": []
    },
    {
      "cell_type": "code",
      "metadata": {
        "id": "u6LLtUY19jp8"
      },
      "source": [],
      "execution_count": null,
      "outputs": []
    },
    {
      "cell_type": "code",
      "metadata": {
        "id": "CcBbFcJ09jGz"
      },
      "source": [],
      "execution_count": null,
      "outputs": []
    },
    {
      "cell_type": "code",
      "metadata": {
        "id": "m-BZSnDR9iqH"
      },
      "source": [],
      "execution_count": null,
      "outputs": []
    },
    {
      "cell_type": "code",
      "metadata": {
        "id": "g4ejjEPi9iON"
      },
      "source": [],
      "execution_count": null,
      "outputs": []
    }
  ]
}