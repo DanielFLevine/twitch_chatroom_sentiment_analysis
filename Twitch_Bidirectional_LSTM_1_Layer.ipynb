{
  "nbformat": 4,
  "nbformat_minor": 0,
  "metadata": {
    "colab": {
      "provenance": [],
      "toc_visible": true
    },
    "kernelspec": {
      "name": "python3",
      "display_name": "Python 3"
    },
    "accelerator": "GPU"
  },
  "cells": [
    {
      "cell_type": "markdown",
      "metadata": {
        "id": "Cd2KBGnZD25p"
      },
      "source": [
        "# Predicting Twitch Emotes Using a Bidirectional LSTM\n",
        "\n",
        "We implement a bidirectional LSTM neural network with one hidden layer in order to predict the emote associated to a Twitch chat message. The model used here is very rough version of what is described in the article [Towards the Understanding of Gaming Audiences by Modeling Twitch Emotes](https://pdfs.semanticscholar.org/1260/f76d10ec66dda257070ce4dcdbab800ec501.pdf) by Barbieri et al. Many parameters in this test were chosen arbitrarily, so there is a lot of room for improvement. At the end of this notebook, we evaluate the accuracy of the model by graphing epochs vs precision, recall, and F1 and displaying a confusion matrix."
      ]
    },
    {
      "cell_type": "markdown",
      "metadata": {
        "id": "-0_fb4T1IlFF"
      },
      "source": [
        "Ignore the following if you are not using Google Colab."
      ]
    },
    {
      "cell_type": "code",
      "metadata": {
        "id": "dzedaptDDrqY",
        "colab": {
          "base_uri": "https://localhost:8080/",
          "height": 34
        },
        "outputId": "6461e889-72ea-4e2d-8727-f43e9b86fba0"
      },
      "source": [
        "#Comment this out if not in Google Colab\n",
        "%tensorflow_version 1.x"
      ],
      "execution_count": null,
      "outputs": [
        {
          "output_type": "stream",
          "text": [
            "TensorFlow 1.x selected.\n"
          ],
          "name": "stdout"
        }
      ]
    },
    {
      "cell_type": "code",
      "metadata": {
        "id": "X9hJmizZBdPk",
        "colab": {
          "base_uri": "https://localhost:8080/",
          "height": 34
        },
        "outputId": "d908b4de-09d6-4e06-ed7f-13e51ec2e6a8"
      },
      "source": [
        "from __future__ import print_function\n",
        "import numpy as np\n",
        "\n",
        "from keras.preprocessing import sequence\n",
        "from keras.models import Sequential\n",
        "from keras.layers import Dense, Dropout, Embedding, LSTM, Bidirectional\n",
        "from keras.datasets import imdb\n",
        "import pandas as pd\n",
        "import os"
      ],
      "execution_count": null,
      "outputs": [
        {
          "output_type": "stream",
          "text": [
            "Using TensorFlow backend.\n"
          ],
          "name": "stderr"
        }
      ]
    },
    {
      "cell_type": "markdown",
      "metadata": {
        "id": "adJuOSrTI1sS"
      },
      "source": [
        "Ignore this too if you are not using Google Colab."
      ]
    },
    {
      "cell_type": "code",
      "metadata": {
        "id": "7_4IsNHqBg8r",
        "colab": {
          "base_uri": "https://localhost:8080/",
          "height": 122
        },
        "outputId": "ab5ab9a9-b361-4835-a69a-4554dafbc665"
      },
      "source": [
        "from google.colab import drive\n",
        "drive.mount('/content/drive')"
      ],
      "execution_count": null,
      "outputs": [
        {
          "output_type": "stream",
          "text": [
            "Go to this URL in a browser: https://accounts.google.com/o/oauth2/auth?client_id=947318989803-6bn6qk8qdgf4n4g3pfee6491hc0brc4i.apps.googleusercontent.com&redirect_uri=urn%3aietf%3awg%3aoauth%3a2.0%3aoob&response_type=code&scope=email%20https%3a%2f%2fwww.googleapis.com%2fauth%2fdocs.test%20https%3a%2f%2fwww.googleapis.com%2fauth%2fdrive%20https%3a%2f%2fwww.googleapis.com%2fauth%2fdrive.photos.readonly%20https%3a%2f%2fwww.googleapis.com%2fauth%2fpeopleapi.readonly\n",
            "\n",
            "Enter your authorization code:\n",
            "··········\n",
            "Mounted at /content/drive\n"
          ],
          "name": "stdout"
        }
      ]
    },
    {
      "cell_type": "code",
      "metadata": {
        "id": "9glE9KbLVKr8",
        "colab": {
          "base_uri": "https://localhost:8080/",
          "height": 34
        },
        "outputId": "0eb48716-f205-4753-916d-a1cdcee39739"
      },
      "source": [
        "%cd /content/drive/My\\ Drive/"
      ],
      "execution_count": null,
      "outputs": [
        {
          "output_type": "stream",
          "text": [
            "/content/drive/My Drive\n"
          ],
          "name": "stdout"
        }
      ]
    },
    {
      "cell_type": "markdown",
      "metadata": {
        "id": "5RzZk6lyI5Su"
      },
      "source": [
        "### Preprocessing\n",
        "\n",
        "We need to heavily preprocess the text data before using it to train a classifier. Following Barbieri et al.'s article, we tokenize our data using the [CMU Noah's Ark tokenizer](http://www.cs.cmu.edu/~ark/TweetNLP/) developed for twitter. In the preprocessing file, we use a [python version of the tokenizer](https://pypi.org/project/twokenize/). After tokenizing, we need to remove hyperlinks, non-ASCII characters, short messages, and lowercase all words. Then we remove messages containing more than one distinct emote, and label the remaining messages as the emote contained in it. In order to avoid cheating while training our classifier, we also remove the emotes in the message. The integer argument is a threshold for which emotes to keep. We only keep emotes that appear in at least 1000 different messages after processing the data. If we apply this to summit1g's file, we obtain 4 different emotes. For example, if we change the threshold to 100, we get 32 different emotes."
      ]
    },
    {
      "cell_type": "code",
      "metadata": {
        "id": "82yiq3PlBm-2",
        "colab": {
          "base_uri": "https://localhost:8080/",
          "height": 255
        },
        "outputId": "f8b712b6-4835-40e8-aadf-4c4a43a635ea"
      },
      "source": [
        "import preprocessing\n",
        "df = preprocessing.emotes_to_labels('summit1g', 100)\n",
        "print(df)"
      ],
      "execution_count": null,
      "outputs": [
        {
          "output_type": "stream",
          "text": [
            "                                                      body  ...  sumg\n",
            "5                                   [hope, for, 63, later]  ...     0\n",
            "21       [thesocomsniper, if, you, think, oscp, is, exp...  ...     0\n",
            "59                           [damn, still, playing, realm]  ...     0\n",
            "238      [summit1g, lot, of, stupid, people, on, the, i...  ...     0\n",
            "260                           [summit, not, in, the, bath]  ...     0\n",
            "...                                                    ...  ...   ...\n",
            "1349706              [the, stupid, shit, board, i, forgot]  ...     0\n",
            "1349711                          [i, dont, wanna, pretend]  ...     0\n",
            "1349741                            [damn, just, got, here]  ...     0\n",
            "1349771                                 [we, can, pretend]  ...     0\n",
            "1349815  [matthe19pizzalove, matthe19pizzalove, matthe1...  ...     0\n",
            "\n",
            "[29468 rows x 31 columns]\n"
          ],
          "name": "stdout"
        }
      ]
    },
    {
      "cell_type": "code",
      "metadata": {
        "id": "xBrncoB9EBiq",
        "colab": {
          "base_uri": "https://localhost:8080/",
          "height": 34
        },
        "outputId": "55e2cc0b-041b-4b3a-d9de-0a5938b7e039"
      },
      "source": [
        "kappa = [i for i in df['body']]\n",
        "count = 0\n",
        "for i in kappa:\n",
        "  for j in i:\n",
        "    if j == 'lul':\n",
        "      count += 1\n",
        "print(count)"
      ],
      "execution_count": null,
      "outputs": [
        {
          "output_type": "stream",
          "text": [
            "0\n"
          ],
          "name": "stdout"
        }
      ]
    },
    {
      "cell_type": "code",
      "metadata": {
        "id": "ROPTDFqGelga",
        "colab": {
          "base_uri": "https://localhost:8080/",
          "height": 136
        },
        "outputId": "8eea4f33-ee72-4b90-a668-a283755cf358"
      },
      "source": [
        "df.columns"
      ],
      "execution_count": null,
      "outputs": [
        {
          "output_type": "execute_result",
          "data": {
            "text/plain": [
              "Index(['body', 'sumup', 'lul', 'residentsleeper', 'sumlul', 'sumlove', 'keepo',\n",
              "       'kappa', 'sum1g', 'pogchamp', 'sums', 'sumsuh', 'notlikethis',\n",
              "       'dansgame', 'babyrage', 'biblethump', 'sumthump', 'seemsgood',\n",
              "       'kappapride', '4head', 'cmonbruh', 'sumw', 'sumohface', 'kreygasm',\n",
              "       'sume', 'swiftrage', 'wutface', 'jebaited', 'trihard', 'failfish',\n",
              "       'sumg'],\n",
              "      dtype='object')"
            ]
          },
          "metadata": {
            "tags": []
          },
          "execution_count": 6
        }
      ]
    },
    {
      "cell_type": "markdown",
      "metadata": {
        "id": "hU8-XbmuLm0q"
      },
      "source": [
        "Next, we need to vectorize our lists before passing them through an embedding layer. First, we convert the tokens back into a string keeping the tokens separated by a space. That way, when we retokenize, we do not lose the effect of CMU's tokenizer. Then we transform our dataframe column into a list."
      ]
    },
    {
      "cell_type": "code",
      "metadata": {
        "id": "bwD5E9A6O_8B",
        "colab": {
          "base_uri": "https://localhost:8080/",
          "height": 238
        },
        "outputId": "3154c414-2ebf-4ffb-ca1b-0276cbc01e54"
      },
      "source": [
        "df['positive'] = df['pogchamp']+df['lul'] + df['kreygasm']+df['4head']+df['kappa']+df['keepo']\n",
        "df['negative'] = df['failfish'] + df['residentsleeper'] + df['cmonbruh']\n",
        "df['positive'] = df['positive'].apply(lambda x: 1 if x > 0 else 0)\n",
        "df['nonpositive'] = df['positive'].apply(lambda x: 1 if x == 0 else 0)\n",
        "print(df['positive'])\n",
        "counts = df['positive'].value_counts()\n",
        "print(dict(counts))"
      ],
      "execution_count": null,
      "outputs": [
        {
          "output_type": "stream",
          "text": [
            "5          0\n",
            "21         1\n",
            "59         0\n",
            "238        1\n",
            "260        1\n",
            "          ..\n",
            "1349706    1\n",
            "1349711    0\n",
            "1349741    0\n",
            "1349771    0\n",
            "1349815    0\n",
            "Name: positive, Length: 29468, dtype: int64\n",
            "{1: 20244, 0: 9224}\n"
          ],
          "name": "stdout"
        }
      ]
    },
    {
      "cell_type": "code",
      "metadata": {
        "id": "8NSMm4EJJg5H",
        "colab": {
          "base_uri": "https://localhost:8080/",
          "height": 136
        },
        "outputId": "b123b3a9-2586-4880-80ee-ebc558af6a80"
      },
      "source": [
        "print(df.columns)"
      ],
      "execution_count": null,
      "outputs": [
        {
          "output_type": "stream",
          "text": [
            "Index(['body', 'sumup', 'lul', 'residentsleeper', 'sumlul', 'sumlove', 'keepo',\n",
            "       'kappa', 'sum1g', 'pogchamp', 'sums', 'sumsuh', 'notlikethis',\n",
            "       'dansgame', 'babyrage', 'biblethump', 'sumthump', 'seemsgood',\n",
            "       'kappapride', '4head', 'cmonbruh', 'sumw', 'sumohface', 'kreygasm',\n",
            "       'sume', 'swiftrage', 'wutface', 'jebaited', 'trihard', 'failfish',\n",
            "       'sumg', 'positive', 'negative', 'nonpositive'],\n",
            "      dtype='object')\n"
          ],
          "name": "stdout"
        }
      ]
    },
    {
      "cell_type": "code",
      "metadata": {
        "id": "JxaFGGF7CB46"
      },
      "source": [
        "Z = df['body'].values.tolist()\n",
        "Z = [' '.join(i) for i in Z]"
      ],
      "execution_count": null,
      "outputs": []
    },
    {
      "cell_type": "markdown",
      "metadata": {
        "id": "SCs5OWs1Mk4R"
      },
      "source": [
        "Using the tokenizer from keras, we tokenize and keep the 5000 most frequent words, using 5001 for our out-of-vocabulary token. Then we convert the tokens to a sequence using their corresponding integer ids."
      ]
    },
    {
      "cell_type": "code",
      "metadata": {
        "id": "F1wBuhZwBZA4"
      },
      "source": [
        "from keras.preprocessing.text import Tokenizer\n",
        "t = Tokenizer(num_words=5000, filters='', split=' ', oov_token=5001)\n",
        "t.fit_on_texts(Z)\n",
        "sequences = t.texts_to_sequences(Z)"
      ],
      "execution_count": null,
      "outputs": []
    },
    {
      "cell_type": "markdown",
      "metadata": {
        "id": "zx9aXws8NNIi"
      },
      "source": [
        "Now we are ready to split our training set and pad our sequences. The values for top_words and max_words can be changed as desired."
      ]
    },
    {
      "cell_type": "code",
      "metadata": {
        "id": "9jTty8iIJwcV"
      },
      "source": [
        "from sklearn.model_selection import train_test_split\n",
        "X = sequences\n",
        "y = np.array(df.iloc[:,-3])\n",
        "X_train, X_test, y_train, y_test = train_test_split(X, y, test_size=0.25, random_state=42, stratify=y)\n",
        "\n",
        "top_words = 5001\n",
        "max_words = 20\n",
        "X_train = sequence.pad_sequences(X_train, maxlen=max_words)\n",
        "X_test = sequence.pad_sequences(X_test, maxlen=max_words)"
      ],
      "execution_count": null,
      "outputs": []
    },
    {
      "cell_type": "markdown",
      "metadata": {
        "id": "NhuYpVVZOCOE"
      },
      "source": [
        "One important observation is that our data is imbalanced. Some emotes appear far more often than others, even after cleaning the data. We use an oversampling technique called [Synthetic Minority Over-sampling Technique](https://jair.org/index.php/jair/article/view/10302/24590) (SMOTE). We need to apply it to both our training and testing data in order to get meaningful evaluation data."
      ]
    },
    {
      "cell_type": "code",
      "metadata": {
        "id": "9Hmf9-ndNbay",
        "colab": {
          "base_uri": "https://localhost:8080/",
          "height": 187
        },
        "outputId": "8020c13e-71c7-445f-83bc-96441cc3eb93"
      },
      "source": [
        "print(X_train[:5])"
      ],
      "execution_count": null,
      "outputs": [
        {
          "output_type": "stream",
          "text": [
            "[[   0    0    0    0    0    0    0    0    0    0    0    9  181 3949\n",
            "    43    2 1831   20   11 2011]\n",
            " [   0    0    0    0    0    0    0    0    0    0    0    0    0    0\n",
            "     0    0    0   21   32 1391]\n",
            " [   0    0    0    0    0    0    0    0    0    0    0    0    0  124\n",
            "    16  128   84   78   65   11]\n",
            " [   0    0    0    0    0    0    0    0    0    0    0    0    0    0\n",
            "     0  773  157   25    2  755]\n",
            " [   0    0    0    0    0    0    0    0    0    0    0    0    0    0\n",
            "     0    0 2118  113  133   12]]\n"
          ],
          "name": "stdout"
        }
      ]
    },
    {
      "cell_type": "code",
      "metadata": {
        "id": "gIPl3zKG5E4A",
        "colab": {
          "base_uri": "https://localhost:8080/",
          "height": 71
        },
        "outputId": "658459f6-fb4c-4bd1-c10b-9a7cba4b3ae2"
      },
      "source": [
        "from imblearn.over_sampling import SMOTE\n",
        "oversample = SMOTE()\n",
        "# transform the dataset\n",
        "X_train, y_train = oversample.fit_resample(X_train, y_train)\n",
        "# X_test, y_test = oversample.fit_resample(X_test, y_test)"
      ],
      "execution_count": null,
      "outputs": [
        {
          "output_type": "stream",
          "text": [
            "/usr/local/lib/python3.6/dist-packages/sklearn/utils/deprecation.py:87: FutureWarning: Function safe_indexing is deprecated; safe_indexing is deprecated in version 0.22 and will be removed in version 0.24.\n",
            "  warnings.warn(msg, category=FutureWarning)\n"
          ],
          "name": "stderr"
        }
      ]
    },
    {
      "cell_type": "code",
      "metadata": {
        "id": "FxgFnBbByUgO",
        "colab": {
          "base_uri": "https://localhost:8080/",
          "height": 136
        },
        "outputId": "e8a3097d-b5bc-4f2f-e1f3-c0ac1c72dc81"
      },
      "source": [
        "print(X_train)"
      ],
      "execution_count": null,
      "outputs": [
        {
          "output_type": "stream",
          "text": [
            "[[   0    0    0 ... 4670    1   11]\n",
            " [   0    0    0 ...    5    4  479]\n",
            " [   0    0    0 ...   99   19  395]\n",
            " ...\n",
            " [   0    0    0 ...   43  455 1932]\n",
            " [   0    0    0 ...  291  175  159]\n",
            " [   0    0    0 ... 3166   20 3252]]\n"
          ],
          "name": "stdout"
        }
      ]
    },
    {
      "cell_type": "markdown",
      "metadata": {
        "id": "IDR0LwgbO5f-"
      },
      "source": [
        "### Bidirection LSTM\n",
        "\n",
        "We use a very simply neural network. In NLP classification problems, it is common to use bidirectional recurrent neural networks since meaning depends on words appearing early and late in sentences. LSTM cells are also a common choice in NLP since they can detect long-range dependencies in language, which regular RNN's cannot do."
      ]
    },
    {
      "cell_type": "code",
      "metadata": {
        "id": "4QtH_lsnypDk",
        "colab": {
          "base_uri": "https://localhost:8080/",
          "height": 255
        },
        "outputId": "3a861a40-eb97-490a-c939-65c8d904f315"
      },
      "source": [
        "model1 = Sequential()\n",
        "model1.add(Embedding(top_words, 100, input_length=max_words))\n",
        "model1.compile(optimizer='RMSprop', loss='mse', metrics=['acc'])\n",
        "\n",
        "output = model1.predict(X_train)\n",
        "print(output.shape)\n",
        "print(output[0])"
      ],
      "execution_count": null,
      "outputs": [
        {
          "output_type": "stream",
          "text": [
            "(28182, 20, 100)\n",
            "[[-0.04461325  0.04772505 -0.03827719 ... -0.00607816 -0.03519604\n",
            "  -0.02504243]\n",
            " [-0.04461325  0.04772505 -0.03827719 ... -0.00607816 -0.03519604\n",
            "  -0.02504243]\n",
            " [-0.04461325  0.04772505 -0.03827719 ... -0.00607816 -0.03519604\n",
            "  -0.02504243]\n",
            " ...\n",
            " [ 0.01622007 -0.02488015 -0.03476064 ...  0.04582847  0.01300298\n",
            "  -0.00588084]\n",
            " [-0.00595459 -0.02187537 -0.00621422 ...  0.01942896 -0.00038453\n",
            "  -0.00957251]\n",
            " [-0.01420964 -0.01025058  0.04099207 ...  0.01376157 -0.0227755\n",
            "  -0.04478663]]\n"
          ],
          "name": "stdout"
        }
      ]
    },
    {
      "cell_type": "code",
      "metadata": {
        "id": "l3q7_xtNLUqn"
      },
      "source": [
        "model = Sequential()\n",
        "model.add(Embedding(top_words, 100, input_length=max_words))\n",
        "model.add(Bidirectional(LSTM(100,activation='relu',return_sequences=True),input_shape=(100, 1)))\n",
        "model.add(Dropout(0.5))\n",
        "model.add(Bidirectional(LSTM(128,activation='relu',return_sequences=False)))\n",
        "model.add(Dropout(0.5))\n",
        "model.add(Dense(128, activation='relu'))\n",
        "model.add(Dropout(0.5))\n",
        "model.add(Dense(1, activation='sigmoid'))"
      ],
      "execution_count": null,
      "outputs": []
    },
    {
      "cell_type": "markdown",
      "metadata": {
        "id": "2qLsY7iHPpwF"
      },
      "source": [
        "Finally, we fit our model and keep track of precision, recall, and F1 scores accross epochs."
      ]
    },
    {
      "cell_type": "code",
      "metadata": {
        "id": "RVDbM1COLwan",
        "colab": {
          "base_uri": "https://localhost:8080/",
          "height": 374
        },
        "outputId": "4700eaa0-17dc-4e61-df3c-ac1afd1e6b73"
      },
      "source": [
        "from keras import backend as K\n",
        "from keras import optimizers\n",
        "\n",
        "\n",
        "# compile the model\n",
        "model.compile(optimizer='RMSprop', loss='binary_crossentropy', metrics=['acc'])\n",
        "\n",
        "# fit the model\n",
        "history = model.fit(X_train, y_train, validation_data=(X_test, y_test), epochs=10, verbose=1)\n"
      ],
      "execution_count": null,
      "outputs": [
        {
          "output_type": "stream",
          "text": [
            "Train on 30366 samples, validate on 7367 samples\n",
            "Epoch 1/10\n",
            "30366/30366 [==============================] - 80s 3ms/step - loss: 4.5990 - acc: 0.6018 - val_loss: 0.6040 - val_acc: 0.6992\n",
            "Epoch 2/10\n",
            "30366/30366 [==============================] - 75s 2ms/step - loss: 0.5833 - acc: 0.7050 - val_loss: 0.6087 - val_acc: 0.6934\n",
            "Epoch 3/10\n",
            "30366/30366 [==============================] - 75s 2ms/step - loss: 0.5374 - acc: 0.7436 - val_loss: 0.6147 - val_acc: 0.6810\n",
            "Epoch 4/10\n",
            "30366/30366 [==============================] - 75s 2ms/step - loss: 1.2557 - acc: 0.7673 - val_loss: 0.6567 - val_acc: 0.6503\n",
            "Epoch 5/10\n",
            "30366/30366 [==============================] - 75s 2ms/step - loss: 110.2474 - acc: 0.7795 - val_loss: 3.9578 - val_acc: 0.6659\n",
            "Epoch 6/10\n",
            "30366/30366 [==============================] - 74s 2ms/step - loss: 168.0427 - acc: 0.7866 - val_loss: 7.6520 - val_acc: 0.6554\n",
            "Epoch 7/10\n",
            "30366/30366 [==============================] - 74s 2ms/step - loss: 17409674.1946 - acc: 0.7942 - val_loss: 0.6762 - val_acc: 0.6506\n",
            "Epoch 8/10\n",
            "30366/30366 [==============================] - 75s 2ms/step - loss: 2392.6946 - acc: 0.8044 - val_loss: 77603.6309 - val_acc: 0.6513\n",
            "Epoch 9/10\n",
            "30366/30366 [==============================] - 75s 2ms/step - loss: 1407.1883 - acc: 0.8075 - val_loss: 35.8572 - val_acc: 0.6833\n",
            "Epoch 10/10\n",
            "30366/30366 [==============================] - 75s 2ms/step - loss: 31.0565 - acc: 0.8139 - val_loss: 0.7281 - val_acc: 0.6491\n"
          ],
          "name": "stdout"
        }
      ]
    },
    {
      "cell_type": "markdown",
      "metadata": {
        "id": "RWCxyOeMJN_i"
      },
      "source": [
        "# New Section"
      ]
    },
    {
      "cell_type": "code",
      "metadata": {
        "id": "v9PlRVjra95C",
        "colab": {
          "base_uri": "https://localhost:8080/",
          "height": 34
        },
        "outputId": "7d9a42b1-9875-4f9b-82dd-37a7db1f03fb"
      },
      "source": [
        "print(history.history.keys())"
      ],
      "execution_count": null,
      "outputs": [
        {
          "output_type": "stream",
          "text": [
            "dict_keys(['val_loss', 'val_acc', 'loss', 'acc'])\n"
          ],
          "name": "stdout"
        }
      ]
    },
    {
      "cell_type": "markdown",
      "metadata": {
        "id": "d9QVnRAMP33M"
      },
      "source": [
        "### Evaluation\n",
        "\n",
        "Now that we have trained our model, we can evaluate its accuracy. We plot the accuracy of our model using the test date. Note that accuracy and precision decays while recall and F1 drastically improve over epochs."
      ]
    },
    {
      "cell_type": "code",
      "metadata": {
        "id": "1djwsgHL9km7",
        "colab": {
          "base_uri": "https://localhost:8080/",
          "height": 423
        },
        "outputId": "05f487fb-5d7d-4059-ee21-7b6ccf9676fd"
      },
      "source": [
        "import matplotlib.pyplot as plt\n",
        "plt.figure(figsize=(8, 6))\n",
        "plt.plot(history.history['val_acc'])\n",
        "plt.title('Model Accuracy',fontsize=20)\n",
        "plt.ylabel('Accuracy',fontsize=20)\n",
        "plt.xlabel('Epochs',fontsize=20)\n",
        "plt.tick_params(labelsize=15)\n",
        "# plt.show()\n",
        "plt.savefig('model_accuracy.png')"
      ],
      "execution_count": null,
      "outputs": [
        {
          "output_type": "display_data",
          "data": {
            "image/png": "[encoded data removed]",
            "text/plain": [
              "<Figure size 576x432 with 1 Axes>"
            ]
          },
          "metadata": {
            "tags": [],
            "needs_background": "light"
          }
        }
      ]
    },
    {
      "cell_type": "markdown",
      "metadata": {
        "id": "qiwpVeNOREnu"
      },
      "source": [
        "Our confusion matrix shows that the correct label is most frequently assigned across all labels, but there is plenty of misclassification. Aside from non-optimal model selection and imbalanced data, we can reason that the data is very noisy (which we already knew), making it difficult for the model to learn from it. The number of messages used before oversampling was approximately 20000 out of the 1.3 million total messages in the data, and accuracy was still a problem. In conclusion, there is still a lot to improve upon in our cleaning methods and model selection."
      ]
    },
    {
      "cell_type": "code",
      "metadata": {
        "id": "FpDvLGoX9q0m",
        "colab": {
          "base_uri": "https://localhost:8080/",
          "height": 532
        },
        "outputId": "307985fe-0ceb-4cee-9e0c-d6946f3f8bb9"
      },
      "source": [
        "from sklearn.metrics import confusion_matrix\n",
        "import seaborn as sns\n",
        "\n",
        "\n",
        "y_pred = model.predict(X_test)\n",
        "y_pred_class = np.round(y_pred)\n",
        "y_true = y_test\n",
        "\n",
        "confusion = confusion_matrix(y_true, y_pred_class)\n",
        "\n",
        "f, ax = plt.subplots(figsize= (12,8))\n",
        "sns.heatmap(confusion, annot = True, cmap = \"YlGnBu\", ax = ax, xticklabels=['nonpositive','positive'], yticklabels=['nonpositive','positive'], annot_kws={\"size\": 20}, fmt= '.1f')\n",
        "\n",
        "plt.xlabel(\"Predicted Label\",fontsize=20)\n",
        "plt.ylabel(\"True Label\",fontsize=20)\n",
        "plt.title(\"Confusion Matrix\",fontsize=20)\n",
        "plt.tick_params(labelsize=15)\n",
        "\n",
        "plt.savefig('cm.png')"
      ],
      "execution_count": null,
      "outputs": [
        {
          "output_type": "display_data",
          "data": {
            "image/png": "[encoded data removed]",
            "text/plain": [
              "<Figure size 864x576 with 2 Axes>"
            ]
          },
          "metadata": {
            "tags": [],
            "needs_background": "light"
          }
        }
      ]
    },
    {
      "cell_type": "code",
      "metadata": {
        "id": "_ZI8-FGJU1HX"
      },
      "source": [],
      "execution_count": null,
      "outputs": []
    }
  ]
}