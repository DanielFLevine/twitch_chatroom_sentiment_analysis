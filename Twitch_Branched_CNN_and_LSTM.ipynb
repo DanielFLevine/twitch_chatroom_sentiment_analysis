{
  "nbformat": 4,
  "nbformat_minor": 0,
  "metadata": {
    "colab": {
      "provenance": [],
      "toc_visible": true
    },
    "kernelspec": {
      "name": "python3",
      "display_name": "Python 3"
    },
    "accelerator": "GPU"
  },
  "cells": [
    {
      "cell_type": "markdown",
      "metadata": {
        "id": "LyETJ2-UVZUP"
      },
      "source": [
        "# Using a Branched CNN and LSTM Model\n",
        "\n",
        "This notebook is essentially the same as the bidirectional LSTM notebook expect we use a branched neural network. Our model follows precisely the one used in [Deep CNN-LSTM with Combined Kernels from Multiple\n",
        "Branches for IMDb Review Sentiment Analysis](https://vermaabhi23.github.io/publication/2017UEMCON1.pdf) by Yenter and Verma. Their model outperformed existing models on the IMDB benchmark, so we tried using it here. Unfortunately it does not perform as well as the bidirectional LSTM, but branched neural networks may be something to explore in the future."
      ]
    },
    {
      "cell_type": "code",
      "metadata": {
        "id": "AAYLTVWvYmSr"
      },
      "source": [
        "#Comment this out if not in Google Colab\n",
        "%tensorflow_version 1.x"
      ],
      "execution_count": null,
      "outputs": []
    },
    {
      "cell_type": "code",
      "metadata": {
        "id": "Vn9XoZK_Ytiw"
      },
      "source": [
        "from __future__ import print_function\n",
        "import numpy as np\n",
        "\n",
        "from keras.preprocessing import sequence\n",
        "from keras.models import Sequential\n",
        "from keras.layers import Dense, Dropout, Embedding, LSTM, Bidirectional, Flatten, Input, BatchNormalization, Concatenate\n",
        "from keras.layers.convolutional import Conv1D\n",
        "from keras.layers.convolutional import MaxPooling1D\n",
        "from keras.optimizers import RMSprop\n",
        "from keras.regularizers import l2\n",
        "from keras.layers.embeddings import Embedding\n",
        "from keras.preprocessing import sequence\n",
        "from keras.models import Model\n",
        "import pandas as pd\n",
        "import os"
      ],
      "execution_count": null,
      "outputs": []
    },
    {
      "cell_type": "code",
      "metadata": {
        "id": "10OchAL1Ytc1"
      },
      "source": [
        "from google.colab import drive\n",
        "drive.mount('/content/drive', force_remount=True)"
      ],
      "execution_count": null,
      "outputs": []
    },
    {
      "cell_type": "code",
      "metadata": {
        "id": "f5t5GvHaYtbp"
      },
      "source": [
        "%cd /content/drive/My\\ Drive/"
      ],
      "execution_count": null,
      "outputs": []
    },
    {
      "cell_type": "code",
      "metadata": {
        "id": "m4-ThUafYtUZ",
        "outputId": "c438706f-5066-43b3-8e96-c852d60e38e6",
        "colab": {
          "base_uri": "https://localhost:8080/",
          "height": 255
        }
      },
      "source": [
        "import preprocessing\n",
        "df = preprocessing.emotes_to_labels('summit1g', 1000)\n",
        "print(df)"
      ],
      "execution_count": null,
      "outputs": [
        {
          "output_type": "stream",
          "text": [
            "                                                      body  lul  ...  kappa  4head\n",
            "21       [@thesocomsniper, if, you, think, oscp, is, ex...    1  ...      0      0\n",
            "238      [@summit1g, lot, of, stupid, people, on, the, ...    1  ...      0      0\n",
            "260                           [summit, not, in, the, bath]    1  ...      0      0\n",
            "367              [@summit1g, ramhh, has, a, better, badge]    1  ...      0      0\n",
            "610      [@summit1g, my, name, is, h1z1, and, im, utter...    1  ...      0      0\n",
            "...                                                    ...  ...  ...    ...    ...\n",
            "1349441                         [break, monitor, or, riot]    0  ...      1      0\n",
            "1349515                             [pleaaaaassseeee, !!!]    0  ...      0      0\n",
            "1349580   [hey, you, gonna, punch, your, camera, again, ?]    0  ...      1      0\n",
            "1349613            [@summit1g, punch, the, monitor, again]    1  ...      0      0\n",
            "1349706              [the, stupid, shit, board, i, forgot]    1  ...      0      0\n",
            "\n",
            "[20903 rows x 5 columns]\n"
          ],
          "name": "stdout"
        }
      ]
    },
    {
      "cell_type": "code",
      "metadata": {
        "id": "SOG9Q97-YtMv"
      },
      "source": [
        "Z = df['body'].values.tolist()"
      ],
      "execution_count": null,
      "outputs": []
    },
    {
      "cell_type": "code",
      "metadata": {
        "id": "xTkFBAN6YtKf"
      },
      "source": [
        "Z = [' '.join(i) for i in Z]"
      ],
      "execution_count": null,
      "outputs": []
    },
    {
      "cell_type": "code",
      "metadata": {
        "id": "KrRMpqOQaZOM"
      },
      "source": [
        "from keras.preprocessing.text import Tokenizer\n",
        "t = Tokenizer(num_words=5000, filters='', split=' ', oov_token=5001)\n",
        "t.fit_on_texts(Z)"
      ],
      "execution_count": null,
      "outputs": []
    },
    {
      "cell_type": "code",
      "metadata": {
        "id": "VGIQwA1bYtHQ"
      },
      "source": [
        "sequences = t.texts_to_sequences(Z)"
      ],
      "execution_count": null,
      "outputs": []
    },
    {
      "cell_type": "code",
      "metadata": {
        "id": "D6gdS1RRYtEh"
      },
      "source": [
        "from sklearn.model_selection import train_test_split\n",
        "X = sequences\n",
        "y = np.array(df.iloc[:,1:len(df.columns)])\n",
        "X_train, X_test, y_train, y_test = train_test_split(X, y, test_size=0.5, random_state=42, stratify = y)"
      ],
      "execution_count": null,
      "outputs": []
    },
    {
      "cell_type": "code",
      "metadata": {
        "id": "KuxkvTk2Y7n4"
      },
      "source": [
        "top_words = 5000\n",
        "max_words = 10\n",
        "X_train = sequence.pad_sequences(X_train, maxlen=max_words)\n",
        "X_test = sequence.pad_sequences(X_test, maxlen=max_words)"
      ],
      "execution_count": null,
      "outputs": []
    },
    {
      "cell_type": "code",
      "metadata": {
        "id": "M9H9oAT0l7LC"
      },
      "source": [
        "from imblearn.over_sampling import SMOTE\n",
        "oversample = SMOTE()\n",
        "X_train, y_train = oversample.fit_resample(X_train, y_train)\n",
        "X_test, y_test = oversample.fit_resample(X_test, y_test)"
      ],
      "execution_count": null,
      "outputs": []
    },
    {
      "cell_type": "code",
      "metadata": {
        "id": "q0MhD7U4Y7dL"
      },
      "source": [
        "rmsprop = RMSprop(lr=0.01, decay=0.1)\n",
        "\n",
        "model1 = Sequential()\n",
        "model1.add(Embedding(top_words, 32, input_length=max_words))\n",
        "model1.add(Conv1D(filters=128, kernel_size=3, activation='relu', kernel_regularizer=l2(0.01)))\n",
        "model1.add(MaxPooling1D(pool_size=2))\n",
        "model1.add(Dropout(0.5))\n",
        "model1.add(BatchNormalization())\n",
        "model1.add(LSTM(128))\n",
        "\n",
        "model2 = Sequential()\n",
        "model2.add(Embedding(top_words, 32, input_length=max_words))\n",
        "model2.add(Conv1D(filters=128, kernel_size=5, activation='relu', kernel_regularizer=l2(0.01)))\n",
        "model2.add(MaxPooling1D(pool_size=2))\n",
        "model2.add(Dropout(0.5))\n",
        "model2.add(BatchNormalization())\n",
        "model2.add(LSTM(128))\n",
        "\n",
        "model3 = Sequential()\n",
        "model3.add(Embedding(top_words, 32, input_length=max_words))\n",
        "model3.add(Conv1D(filters=128, kernel_size=7, activation='relu', kernel_regularizer=l2(0.01)))\n",
        "model3.add(MaxPooling1D(pool_size=2))\n",
        "model3.add(Dropout(0.5))\n",
        "model3.add(BatchNormalization())\n",
        "model3.add(LSTM(128))\n",
        "\n",
        "model4 = Sequential()\n",
        "model4.add(Embedding(top_words, 32, input_length=max_words))\n",
        "model4.add(Conv1D(filters=128, kernel_size=9, activation='relu', kernel_regularizer=l2(0.01)))\n",
        "model4.add(MaxPooling1D(pool_size=2))\n",
        "model4.add(Dropout(0.5))\n",
        "model4.add(BatchNormalization())\n",
        "model4.add(LSTM(128))\n",
        "\n",
        "merged = Concatenate()([model1.output,model2.output,model3.output,model4.output])\n",
        "merged = Dense(len(df.columns)-1, activation='softmax')(merged)\n",
        "model = Model([model1.input,model2.input,model3.input,model4.input], merged)"
      ],
      "execution_count": null,
      "outputs": []
    },
    {
      "cell_type": "code",
      "metadata": {
        "id": "ZxvuzgLPY7Xi",
        "outputId": "2739660a-4ddc-41c0-943e-8c49cfdb34d9",
        "colab": {
          "base_uri": "https://localhost:8080/",
          "height": 649
        }
      },
      "source": [
        "from keras import backend as K\n",
        "\n",
        "def recall_m(y_true, y_pred):\n",
        "    true_positives = K.sum(K.round(K.clip(y_true * y_pred, 0, 1)))\n",
        "    possible_positives = K.sum(K.round(K.clip(y_true, 0, 1)))\n",
        "    recall = true_positives / (possible_positives + K.epsilon())\n",
        "    return recall\n",
        "\n",
        "def precision_m(y_true, y_pred):\n",
        "    true_positives = K.sum(K.round(K.clip(y_true * y_pred, 0, 1)))\n",
        "    predicted_positives = K.sum(K.round(K.clip(y_pred, 0, 1)))\n",
        "    precision = true_positives / (predicted_positives + K.epsilon())\n",
        "    return precision\n",
        "\n",
        "def f1_m(y_true, y_pred):\n",
        "    precision = precision_m(y_true, y_pred)\n",
        "    recall = recall_m(y_true, y_pred)\n",
        "    return 2*((precision*recall)/(precision+recall+K.epsilon()))\n",
        "\n",
        "# compile the model\n",
        "model.compile(optimizer=rmsprop, loss='binary_crossentropy', metrics=['acc',f1_m,precision_m, recall_m])\n",
        "\n",
        "# fit the model\n",
        "history = model.fit([X_train,X_train,X_train,X_train], y_train, validation_data=([X_test,X_test,X_test,X_test], y_test), epochs=15, verbose=2)"
      ],
      "execution_count": null,
      "outputs": [
        {
          "output_type": "stream",
          "text": [
            "WARNING:tensorflow:From /tensorflow-1.15.2/python3.6/tensorflow_core/python/ops/math_grad.py:1424: where (from tensorflow.python.ops.array_ops) is deprecated and will be removed in a future version.\n",
            "Instructions for updating:\n",
            "Use tf.where in 2.0, which has the same broadcast rule as np.where\n",
            "WARNING:tensorflow:From /usr/local/lib/python3.6/dist-packages/keras/backend/tensorflow_backend.py:422: The name tf.global_variables is deprecated. Please use tf.compat.v1.global_variables instead.\n",
            "\n",
            "Train on 26460 samples, validate on 26464 samples\n",
            "Epoch 1/15\n",
            " - 32s - loss: 0.5612 - acc: 0.7551 - f1_m: 0.0782 - precision_m: 0.5907 - recall_m: 0.0428 - val_loss: 0.5351 - val_acc: 0.7568 - val_f1_m: 0.0775 - val_precision_m: 0.4759 - val_recall_m: 0.0434\n",
            "Epoch 2/15\n",
            " - 23s - loss: 0.5274 - acc: 0.7583 - f1_m: 0.1238 - precision_m: 0.6329 - recall_m: 0.0701 - val_loss: 0.5300 - val_acc: 0.7592 - val_f1_m: 0.1454 - val_precision_m: 0.5456 - val_recall_m: 0.0862\n",
            "Epoch 3/15\n",
            " - 23s - loss: 0.5188 - acc: 0.7621 - f1_m: 0.1689 - precision_m: 0.6579 - recall_m: 0.0989 - val_loss: 0.5282 - val_acc: 0.7598 - val_f1_m: 0.1704 - val_precision_m: 0.5502 - val_recall_m: 0.1037\n",
            "Epoch 4/15\n",
            " - 22s - loss: 0.5136 - acc: 0.7643 - f1_m: 0.1928 - precision_m: 0.6654 - recall_m: 0.1151 - val_loss: 0.5270 - val_acc: 0.7603 - val_f1_m: 0.1901 - val_precision_m: 0.5475 - val_recall_m: 0.1179\n",
            "Epoch 5/15\n",
            " - 23s - loss: 0.5092 - acc: 0.7663 - f1_m: 0.2163 - precision_m: 0.6654 - recall_m: 0.1316 - val_loss: 0.5262 - val_acc: 0.7605 - val_f1_m: 0.2013 - val_precision_m: 0.5413 - val_recall_m: 0.1267\n",
            "Epoch 6/15\n",
            " - 22s - loss: 0.5066 - acc: 0.7668 - f1_m: 0.2253 - precision_m: 0.6628 - recall_m: 0.1384 - val_loss: 0.5253 - val_acc: 0.7610 - val_f1_m: 0.2102 - val_precision_m: 0.5469 - val_recall_m: 0.1332\n",
            "Epoch 7/15\n",
            " - 22s - loss: 0.5033 - acc: 0.7688 - f1_m: 0.2420 - precision_m: 0.6684 - recall_m: 0.1506 - val_loss: 0.5250 - val_acc: 0.7611 - val_f1_m: 0.2186 - val_precision_m: 0.5494 - val_recall_m: 0.1397\n",
            "Epoch 8/15\n",
            " - 22s - loss: 0.5009 - acc: 0.7704 - f1_m: 0.2540 - precision_m: 0.6712 - recall_m: 0.1596 - val_loss: 0.5252 - val_acc: 0.7609 - val_f1_m: 0.2254 - val_precision_m: 0.5478 - val_recall_m: 0.1454\n",
            "Epoch 9/15\n",
            " - 23s - loss: 0.4999 - acc: 0.7702 - f1_m: 0.2589 - precision_m: 0.6621 - recall_m: 0.1636 - val_loss: 0.5244 - val_acc: 0.7616 - val_f1_m: 0.2306 - val_precision_m: 0.5493 - val_recall_m: 0.1495\n",
            "Epoch 10/15\n",
            " - 22s - loss: 0.4969 - acc: 0.7723 - f1_m: 0.2716 - precision_m: 0.6765 - recall_m: 0.1730 - val_loss: 0.5243 - val_acc: 0.7613 - val_f1_m: 0.2361 - val_precision_m: 0.5453 - val_recall_m: 0.1542\n",
            "Epoch 11/15\n",
            " - 22s - loss: 0.4961 - acc: 0.7723 - f1_m: 0.2759 - precision_m: 0.6712 - recall_m: 0.1768 - val_loss: 0.5240 - val_acc: 0.7613 - val_f1_m: 0.2394 - val_precision_m: 0.5446 - val_recall_m: 0.1569\n",
            "Epoch 12/15\n",
            " - 22s - loss: 0.4942 - acc: 0.7736 - f1_m: 0.2841 - precision_m: 0.6699 - recall_m: 0.1833 - val_loss: 0.5239 - val_acc: 0.7610 - val_f1_m: 0.2439 - val_precision_m: 0.5386 - val_recall_m: 0.1610\n",
            "Epoch 13/15\n",
            " - 22s - loss: 0.4931 - acc: 0.7735 - f1_m: 0.2874 - precision_m: 0.6640 - recall_m: 0.1866 - val_loss: 0.5240 - val_acc: 0.7609 - val_f1_m: 0.2434 - val_precision_m: 0.5436 - val_recall_m: 0.1604\n",
            "Epoch 14/15\n",
            " - 22s - loss: 0.4912 - acc: 0.7746 - f1_m: 0.2943 - precision_m: 0.6720 - recall_m: 0.1915 - val_loss: 0.5240 - val_acc: 0.7607 - val_f1_m: 0.2482 - val_precision_m: 0.5396 - val_recall_m: 0.1647\n",
            "Epoch 15/15\n",
            " - 22s - loss: 0.4903 - acc: 0.7751 - f1_m: 0.3005 - precision_m: 0.6732 - recall_m: 0.1967 - val_loss: 0.5239 - val_acc: 0.7606 - val_f1_m: 0.2505 - val_precision_m: 0.5397 - val_recall_m: 0.1666\n"
          ],
          "name": "stdout"
        }
      ]
    },
    {
      "cell_type": "code",
      "metadata": {
        "id": "ZpN8zt5AZrwe",
        "outputId": "12c3ba05-274f-4977-dbf1-5256e7187d57",
        "colab": {
          "base_uri": "https://localhost:8080/",
          "height": 295
        }
      },
      "source": [
        "import matplotlib.pyplot as plt\n",
        "plt.plot(history.history['val_f1_m'])\n",
        "plt.plot(history.history['val_acc'])\n",
        "plt.plot(history.history['val_precision_m'])\n",
        "plt.plot(history.history['val_recall_m'])\n",
        "plt.title('model accuracy')\n",
        "plt.ylabel('accuracy')\n",
        "plt.xlabel('epoch')\n",
        "plt.legend(['F1', 'Accuracy','Precision','Recall'], loc='upper left')\n",
        "plt.show()"
      ],
      "execution_count": null,
      "outputs": [
        {
          "output_type": "display_data",
          "data": {
            "image/png": "[encoded data removed]",
            "text/plain": [
              "<Figure size 432x288 with 1 Axes>"
            ]
          },
          "metadata": {
            "tags": [],
            "needs_background": "light"
          }
        }
      ]
    },
    {
      "cell_type": "code",
      "metadata": {
        "id": "jU_UWaRPbS_B",
        "colab": {
          "base_uri": "https://localhost:8080/",
          "height": 530
        },
        "outputId": "e12d6c23-7c6a-4b9b-d5b2-af24c896a2bb"
      },
      "source": [
        "from sklearn.metrics import confusion_matrix\n",
        "import seaborn as sns\n",
        "\n",
        "X = list(df.columns)\n",
        "print(X)\n",
        "\n",
        "y_pred = model.predict([X_test,X_test,X_test,X_test])\n",
        "y_pred_class = np.argmax(y_pred, axis = 1)\n",
        "y_true = np.argmax(y_test, axis = 1)\n",
        "\n",
        "confusion = confusion_matrix(y_true, y_pred_class)\n",
        "\n",
        "f, ax = plt.subplots(figsize= (12,8))\n",
        "sns.heatmap(confusion, annot = True, cmap = \"YlGnBu\", ax = ax, fmt= '.1f',xticklabels=X[1:], yticklabels=X[1:])\n",
        "\n",
        "plt.xlabel(\"Predicted Label\")\n",
        "plt.ylabel(\"True Label\")\n",
        "plt.title(\"Confusion Matrix\")\n",
        "\n",
        "plt.show()"
      ],
      "execution_count": null,
      "outputs": [
        {
          "output_type": "stream",
          "text": [
            "['body', 'lul', 'pogchamp', 'kappa', '4head']\n"
          ],
          "name": "stdout"
        },
        {
          "output_type": "display_data",
          "data": {
            "image/png": "[encoded data removed]",
            "text/plain": [
              "<Figure size 864x576 with 2 Axes>"
            ]
          },
          "metadata": {
            "tags": [],
            "needs_background": "light"
          }
        }
      ]
    }
  ]
}